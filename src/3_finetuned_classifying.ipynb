{
 "cells": [
  {
   "cell_type": "code",
   "execution_count": 14,
   "id": "6145724b",
   "metadata": {},
   "outputs": [],
   "source": [
    "import torch\n",
    "from transformers import BertTokenizer, BertForSequenceClassification\n",
    "import pandas as pd \n",
    "from transformers import AutoTokenizer, AutoModelForSequenceClassification \n",
    "import numpy as np\n",
    "import matplotlib.pyplot as plt\n",
    "\n",
    "def classify(model, tokenizer, texts, device=\"cuda:1\", logit_threshold=4):\n",
    "    # Set the model to evaluate mode\n",
    "    model.eval()\n",
    "\n",
    "    # Tokenize the input sentences and create input tensors for the model\n",
    "    inputs = tokenizer(\n",
    "            texts,\n",
    "            truncation=True,\n",
    "            add_special_tokens=True,\n",
    "            max_length=512,\n",
    "            padding='max_length',\n",
    "            return_tensors=\"pt\")\n",
    "\n",
    "    # Pass the inputs through the model to get the predicted labels\n",
    "    labels = []\n",
    "    with torch.no_grad():\n",
    "        outputs = model(inputs['input_ids'].to(device), attention_mask=inputs['attention_mask'].to(device))\n",
    "        logits = outputs.logits.detach().cpu().numpy()\n",
    "        # If the first logit is greater than 3, append 1 (True) to the labels list, else append 0 (False)\n",
    "        labels.append([1 if logit[0] > logit_threshold else 0 for logit in logits])\n",
    "\n",
    "    return labels\n",
    "\n",
    "def datapoints(df, model, tokenizer, logit):\n",
    "    labels = []\n",
    "    for i, row in df.iterrows():\n",
    "        labels.append(classify(model,tokenizer,row[\"text\"], logit_threshold=logit))\n",
    "    return labels\n",
    "    \n",
    " \n",
    "    \n",
    "    \n"
   ]
  },
  {
   "cell_type": "code",
   "execution_count": 36,
   "id": "48ed3edd",
   "metadata": {},
   "outputs": [],
   "source": [
    "model = \"/scratch/venia/socialgpt/venia_worker_vs_gpt/models/gpturk_transductive_size:766_intfloat/e5-base/checkpoint-576\"\n",
    "# model = \"/scratch/venia/socialgpt/venia_worker_vs_gpt/models/gpturk_inductive_size:182_intfloat/e5-base/checkpoint-460\"\n"
   ]
  },
  {
   "cell_type": "code",
   "execution_count": 23,
   "id": "b96afab4",
   "metadata": {},
   "outputs": [],
   "source": [
    "device = \"cuda:1\"\n",
    "df = pd.read_csv(\"../data/processed_responses.csv\")\n",
    "\n"
   ]
  },
  {
   "cell_type": "code",
   "execution_count": null,
   "id": "ce9244f5",
   "metadata": {},
   "outputs": [],
   "source": []
  },
  {
   "cell_type": "code",
   "execution_count": 38,
   "id": "c8a7b3b1",
   "metadata": {},
   "outputs": [],
   "source": [
    "worker_ids = pd.read_csv(\"../data/worker_id_summary.csv\")\n",
    "df = df.merge(worker_ids, on=\"summary\", how=\"inner\").drop_duplicates(subset=\"summary\")"
   ]
  },
  {
   "cell_type": "code",
   "execution_count": null,
   "id": "5a19aeb3",
   "metadata": {},
   "outputs": [],
   "source": []
  },
  {
   "cell_type": "code",
   "execution_count": 39,
   "id": "74a97aea",
   "metadata": {},
   "outputs": [],
   "source": [
    "# df = df[df[\"summary\"].map(len) > 20]"
   ]
  },
  {
   "cell_type": "code",
   "execution_count": null,
   "id": "979d73b8",
   "metadata": {},
   "outputs": [],
   "source": []
  },
  {
   "cell_type": "code",
   "execution_count": 40,
   "id": "f66f07c1",
   "metadata": {},
   "outputs": [],
   "source": [
    "df = df.rename({\"summary\":\"text\"}, axis=1)"
   ]
  },
  {
   "cell_type": "code",
   "execution_count": 41,
   "id": "d5098fdd",
   "metadata": {},
   "outputs": [],
   "source": [
    "mapping = {1: \"synthetic\", 0: \"real\"}"
   ]
  },
  {
   "cell_type": "markdown",
   "id": "9c5bd9c9",
   "metadata": {},
   "source": [
    "### Logit = 4"
   ]
  },
  {
   "cell_type": "code",
   "execution_count": 8,
   "id": "5a6ccc05",
   "metadata": {
    "scrolled": true
   },
   "outputs": [],
   "source": [
    "# df = pd.read_csv(\"/scratch/venia/socialgpt/SocialSynth/data/sarcasm/synth/Train-SynthReal.csv\").sample(10)\n",
    "model = AutoModelForSequenceClassification.from_pretrained(model).to(device)\n",
    "tokenizer = AutoTokenizer.from_pretrained(\"intfloat/e5-base\")\n",
    "labels = datapoints(df, model, tokenizer, 4)\n"
   ]
  },
  {
   "cell_type": "code",
   "execution_count": null,
   "id": "a4944792",
   "metadata": {},
   "outputs": [],
   "source": []
  },
  {
   "cell_type": "code",
   "execution_count": 9,
   "id": "a6387321",
   "metadata": {},
   "outputs": [],
   "source": [
    "df[\"predicted\"] = [mapping[k[0][0]] for k in labels]\n"
   ]
  },
  {
   "cell_type": "code",
   "execution_count": 10,
   "id": "070442af",
   "metadata": {},
   "outputs": [
    {
     "data": {
      "text/plain": [
       "predicted\n",
       "real         31\n",
       "synthetic    15\n",
       "Name: key_strokes, dtype: int64"
      ]
     },
     "execution_count": 10,
     "metadata": {},
     "output_type": "execute_result"
    }
   ],
   "source": [
    "df.groupby(\"predicted\")[\"key_strokes\"].count()"
   ]
  },
  {
   "cell_type": "code",
   "execution_count": 13,
   "id": "6da4f2bc",
   "metadata": {},
   "outputs": [
    {
     "data": {
      "text/plain": [
       "predicted\n",
       "real         28\n",
       "synthetic    14\n",
       "Name: key_strokes, dtype: int64"
      ]
     },
     "execution_count": 13,
     "metadata": {},
     "output_type": "execute_result"
    }
   ],
   "source": [
    "df.drop_duplicates(\"WorkerId\").groupby(\"predicted\")[\"key_strokes\"].count()"
   ]
  },
  {
   "cell_type": "code",
   "execution_count": null,
   "id": "9236826a",
   "metadata": {},
   "outputs": [],
   "source": [
    "df.to_csv(\"../data/processed_responses_with_predictions_abstract_level.csv\", index=False)"
   ]
  },
  {
   "cell_type": "code",
   "execution_count": null,
   "id": "526e3233",
   "metadata": {},
   "outputs": [],
   "source": []
  },
  {
   "cell_type": "markdown",
   "id": "ba20c8fd",
   "metadata": {},
   "source": [
    "## Logit = 0"
   ]
  },
  {
   "cell_type": "code",
   "execution_count": 17,
   "id": "1e9e4bcb",
   "metadata": {},
   "outputs": [],
   "source": [
    "# df = pd.read_csv(\"/scratch/venia/socialgpt/SocialSynth/data/sarcasm/synth/Train-SynthReal.csv\").sample(10)\n",
    "model = AutoModelForSequenceClassification.from_pretrained(model).to(device)\n",
    "tokenizer = AutoTokenizer.from_pretrained(\"intfloat/e5-base\")\n",
    "labels = datapoints(df, model, tokenizer, 0)\n"
   ]
  },
  {
   "cell_type": "code",
   "execution_count": 18,
   "id": "a1d6249e",
   "metadata": {},
   "outputs": [],
   "source": [
    "df[\"logit_0\"] = [mapping[k[0][0]] for k in labels]\n"
   ]
  },
  {
   "cell_type": "code",
   "execution_count": 19,
   "id": "e2a824e0",
   "metadata": {},
   "outputs": [
    {
     "data": {
      "text/plain": [
       "logit_0\n",
       "real         25\n",
       "synthetic    21\n",
       "Name: key_strokes, dtype: int64"
      ]
     },
     "execution_count": 19,
     "metadata": {},
     "output_type": "execute_result"
    }
   ],
   "source": [
    "df.groupby(\"logit_0\")[\"key_strokes\"].count()"
   ]
  },
  {
   "cell_type": "markdown",
   "id": "34d603a9",
   "metadata": {},
   "source": [
    "### Bootstrap the results: transductive"
   ]
  },
  {
   "cell_type": "code",
   "execution_count": 43,
   "id": "30d23eee",
   "metadata": {},
   "outputs": [],
   "source": [
    "model = \"/scratch/venia/socialgpt/venia_worker_vs_gpt/models/gpturk_transductive_size:766_intfloat/e5-base/checkpoint-576\"\n",
    "\n",
    "# df = pd.read_csv(\"/scratch/venia/socialgpt/SocialSynth/data/sarcasm/synth/Train-SynthReal.csv\").sample(10)\n",
    "model = AutoModelForSequenceClassification.from_pretrained(model).to(device)\n",
    "tokenizer = AutoTokenizer.from_pretrained(\"intfloat/e5-base\")\n"
   ]
  },
  {
   "cell_type": "code",
   "execution_count": 486,
   "id": "369439fd",
   "metadata": {},
   "outputs": [],
   "source": [
    "test = pd.read_json(\"../data/test_transductive.json\", orient=\"records\")"
   ]
  },
  {
   "cell_type": "code",
   "execution_count": 22,
   "id": "85d7f37b",
   "metadata": {},
   "outputs": [],
   "source": [
    "# bootstrap proportion synthetic\n",
    "synthetic_counts_4 = []\n",
    "\n",
    "for i in range(30):\n",
    "    temp = df.sample(frac=1, replace=True)\n",
    "    labels = datapoints(temp, model, tokenizer, 4)\n",
    "    \n",
    "    synth_count = 0\n",
    "    for label in labels:\n",
    "        prediction = mapping[label[0][0]]\n",
    "        if prediction == \"synthetic\":\n",
    "            synth_count += 1\n",
    "    \n",
    "    synthetic_counts_4.append(synth_count)"
   ]
  },
  {
   "cell_type": "code",
   "execution_count": 23,
   "id": "d5f8908d",
   "metadata": {},
   "outputs": [],
   "source": [
    "# bootstrap proportion synthetic\n",
    "synthetic_counts_0 = []\n",
    "\n",
    "for i in range(30):\n",
    "    temp = df.sample(frac=1, replace=True)\n",
    "    labels = datapoints(temp, model, tokenizer, 0)\n",
    "    \n",
    "    synth_count = 0\n",
    "    for label in labels:\n",
    "        prediction = mapping[label[0][0]]\n",
    "        if prediction == \"synthetic\":\n",
    "            synth_count += 1\n",
    "    \n",
    "    synthetic_counts_0.append(synth_count)"
   ]
  },
  {
   "cell_type": "code",
   "execution_count": 26,
   "id": "de8fd522",
   "metadata": {},
   "outputs": [
    {
     "data": {
      "text/plain": [
       "0.06268848914168744"
      ]
     },
     "execution_count": 26,
     "metadata": {},
     "output_type": "execute_result"
    }
   ],
   "source": [
    "frac = [k / len(df) for k in synthetic_counts_4]\n",
    "np.std(frac)"
   ]
  },
  {
   "cell_type": "code",
   "execution_count": 27,
   "id": "50ef32e9",
   "metadata": {},
   "outputs": [
    {
     "data": {
      "text/plain": [
       "0.07570990079193611"
      ]
     },
     "execution_count": 27,
     "metadata": {},
     "output_type": "execute_result"
    }
   ],
   "source": [
    "frac = [k / len(df) for k in synthetic_counts_0]\n",
    "np.std(frac)"
   ]
  },
  {
   "cell_type": "code",
   "execution_count": 522,
   "id": "a7eeaeab",
   "metadata": {},
   "outputs": [],
   "source": [
    "og_predictions = datapoints(test, model, tokenizer, 4)"
   ]
  },
  {
   "cell_type": "code",
   "execution_count": null,
   "id": "cccb78df",
   "metadata": {},
   "outputs": [],
   "source": []
  },
  {
   "cell_type": "code",
   "execution_count": 531,
   "id": "e82b48ad",
   "metadata": {},
   "outputs": [],
   "source": [
    "# bootstrap proportion synthetic\n",
    "all_labels = []\n",
    "\n",
    "for i in range(50):\n",
    "    temp = test.sample(frac=1, replace=True)\n",
    "    labels = datapoints(temp, model, tokenizer, 0)\n",
    "    all_labels.append([temp[\"labels\"].values.tolist(), labels])\n",
    "    \n",
    "#     test_counts.append(synth_count)"
   ]
  },
  {
   "cell_type": "code",
   "execution_count": 503,
   "id": "249a41ac",
   "metadata": {},
   "outputs": [],
   "source": [
    "from sklearn.metrics import f1_score, accuracy_score, precision_score, recall_score"
   ]
  },
  {
   "cell_type": "code",
   "execution_count": null,
   "id": "736e4073",
   "metadata": {},
   "outputs": [],
   "source": []
  },
  {
   "cell_type": "code",
   "execution_count": 541,
   "id": "660341ce",
   "metadata": {},
   "outputs": [
    {
     "name": "stdout",
     "output_type": "stream",
     "text": [
      "Original f1 score:  0.9887357940259479\n",
      "Original accuracy score:  0.9910714285714286\n",
      "Original precision score:  0.9939024390243902\n",
      "Original recall score:  0.9838709677419355\n"
     ]
    }
   ],
   "source": [
    "\n",
    "\n",
    "for l in [og_predictions]:\n",
    "    preds = [mapping[k[0][0]] for k in l]\n",
    "    y = test[\"labels\"]\n",
    "    \n",
    "    og_f1_score = f1_score(y, preds, average=\"macro\")\n",
    "    og_accuracy_score = accuracy_score(y, preds)\n",
    "    og_precision_score = precision_score(y, preds, average=\"macro\")\n",
    "    og_recall_score = recall_score(y, preds, average=\"macro\")\n",
    "    \n",
    "    print(\"Original f1 score: \", og_f1_score)\n",
    "    print(\"Original accuracy score: \", og_accuracy_score)\n",
    "    print(\"Original precision score: \", og_precision_score)\n",
    "    print(\"Original recall score: \", og_recall_score)\n",
    "\n",
    "    "
   ]
  },
  {
   "cell_type": "code",
   "execution_count": null,
   "id": "9010df84",
   "metadata": {},
   "outputs": [],
   "source": []
  },
  {
   "cell_type": "code",
   "execution_count": 533,
   "id": "3aee349f",
   "metadata": {},
   "outputs": [],
   "source": [
    "f1_scores = []\n",
    "accuracy_scores = []\n",
    "precision_scores = []\n",
    "recall_scores = []\n",
    "\n",
    "\n",
    "for l in all_labels:\n",
    "    preds = [mapping[k[0][0]] for k in l[1]]\n",
    "    y = l[0]\n",
    "    \n",
    "    f1_scores.append(f1_score(y, preds, average=\"macro\"))\n",
    "    accuracy_scores.append(accuracy_score(y, preds))\n",
    "    precision_scores.append(precision_score(y, preds, average=\"macro\"))\n",
    "    recall_scores.append(recall_score(y, preds, average=\"macro\"))\n",
    "\n",
    "for name, score in zip([\"f1\", \"accuracy\", \"precision\", \"recall\"], [f1_scores, accuracy_scores, precision_scores, recall_scores]):\n",
    "    print(name) \n",
    "    print(2*np.std(score))\n",
    "    \n",
    "    "
   ]
  },
  {
   "cell_type": "code",
   "execution_count": 543,
   "id": "3eed01d0",
   "metadata": {},
   "outputs": [
    {
     "name": "stdout",
     "output_type": "stream",
     "text": [
      "f1\n",
      "0.030714585004498626\n",
      "accuracy\n",
      "0.024849033981141386\n",
      "precision\n",
      "0.01725950481266866\n",
      "recall\n",
      "0.04103829506313947\n"
     ]
    }
   ],
   "source": []
  },
  {
   "cell_type": "markdown",
   "id": "db2b20b0",
   "metadata": {},
   "source": [
    "### Bootstrap the results: abstract-level"
   ]
  },
  {
   "cell_type": "code",
   "execution_count": 582,
   "id": "00309d87",
   "metadata": {},
   "outputs": [],
   "source": [
    "model = \"/scratch/venia/socialgpt/venia_worker_vs_gpt/models/gpturk_inductive_size:182_intfloat/e5-base/checkpoint-92\"\n",
    "\n",
    "# df = pd.read_csv(\"/scratch/venia/socialgpt/SocialSynth/data/sarcasm/synth/Train-SynthReal.csv\").sample(10)\n",
    "model = AutoModelForSequenceClassification.from_pretrained(model).to(device)\n",
    "tokenizer = AutoTokenizer.from_pretrained(\"intfloat/e5-base\")\n"
   ]
  },
  {
   "cell_type": "code",
   "execution_count": 583,
   "id": "8692417b",
   "metadata": {},
   "outputs": [],
   "source": [
    "test = pd.read_json(\"../data/test_inductive.json\", orient=\"records\")"
   ]
  },
  {
   "cell_type": "code",
   "execution_count": 584,
   "id": "bc926d08",
   "metadata": {},
   "outputs": [],
   "source": [
    "og_predictions = datapoints(test, model, tokenizer, 0)"
   ]
  },
  {
   "cell_type": "code",
   "execution_count": null,
   "id": "4d9aaf8e",
   "metadata": {},
   "outputs": [],
   "source": []
  },
  {
   "cell_type": "code",
   "execution_count": 588,
   "id": "55bf9ed6",
   "metadata": {},
   "outputs": [],
   "source": [
    "# bootstrap proportion synthetic\n",
    "all_labels_inductive = []\n",
    "\n",
    "for i in range(25):\n",
    "    temp = test.sample(frac=1, replace=True)\n",
    "    labels = datapoints(temp, model, tokenizer, 0)\n",
    "    all_labels_inductive.append([temp[\"labels\"].values.tolist(), labels])\n",
    "    "
   ]
  },
  {
   "cell_type": "code",
   "execution_count": 587,
   "id": "d9843ea3",
   "metadata": {},
   "outputs": [
    {
     "name": "stdout",
     "output_type": "stream",
     "text": [
      "Original f1 score:  0.9731481481481481\n",
      "Original accuracy score:  0.9770114942528736\n",
      "Original precision score:  0.9731481481481481\n",
      "Original recall score:  0.9731481481481481\n"
     ]
    }
   ],
   "source": [
    "for l in [og_predictions]:\n",
    "    preds = [mapping[k[0][0]] for k in l]\n",
    "    y = test[\"labels\"]\n",
    "    \n",
    "    og_f1_score = f1_score(y, preds, average=\"macro\")\n",
    "    og_accuracy_score = accuracy_score(y, preds)\n",
    "    og_precision_score = precision_score(y, preds, average=\"macro\")\n",
    "    og_recall_score = recall_score(y, preds, average=\"macro\")\n",
    "    \n",
    "    print(\"Original f1 score: \", og_f1_score)\n",
    "    print(\"Original accuracy score: \", og_accuracy_score)\n",
    "    print(\"Original precision score: \", og_precision_score)\n",
    "    print(\"Original recall score: \", og_recall_score)\n",
    "\n",
    "    "
   ]
  },
  {
   "cell_type": "code",
   "execution_count": 574,
   "id": "8d938d40",
   "metadata": {},
   "outputs": [
    {
     "name": "stdout",
     "output_type": "stream",
     "text": [
      "f1\n",
      "0.030714585004498626\n",
      "accuracy\n",
      "0.024849033981141386\n",
      "precision\n",
      "0.01725950481266866\n",
      "recall\n",
      "0.04103829506313947\n"
     ]
    }
   ],
   "source": [
    "f1_scores = []\n",
    "accuracy_scores = []\n",
    "precision_scores = []\n",
    "recall_scores = []\n",
    "\n",
    "\n",
    "for l in all_labels:\n",
    "    preds = [mapping[k[0][0]] for k in l[1]]\n",
    "    y = l[0]\n",
    "    \n",
    "    f1_scores.append(f1_score(y, preds, average=\"macro\"))\n",
    "    accuracy_scores.append(accuracy_score(y, preds))\n",
    "    precision_scores.append(precision_score(y, preds, average=\"macro\"))\n",
    "    recall_scores.append(recall_score(y, preds, average=\"macro\"))\n",
    "\n",
    "for name, score in zip([\"f1\", \"accuracy\", \"precision\", \"recall\"], [f1_scores, accuracy_scores, precision_scores, recall_scores]):\n",
    "    print(name) \n",
    "    print(2*np.std(score))\n",
    "    \n",
    "    "
   ]
  },
  {
   "cell_type": "markdown",
   "id": "ae2c9583",
   "metadata": {},
   "source": [
    "### Logit plot"
   ]
  },
  {
   "cell_type": "code",
   "execution_count": 44,
   "id": "d6509703",
   "metadata": {},
   "outputs": [],
   "source": [
    "all_logits = np.linspace(-7,7, 25)\n",
    "for logit in all_logits:\n",
    "    labels = datapoints(df, model, tokenizer, logit)\n",
    "    df[logit] = [mapping[k[0][0]] for k in labels]\n"
   ]
  },
  {
   "cell_type": "code",
   "execution_count": 45,
   "id": "3673e64e",
   "metadata": {},
   "outputs": [],
   "source": [
    "def process_col(col):\n",
    "    count_synthetic = df[df[col]==\"synthetic\"][col].count()\n",
    "    return count_synthetic / 46"
   ]
  },
  {
   "cell_type": "code",
   "execution_count": 46,
   "id": "3f436371",
   "metadata": {},
   "outputs": [],
   "source": [
    "prop_synthetic = []\n",
    "prop_synthetic2 = []\n",
    "\n",
    "\n",
    "for logit in all_logits:\n",
    "    prop_synthetic.append([np.exp(logit) / (1 + np.exp(logit)), process_col(logit)])\n",
    "    prop_synthetic2.append([logit, process_col(logit)])"
   ]
  },
  {
   "cell_type": "code",
   "execution_count": null,
   "id": "5534522d",
   "metadata": {},
   "outputs": [],
   "source": []
  },
  {
   "cell_type": "code",
   "execution_count": 47,
   "id": "832dde36",
   "metadata": {},
   "outputs": [
    {
     "data": {
      "text/plain": [
       "0.9820137900379085"
      ]
     },
     "execution_count": 47,
     "metadata": {},
     "output_type": "execute_result"
    }
   ],
   "source": [
    "np.exp(4) / (1 + np.exp(4))"
   ]
  },
  {
   "cell_type": "code",
   "execution_count": 51,
   "id": "63e7e2b8",
   "metadata": {},
   "outputs": [
    {
     "data": {
      "image/png": "[encoded data removed]",
      "text/plain": [
       "<Figure size 600x400 with 1 Axes>"
      ]
     },
     "metadata": {},
     "output_type": "display_data"
    }
   ],
   "source": [
    "x = [k[0] for k in prop_synthetic][2:-1]\n",
    "y = [k[1] for k in prop_synthetic][2:-1]\n",
    "\n",
    "fig, ax = plt.subplots(figsize=(6,4))\n",
    "ax.plot(x, y, color=\"#44a5c2\", linewidth=3)\n",
    "\n",
    "\n",
    "ax.set_ylabel(\"Fraction classified synthetic\", fontsize=16)\n",
    "ax.set_xlabel(\"Probability\", fontsize=16)\n",
    "ax.tick_params(labelsize=14)\n",
    "ax.spines[['right', 'top']].set_visible(False)\n",
    "\n",
    "# ax.axhline(0.333, xmax=.76, linestyle=\"--\", color=\"black\", alpha=.5, linewidth=2)\n",
    "\n",
    "# ax.legend(frameon=False, fontsize=13)\n",
    "# ax.text(x=3.6, y=.9, s=\"Our cutoff\", ha=\"right\", fontsize = 15)\n",
    "ax.annotate(text=\"Our cutoff\", xy=(4,-0.05), xytext=(3.3,.1), fontsize = 15,arrowprops=dict(facecolor='black', width=.3, headwidth=5, headlength=6),\n",
    "            horizontalalignment='right')\n",
    "\n",
    "\n",
    "# plt.savefig(\"../visuals/probability_plot.pdf\", dpi=300, bbox_inches=\"tight\")\n",
    "\n",
    "plt.show()"
   ]
  },
  {
   "cell_type": "code",
   "execution_count": 52,
   "id": "8594696d",
   "metadata": {},
   "outputs": [
    {
     "data": {
      "image/png": "[encoded data removed]",
      "text/plain": [
       "<Figure size 600x400 with 1 Axes>"
      ]
     },
     "metadata": {},
     "output_type": "display_data"
    }
   ],
   "source": [
    "x = [k[0] for k in prop_synthetic2][2:-1]\n",
    "y = [k[1] for k in prop_synthetic2][2:-1]\n",
    "\n",
    "fig, ax = plt.subplots(figsize=(6,4))\n",
    "ax.plot(x, y, color=\"#44a5c2\", linewidth=3)\n",
    "\n",
    "\n",
    "ax.set_ylabel(\"Fraction classified synthetic\", fontsize=16)\n",
    "ax.set_xlabel(\"Logit\", fontsize=16)\n",
    "ax.tick_params(labelsize=14)\n",
    "ax.spines[['right', 'top']].set_visible(False)\n",
    "\n",
    "ax.axvline(4, ymax=.34, linestyle=\"--\", color=\"black\", alpha=.5, linewidth=2)\n",
    "# ax.axhline(0.333, xmax=.76, linestyle=\"--\", color=\"black\", alpha=.5, linewidth=2)\n",
    "\n",
    "# ax.legend(frameon=False, fontsize=13)\n",
    "# ax.text(x=3.6, y=.9, s=\"Our cutoff\", ha=\"right\", fontsize = 15)\n",
    "ax.annotate(text=\"Our cutoff\", xy=(4,-0.05), xytext=(3.3,.1), fontsize = 15,arrowprops=dict(facecolor='black', width=.3, headwidth=5, headlength=6),\n",
    "            horizontalalignment='right')\n",
    "\n",
    "\n",
    "# plt.savefig(\"../visuals/logit_plot.pdf\", dpi=300, bbox_inches=\"tight\")\n",
    "\n",
    "plt.show()"
   ]
  },
  {
   "cell_type": "markdown",
   "id": "208cb812",
   "metadata": {},
   "source": [
    "## Plot predictions"
   ]
  },
  {
   "cell_type": "code",
   "execution_count": 229,
   "id": "02e6a5cd",
   "metadata": {},
   "outputs": [
    {
     "data": {
      "image/png": "[encoded data removed]",
      "text/plain": [
       "<Figure size 700x400 with 1 Axes>"
      ]
     },
     "metadata": {},
     "output_type": "display_data"
    }
   ],
   "source": [
    "import numpy as np\n",
    "import matplotlib.pyplot as plt\n",
    "import seaborn as sns\n",
    "\n",
    "# Ensure the seaborn style is used\n",
    "sns.set()\n",
    "\n",
    "# Define the labels and proportions for each category\n",
    "categories = ['Real', 'Synthetic']\n",
    "model_prediction = [33/(13+35), 15/(13+35)]\n",
    "copy_paste_detection = [5/(43+5), 43/(43+5)]\n",
    "\n",
    "# Plotting\n",
    "barWidth = 0.35\n",
    "r1 = np.arange(len(categories)) # positions for first group of bars\n",
    "r2 = [x + barWidth for x in r1] # positions for second group of bars\n",
    "\n",
    "plt.figure(figsize=(7,4))\n",
    "\n",
    "# Create bars for Model Prediction\n",
    "plt.bar(r1, model_prediction, color='b', edgecolor='b', width=barWidth, label='Model Prediction')\n",
    "\n",
    "# Create bars for Copy-Paste Detection (next to Model Prediction)\n",
    "plt.bar(r2, copy_paste_detection, color='r', edgecolor='r', width=barWidth, label='Copy-Paste Detection')\n",
    "\n",
    "# Custom x axis\n",
    "plt.xticks([r + barWidth/2 for r in range(len(categories))], categories, fontsize=15) # use fontsize\n",
    "plt.yticks(fontsize=15)\n",
    "# plt.xlabel(\"Category\", fontsize=15)\n",
    "plt.ylabel(\"Proportion of Texts\", fontsize=17)\n",
    "\n",
    "# plt.title(\"Proportions of Real and Synthetic Texts Detected by Different Methods\", fontsize=18)\n",
    "\n",
    "plt.legend(fontsize=13, frameon=False)\n",
    "\n",
    "\n",
    "plt.savefig(\"../visuals/detection.pdf\", dpi=300, bbox_inches='tight')\n",
    "plt.show()"
   ]
  },
  {
   "cell_type": "markdown",
   "id": "c35c5666",
   "metadata": {},
   "source": [
    "# Bar plot"
   ]
  },
  {
   "cell_type": "code",
   "execution_count": 28,
   "id": "0fc0cbc3",
   "metadata": {},
   "outputs": [],
   "source": [
    "new = pd.read_csv(\"../data/processed_responses_with_predictions3.csv\").drop(\"HITId\", axis=1)"
   ]
  },
  {
   "cell_type": "code",
   "execution_count": 20,
   "id": "5b2045ab",
   "metadata": {},
   "outputs": [
    {
     "name": "stderr",
     "output_type": "stream",
     "text": [
      "/tmp/ipykernel_3566566/3992347602.py:26: SettingWithCopyWarning: \n",
      "A value is trying to be set on a copy of a slice from a DataFrame.\n",
      "Try using .loc[row_indexer,col_indexer] = value instead\n",
      "\n",
      "See the caveats in the documentation: https://pandas.pydata.org/pandas-docs/stable/user_guide/indexing.html#returning-a-view-versus-a-copy\n",
      "  copied[\"common_substr\"] = common_substr\n",
      "/tmp/ipykernel_3566566/3992347602.py:30: SettingWithCopyWarning: \n",
      "A value is trying to be set on a copy of a slice from a DataFrame.\n",
      "Try using .loc[row_indexer,col_indexer] = value instead\n",
      "\n",
      "See the caveats in the documentation: https://pandas.pydata.org/pandas-docs/stable/user_guide/indexing.html#returning-a-view-versus-a-copy\n",
      "  copied[\"original_length\"] = copied[\"original_text\"].apply(lambda x: len(tokenizer.tokenize(x)))\n",
      "/tmp/ipykernel_3566566/3992347602.py:31: SettingWithCopyWarning: \n",
      "A value is trying to be set on a copy of a slice from a DataFrame.\n",
      "Try using .loc[row_indexer,col_indexer] = value instead\n",
      "\n",
      "See the caveats in the documentation: https://pandas.pydata.org/pandas-docs/stable/user_guide/indexing.html#returning-a-view-versus-a-copy\n",
      "  copied[\"text_length\"] = copied[\"text\"].apply(lambda x: len(tokenizer.tokenize(x)))\n",
      "/tmp/ipykernel_3566566/3992347602.py:33: SettingWithCopyWarning: \n",
      "A value is trying to be set on a copy of a slice from a DataFrame.\n",
      "Try using .loc[row_indexer,col_indexer] = value instead\n",
      "\n",
      "See the caveats in the documentation: https://pandas.pydata.org/pandas-docs/stable/user_guide/indexing.html#returning-a-view-versus-a-copy\n",
      "  copied[\"prop_copied\"] = copied[\"common_substr\"] / copied[\"text_length\"]\n"
     ]
    }
   ],
   "source": [
    "from string2string.alignment import LongestCommonSubsequence, LongestCommonSubstring\n",
    "from string2string.distance import JaccardIndex\n",
    "from string2string.misc.default_tokenizer import Tokenizer\n",
    "\n",
    "def measure_substr_length(gen, k):\n",
    "    lcsubsequence = LongestCommonSubstring()\n",
    "    \n",
    "    tokenizer = Tokenizer(word_delimiter=' ')\n",
    "\n",
    "    gen_token = tokenizer.tokenize(gen)\n",
    "    k_token = tokenizer.tokenize(k)\n",
    "    \n",
    "    \n",
    "    length, candidates = lcsubsequence.compute(\n",
    "        str1=gen_token,\n",
    "        str2=k_token,\n",
    "        returnCandidates=False,\n",
    "    )\n",
    "    return length \n",
    "\n",
    "copied = new[new[\"copied\"] == True]\n",
    "common_substr = []\n",
    "for i, row in copied.iterrows():\n",
    "    common_substr.append(measure_substr_length(row[\"original_text\"], row[\"text\"]))\n",
    "    \n",
    "copied[\"common_substr\"] = common_substr\n",
    "\n",
    "tokenizer = Tokenizer(word_delimiter=' ')\n",
    "\n",
    "copied[\"original_length\"] = copied[\"original_text\"].apply(lambda x: len(tokenizer.tokenize(x)))\n",
    "copied[\"text_length\"] = copied[\"text\"].apply(lambda x: len(tokenizer.tokenize(x)))\n",
    "\n",
    "copied[\"prop_copied\"] = copied[\"common_substr\"] / copied[\"text_length\"]\n",
    "\n",
    "copied.sort_values(by = \"prop_copied\").sort_values(by = \"prop_copied\")\n",
    "\n",
    "\n",
    "copied=copied.drop_duplicates()"
   ]
  },
  {
   "cell_type": "code",
   "execution_count": 31,
   "id": "e0270dd5",
   "metadata": {},
   "outputs": [
    {
     "data": {
      "text/plain": [
       "<matplotlib.legend.Legend at 0x7f40447043d0>"
      ]
     },
     "execution_count": 31,
     "metadata": {},
     "output_type": "execute_result"
    },
    {
     "data": {
      "image/png": "[encoded data removed]",
      "text/plain": [
       "<Figure size 600x400 with 1 Axes>"
      ]
     },
     "metadata": {},
     "output_type": "display_data"
    }
   ],
   "source": [
    "import numpy as np\n",
    "import matplotlib.pyplot as plt\n",
    "import pandas as pd\n",
    "\n",
    "proportion_copied = copied.sort_values(by = \"prop_copied\")\n",
    "\n",
    "# Create bins for 'prop_copied' values\n",
    "bins = np.linspace(proportion_copied[\"prop_copied\"].min(), proportion_copied[\"prop_copied\"].max(), 11)\n",
    "\n",
    "\n",
    "\n",
    "# Cut 'prop_copied' into bins and count the n\n",
    "# bins = np.arange(0.1, 1.1, 0.1)\n",
    "\n",
    "real_data = proportion_copied[proportion_copied[\"predicted\"] == \"real\"][\"prop_copied\"].groupby(pd.cut(proportion_copied[proportion_copied[\"predicted\"] == \"real\"][\"prop_copied\"], bins, labels=False)).count()\n",
    "synthetic_data = proportion_copied[proportion_copied[\"predicted\"] == \"synthetic\"][\"prop_copied\"].groupby(pd.cut(proportion_copied[proportion_copied[\"predicted\"] == \"synthetic\"][\"prop_copied\"], bins, labels=False)).count()\n",
    "\n",
    "real_data.fillna(0, inplace=True)\n",
    "synthetic_data.fillna(0, inplace=True)\n",
    "\n",
    "concatted = pd.concat([real_data, synthetic_data], axis=1).fillna(0)\n",
    "concatted.columns = [\"real\", \"synthetic\"]\n",
    "concatted = concatted.sort_index()\n",
    "concatted.index = np.round(concatted.index / 10 + .1, 1)\n",
    "\n",
    "fig, ax = plt.subplots(figsize=(6,4))\n",
    "\n",
    "# Set bar width\n",
    "bar_width = 0.45\n",
    "\n",
    "# Create two arrays for the positions of the bars on the x-axis\n",
    "r1 = np.arange(len(concatted[\"real\"]))\n",
    "r2 = [x + bar_width for x in r1]\n",
    "\n",
    "# Plot 'real' data\n",
    "ax.bar(r1, concatted[\"real\"], color='#44a5c2', width=bar_width, edgecolor=\"black\", label='classified as real')\n",
    "\n",
    "# Plot 'synthetic' data\n",
    "ax.bar(np.array(r2)-bar_width*2, concatted[\"synthetic\"], color='#ffae49', width=bar_width, edgecolor=\"black\", label='classified as synthetic')\n",
    "\n",
    "# Label the x-axis with the categories\n",
    "ax.set_xticks([r + bar_width / 2 for r in range(len(concatted[\"real\"]))])\n",
    "ax.set_xticklabels(concatted.index.astype(str))\n",
    "\n",
    "# ax.set_xticklabels([\"%.1f\" % (i) for i in bins[:-1]])\n",
    "\n",
    "ax.set_ylabel(\"Count\", fontsize=16)\n",
    "ax.set_xlabel(\"Proportion copied from abstract\", fontsize=16)\n",
    "ax.tick_params(labelsize=14)\n",
    "ax.spines[['right', 'top']].set_visible(False)\n",
    "ax.legend(frameon=False, fontsize=13)\n",
    "\n",
    "# plt.savefig(\"../visuals/proportion_copied_side_by_side.pdf\", dpi=300, bbox_inches=\"tight\")"
   ]
  },
  {
   "cell_type": "code",
   "execution_count": null,
   "id": "3ae4b7af",
   "metadata": {},
   "outputs": [],
   "source": []
  },
  {
   "cell_type": "markdown",
   "id": "14b06b8d",
   "metadata": {},
   "source": [
    "## Exploring length"
   ]
  },
  {
   "cell_type": "code",
   "execution_count": 10,
   "id": "aff126ac",
   "metadata": {},
   "outputs": [],
   "source": [
    "new = pd.read_csv(\"../data/processed_responses_with_predictions3.csv\").drop(\"HITId\", axis=1)\n"
   ]
  },
  {
   "cell_type": "code",
   "execution_count": 11,
   "id": "7518b20c",
   "metadata": {},
   "outputs": [],
   "source": [
    "new[\"text_length\"] = new[\"text\"].apply(lambda x: len(x))"
   ]
  },
  {
   "cell_type": "code",
   "execution_count": 12,
   "id": "a65b0ed9",
   "metadata": {},
   "outputs": [],
   "source": [
    "def construct_simple_length_based_label(x):\n",
    "    if x >= 900:\n",
    "        return \"real\"\n",
    "    else:\n",
    "        return \"synthetic\""
   ]
  },
  {
   "cell_type": "code",
   "execution_count": null,
   "id": "39a381ad",
   "metadata": {},
   "outputs": [],
   "source": []
  },
  {
   "cell_type": "code",
   "execution_count": 21,
   "id": "82c48981",
   "metadata": {},
   "outputs": [
    {
     "data": {
      "text/plain": [
       "<matplotlib.legend.Legend at 0x7f9fa190e940>"
      ]
     },
     "execution_count": 21,
     "metadata": {},
     "output_type": "execute_result"
    },
    {
     "data": {
      "image/png": "[encoded data removed]",
      "text/plain": [
       "<Figure size 640x480 with 1 Axes>"
      ]
     },
     "metadata": {},
     "output_type": "display_data"
    }
   ],
   "source": [
    "fig, ax = plt.subplots()\n",
    "\n",
    "bins = np.linspace(new[\"text_length\"].min(), new[\"text_length\"].max(), 100)\n",
    "\n",
    "x1 = new[new[\"predicted\"]==\"real\"][\"text_length\"]\n",
    "x2 = new[new[\"predicted\"]==\"synthetic\"][\"text_length\"]\n",
    "\n",
    "ax.hist(x1, bins, label=\"Classified real\", alpha=0.5)\n",
    "ax.hist(x2, bins, label=\"Classified synthetic\", alpha=0.5)\n",
    "\n",
    "ax.set_ylabel(\"Count\")\n",
    "ax.set_xlabel(\"Summary length\")\n",
    "\n",
    "ax.legend()"
   ]
  },
  {
   "cell_type": "code",
   "execution_count": 22,
   "id": "92a539ad",
   "metadata": {},
   "outputs": [
    {
     "data": {
      "text/plain": [
       "<matplotlib.legend.Legend at 0x7f9fa169b430>"
      ]
     },
     "execution_count": 22,
     "metadata": {},
     "output_type": "execute_result"
    },
    {
     "data": {
      "image/png": "[encoded data removed]",
      "text/plain": [
       "<Figure size 640x480 with 1 Axes>"
      ]
     },
     "metadata": {},
     "output_type": "display_data"
    }
   ],
   "source": [
    "fig, ax = plt.subplots()\n",
    "\n",
    "bins = np.linspace(copied[\"text_length\"].min(), copied[\"text_length\"].max(), 100)\n",
    "\n",
    "\n",
    "x1 = copied[copied[\"predicted\"]==\"real\"][\"text_length\"]\n",
    "x2 = copied[copied[\"predicted\"]==\"synthetic\"][\"text_length\"]\n",
    "\n",
    "ax.hist(x1, bins, label=\"Classified real\", alpha=0.5)\n",
    "ax.hist(x2, bins, label=\"Classified synthetic\", alpha=0.5)\n",
    "\n",
    "ax.set_ylabel(\"Count\")\n",
    "ax.set_xlabel(\"Summary length (words)\")\n",
    "\n",
    "ax.legend()"
   ]
  },
  {
   "cell_type": "code",
   "execution_count": null,
   "id": "080da9ed",
   "metadata": {},
   "outputs": [],
   "source": []
  }
 ],
 "metadata": {
  "kernelspec": {
   "display_name": "Python 3 (ipykernel)",
   "language": "python",
   "name": "python3"
  },
  "language_info": {
   "codemirror_mode": {
    "name": "ipython",
    "version": 3
   },
   "file_extension": ".py",
   "mimetype": "text/x-python",
   "name": "python",
   "nbconvert_exporter": "python",
   "pygments_lexer": "ipython3",
   "version": "3.9.16"
  }
 },
 "nbformat": 4,
 "nbformat_minor": 5
}
