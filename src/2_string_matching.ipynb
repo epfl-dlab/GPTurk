{
 "cells": [
  {
   "cell_type": "code",
   "execution_count": 410,
   "id": "0b668e5c",
   "metadata": {},
   "outputs": [],
   "source": [
    "import pandas as pd\n",
    "import re\n",
    "import matplotlib.pyplot as plt\n",
    "\n",
    "from string2string.alignment import LongestCommonSubsequence\n",
    "from string2string.distance import JaccardIndex\n",
    "\n"
   ]
  },
  {
   "cell_type": "code",
   "execution_count": 411,
   "id": "c1264945",
   "metadata": {},
   "outputs": [],
   "source": [
    "generated = pd.read_csv(\"../data/generated_outputs.csv\")\n",
    "# generated = generated[temperatures].melt().rename({\"variable\": \"temperature\", \"value\": \"text\"}, axis=1)"
   ]
  },
  {
   "cell_type": "code",
   "execution_count": 412,
   "id": "67c7cf35",
   "metadata": {},
   "outputs": [],
   "source": [
    "original = pd.read_csv(\"../summaries.csv\")"
   ]
  },
  {
   "cell_type": "code",
   "execution_count": 413,
   "id": "a6567709",
   "metadata": {},
   "outputs": [],
   "source": [
    "new = pd.read_csv(\"../data/processed_responses.csv\").drop(\"HITId\", axis=1)"
   ]
  },
  {
   "cell_type": "code",
   "execution_count": 414,
   "id": "ec1d02c3",
   "metadata": {},
   "outputs": [],
   "source": [
    "qids = pd.read_csv(\"../data/qids.csv\")"
   ]
  },
  {
   "cell_type": "code",
   "execution_count": 415,
   "id": "d9baf965",
   "metadata": {},
   "outputs": [],
   "source": [
    "temperatures = [str(k) for k in [0.3, 0.5, 0.7, 0.9, 1]]"
   ]
  },
  {
   "cell_type": "code",
   "execution_count": 416,
   "id": "8e2fd41c",
   "metadata": {},
   "outputs": [],
   "source": [
    "generated[\"texts\"] = generated[\"texts\"].apply(lambda x: x[4:20]).str.lower()\n",
    "qids[\"question\"] = qids[\"question\"].apply(lambda x: x[4:20]).str.lower()"
   ]
  },
  {
   "cell_type": "code",
   "execution_count": 417,
   "id": "d5fedee0",
   "metadata": {},
   "outputs": [],
   "source": [
    "new[\"original_text\"] = new[\"original_text\"].apply(lambda x: x[4:20]).str.lower()"
   ]
  },
  {
   "cell_type": "code",
   "execution_count": 418,
   "id": "4978fdc1",
   "metadata": {},
   "outputs": [],
   "source": [
    "original = original[[\"Question\", \"Answer\"]]"
   ]
  },
  {
   "cell_type": "code",
   "execution_count": null,
   "id": "56c1a7f1",
   "metadata": {},
   "outputs": [],
   "source": []
  },
  {
   "cell_type": "code",
   "execution_count": 419,
   "id": "c60fb5bd",
   "metadata": {},
   "outputs": [],
   "source": [
    "new = new.merge(qids, left_on=\"original_text\", right_on=\"question\")[[\"HITId\",\"summary\"]]"
   ]
  },
  {
   "cell_type": "code",
   "execution_count": null,
   "id": "0f5da3ef",
   "metadata": {},
   "outputs": [],
   "source": []
  },
  {
   "cell_type": "code",
   "execution_count": 438,
   "id": "77f88e43",
   "metadata": {},
   "outputs": [],
   "source": [
    "new = new[new[\"summary\"].map(len) > 150]"
   ]
  },
  {
   "cell_type": "code",
   "execution_count": 440,
   "id": "802c62b6",
   "metadata": {},
   "outputs": [],
   "source": [
    "generated = generated.merge(qids, left_on=\"texts\", right_on=\"question\")[[\"HITId\"] + temperatures].melt(id_vars = \"HITId\").rename({\"value\":\"generated\"}, axis=1)"
   ]
  },
  {
   "cell_type": "code",
   "execution_count": 422,
   "id": "a7bb9d7b",
   "metadata": {},
   "outputs": [],
   "source": [
    "generated = generated[generated[\"variable\"].str.contains(\"0.7|1\")]"
   ]
  },
  {
   "cell_type": "code",
   "execution_count": 455,
   "id": "e03389e6",
   "metadata": {},
   "outputs": [
    {
     "data": {
      "text/html": [
       "<div>\n",
       "<style scoped>\n",
       "    .dataframe tbody tr th:only-of-type {\n",
       "        vertical-align: middle;\n",
       "    }\n",
       "\n",
       "    .dataframe tbody tr th {\n",
       "        vertical-align: top;\n",
       "    }\n",
       "\n",
       "    .dataframe thead th {\n",
       "        text-align: right;\n",
       "    }\n",
       "</style>\n",
       "<table border=\"1\" class=\"dataframe\">\n",
       "  <thead>\n",
       "    <tr style=\"text-align: right;\">\n",
       "      <th></th>\n",
       "      <th>HITId</th>\n",
       "      <th>summary</th>\n",
       "    </tr>\n",
       "  </thead>\n",
       "  <tbody>\n",
       "    <tr>\n",
       "      <th>0</th>\n",
       "      <td>NEJMoa0804748</td>\n",
       "      <td>Because carbs usually provide over half of cal...</td>\n",
       "    </tr>\n",
       "    <tr>\n",
       "      <th>1</th>\n",
       "      <td>NEJMoa0804748</td>\n",
       "      <td>A study was conducted to compare the effective...</td>\n",
       "    </tr>\n",
       "    <tr>\n",
       "      <th>2</th>\n",
       "      <td>NEJMoa0804748</td>\n",
       "      <td>This two-year study found that diets varying i...</td>\n",
       "    </tr>\n",
       "    <tr>\n",
       "      <th>3</th>\n",
       "      <td>NEJMoa1000727</td>\n",
       "      <td>Effect of Screening Mammography on Breast-Canc...</td>\n",
       "    </tr>\n",
       "    <tr>\n",
       "      <th>4</th>\n",
       "      <td>NEJMoa1000727</td>\n",
       "      <td>A study in Norway found that screening mammogr...</td>\n",
       "    </tr>\n",
       "    <tr>\n",
       "      <th>5</th>\n",
       "      <td>NEJMoa1000727</td>\n",
       "      <td>The Norwegian breast-cancer screening program ...</td>\n",
       "    </tr>\n",
       "    <tr>\n",
       "      <th>6</th>\n",
       "      <td>NEJMoa1102287</td>\n",
       "      <td>Exciting news from a study on a malaria vaccin...</td>\n",
       "    </tr>\n",
       "    <tr>\n",
       "      <th>7</th>\n",
       "      <td>NEJMoa1102287</td>\n",
       "      <td>A phase 3 study of the malaria vaccine RTS, S/...</td>\n",
       "    </tr>\n",
       "    <tr>\n",
       "      <th>8</th>\n",
       "      <td>NEJMoa1102287</td>\n",
       "      <td>A phase 3 trial of the RTS, S/AS01 malaria vac...</td>\n",
       "    </tr>\n",
       "    <tr>\n",
       "      <th>9</th>\n",
       "      <td>NEJMoa1003833</td>\n",
       "      <td>Azithromycin is a broad-spectrum macrolide ant...</td>\n",
       "    </tr>\n",
       "    <tr>\n",
       "      <th>10</th>\n",
       "      <td>NEJMoa1003833</td>\n",
       "      <td>During 5 days of therapy, patients taking azit...</td>\n",
       "    </tr>\n",
       "    <tr>\n",
       "      <th>11</th>\n",
       "      <td>NEJMoa1003833</td>\n",
       "      <td>azithromycin is an antibiotic that doctors use...</td>\n",
       "    </tr>\n",
       "    <tr>\n",
       "      <th>12</th>\n",
       "      <td>NEJMoa1003114</td>\n",
       "      <td>Sibutramine is a weight loss drug that has bee...</td>\n",
       "    </tr>\n",
       "    <tr>\n",
       "      <th>13</th>\n",
       "      <td>NEJMoa1003114</td>\n",
       "      <td>In a study of 10,744 overweight or obese subje...</td>\n",
       "    </tr>\n",
       "    <tr>\n",
       "      <th>15</th>\n",
       "      <td>NEJMoa1103507</td>\n",
       "      <td>A randomized, placebo-controlled, double-blind...</td>\n",
       "    </tr>\n",
       "    <tr>\n",
       "      <th>16</th>\n",
       "      <td>NEJMoa1103507</td>\n",
       "      <td>Exemestane is an aromatase inhibitor that has ...</td>\n",
       "    </tr>\n",
       "    <tr>\n",
       "      <th>17</th>\n",
       "      <td>NEJMoa1103507</td>\n",
       "      <td>here they discuss about the two members  Tamox...</td>\n",
       "    </tr>\n",
       "    <tr>\n",
       "      <th>18</th>\n",
       "      <td>NEJMoa1206809</td>\n",
       "      <td>The introduction of screening mammography in t...</td>\n",
       "    </tr>\n",
       "    <tr>\n",
       "      <th>19</th>\n",
       "      <td>NEJMoa1206809</td>\n",
       "      <td>To reduce mortality, cancer screening programs...</td>\n",
       "    </tr>\n",
       "    <tr>\n",
       "      <th>20</th>\n",
       "      <td>NEJMoa1206809</td>\n",
       "      <td>BENIFIT OF MEDICINE\\nMedicines are chemicals o...</td>\n",
       "    </tr>\n",
       "    <tr>\n",
       "      <th>21</th>\n",
       "      <td>NEJMoa1200303</td>\n",
       "      <td>Observational cohort studies and a secondary p...</td>\n",
       "    </tr>\n",
       "    <tr>\n",
       "      <th>22</th>\n",
       "      <td>NEJMoa1200303</td>\n",
       "      <td>IN A MULTICENTER TRIAL IN SPIN WE RANDOMLY ASS...</td>\n",
       "    </tr>\n",
       "    <tr>\n",
       "      <th>23</th>\n",
       "      <td>NEJMoa1200303</td>\n",
       "      <td>In this topic myself tell by friend. And this ...</td>\n",
       "    </tr>\n",
       "    <tr>\n",
       "      <th>24</th>\n",
       "      <td>NEJMoa1200850</td>\n",
       "      <td>In the United States, children receive five do...</td>\n",
       "    </tr>\n",
       "    <tr>\n",
       "      <th>25</th>\n",
       "      <td>NEJMoa1200850</td>\n",
       "      <td>The fifth dose of acellular pertussis vaccine ...</td>\n",
       "    </tr>\n",
       "    <tr>\n",
       "      <th>26</th>\n",
       "      <td>NEJMoa1200850</td>\n",
       "      <td>We assessed the risk of pertussis in children ...</td>\n",
       "    </tr>\n",
       "    <tr>\n",
       "      <th>27</th>\n",
       "      <td>NEJMoa1014296</td>\n",
       "      <td>Men and women love to work out to release pent...</td>\n",
       "    </tr>\n",
       "    <tr>\n",
       "      <th>28</th>\n",
       "      <td>NEJMoa1014296</td>\n",
       "      <td>A study of 120,877 U.S. women and men found th...</td>\n",
       "    </tr>\n",
       "    <tr>\n",
       "      <th>29</th>\n",
       "      <td>NEJMoa1014296</td>\n",
       "      <td>A study was conducted to investigate the relat...</td>\n",
       "    </tr>\n",
       "    <tr>\n",
       "      <th>30</th>\n",
       "      <td>NEJMoa021134</td>\n",
       "      <td>A study was conducted in Denmark to assess the...</td>\n",
       "    </tr>\n",
       "    <tr>\n",
       "      <th>31</th>\n",
       "      <td>NEJMoa021134</td>\n",
       "      <td>A study was conducted in Denmark to investigat...</td>\n",
       "    </tr>\n",
       "    <tr>\n",
       "      <th>32</th>\n",
       "      <td>NEJMoa021134</td>\n",
       "      <td>This study analyzed data from 537,303 children...</td>\n",
       "    </tr>\n",
       "    <tr>\n",
       "      <th>33</th>\n",
       "      <td>NEJMoa0907413</td>\n",
       "      <td>Influenza A (H1N1) 2009 Monovalent Vaccine  is...</td>\n",
       "    </tr>\n",
       "    <tr>\n",
       "      <th>34</th>\n",
       "      <td>NEJMoa0907413</td>\n",
       "      <td>A study was conducted to evaluate the immunoge...</td>\n",
       "    </tr>\n",
       "    <tr>\n",
       "      <th>35</th>\n",
       "      <td>NEJMoa0907413</td>\n",
       "      <td>This study evaluated the safety and immunogeni...</td>\n",
       "    </tr>\n",
       "    <tr>\n",
       "      <th>38</th>\n",
       "      <td>NEJMoa1112010</td>\n",
       "      <td>\\nA study of 229,119 men and 173,141 women in ...</td>\n",
       "    </tr>\n",
       "    <tr>\n",
       "      <th>39</th>\n",
       "      <td>NEJMoa072761</td>\n",
       "      <td>drugs are widely used to lower blood glucose l...</td>\n",
       "    </tr>\n",
       "    <tr>\n",
       "      <th>40</th>\n",
       "      <td>NEJMoa072761</td>\n",
       "      <td>it is a medical realated information most impo...</td>\n",
       "    </tr>\n",
       "    <tr>\n",
       "      <th>41</th>\n",
       "      <td>NEJMoa072761</td>\n",
       "      <td>Rosiglitazone has been found to produce an inc...</td>\n",
       "    </tr>\n",
       "    <tr>\n",
       "      <th>42</th>\n",
       "      <td>NEJMoa1404037</td>\n",
       "      <td>\\nIn this study, adjuvant therapy with exemest...</td>\n",
       "    </tr>\n",
       "    <tr>\n",
       "      <th>44</th>\n",
       "      <td>NEJMoa1404037</td>\n",
       "      <td>It remains unclear the effect of adjuvant ther...</td>\n",
       "    </tr>\n",
       "    <tr>\n",
       "      <th>46</th>\n",
       "      <td>NEJMoa1304127</td>\n",
       "      <td>High sodium intake increases blood pressure, w...</td>\n",
       "    </tr>\n",
       "    <tr>\n",
       "      <th>47</th>\n",
       "      <td>NEJMoa1304127</td>\n",
       "      <td>We collected data from surveys on sodium intak...</td>\n",
       "    </tr>\n",
       "  </tbody>\n",
       "</table>\n",
       "</div>"
      ],
      "text/plain": [
       "            HITId                                            summary\n",
       "0   NEJMoa0804748  Because carbs usually provide over half of cal...\n",
       "1   NEJMoa0804748  A study was conducted to compare the effective...\n",
       "2   NEJMoa0804748  This two-year study found that diets varying i...\n",
       "3   NEJMoa1000727  Effect of Screening Mammography on Breast-Canc...\n",
       "4   NEJMoa1000727  A study in Norway found that screening mammogr...\n",
       "5   NEJMoa1000727  The Norwegian breast-cancer screening program ...\n",
       "6   NEJMoa1102287  Exciting news from a study on a malaria vaccin...\n",
       "7   NEJMoa1102287  A phase 3 study of the malaria vaccine RTS, S/...\n",
       "8   NEJMoa1102287  A phase 3 trial of the RTS, S/AS01 malaria vac...\n",
       "9   NEJMoa1003833  Azithromycin is a broad-spectrum macrolide ant...\n",
       "10  NEJMoa1003833  During 5 days of therapy, patients taking azit...\n",
       "11  NEJMoa1003833  azithromycin is an antibiotic that doctors use...\n",
       "12  NEJMoa1003114  Sibutramine is a weight loss drug that has bee...\n",
       "13  NEJMoa1003114  In a study of 10,744 overweight or obese subje...\n",
       "15  NEJMoa1103507  A randomized, placebo-controlled, double-blind...\n",
       "16  NEJMoa1103507  Exemestane is an aromatase inhibitor that has ...\n",
       "17  NEJMoa1103507  here they discuss about the two members  Tamox...\n",
       "18  NEJMoa1206809  The introduction of screening mammography in t...\n",
       "19  NEJMoa1206809  To reduce mortality, cancer screening programs...\n",
       "20  NEJMoa1206809  BENIFIT OF MEDICINE\\nMedicines are chemicals o...\n",
       "21  NEJMoa1200303  Observational cohort studies and a secondary p...\n",
       "22  NEJMoa1200303  IN A MULTICENTER TRIAL IN SPIN WE RANDOMLY ASS...\n",
       "23  NEJMoa1200303  In this topic myself tell by friend. And this ...\n",
       "24  NEJMoa1200850  In the United States, children receive five do...\n",
       "25  NEJMoa1200850  The fifth dose of acellular pertussis vaccine ...\n",
       "26  NEJMoa1200850  We assessed the risk of pertussis in children ...\n",
       "27  NEJMoa1014296  Men and women love to work out to release pent...\n",
       "28  NEJMoa1014296  A study of 120,877 U.S. women and men found th...\n",
       "29  NEJMoa1014296  A study was conducted to investigate the relat...\n",
       "30   NEJMoa021134  A study was conducted in Denmark to assess the...\n",
       "31   NEJMoa021134  A study was conducted in Denmark to investigat...\n",
       "32   NEJMoa021134  This study analyzed data from 537,303 children...\n",
       "33  NEJMoa0907413  Influenza A (H1N1) 2009 Monovalent Vaccine  is...\n",
       "34  NEJMoa0907413  A study was conducted to evaluate the immunoge...\n",
       "35  NEJMoa0907413  This study evaluated the safety and immunogeni...\n",
       "38  NEJMoa1112010  \\nA study of 229,119 men and 173,141 women in ...\n",
       "39   NEJMoa072761  drugs are widely used to lower blood glucose l...\n",
       "40   NEJMoa072761  it is a medical realated information most impo...\n",
       "41   NEJMoa072761  Rosiglitazone has been found to produce an inc...\n",
       "42  NEJMoa1404037  \\nIn this study, adjuvant therapy with exemest...\n",
       "44  NEJMoa1404037  It remains unclear the effect of adjuvant ther...\n",
       "46  NEJMoa1304127  High sodium intake increases blood pressure, w...\n",
       "47  NEJMoa1304127  We collected data from surveys on sodium intak..."
      ]
     },
     "execution_count": 455,
     "metadata": {},
     "output_type": "execute_result"
    }
   ],
   "source": [
    "new"
   ]
  },
  {
   "cell_type": "code",
   "execution_count": 441,
   "id": "1be81e72",
   "metadata": {
    "scrolled": true
   },
   "outputs": [
    {
     "ename": "IndexError",
     "evalue": "list index out of range",
     "output_type": "error",
     "traceback": [
      "\u001b[0;31m---------------------------------------------------------------------------\u001b[0m",
      "\u001b[0;31mIndexError\u001b[0m                                Traceback (most recent call last)",
      "Cell \u001b[0;32mIn[441], line 6\u001b[0m\n\u001b[1;32m      3\u001b[0m     matches \u001b[38;5;241m=\u001b[39m re\u001b[38;5;241m.\u001b[39mfindall(pattern, text, re\u001b[38;5;241m.\u001b[39mDOTALL)\n\u001b[1;32m      5\u001b[0m     \u001b[38;5;28;01mreturn\u001b[39;00m matches[\u001b[38;5;241m1\u001b[39m]\n\u001b[0;32m----> 6\u001b[0m original[\u001b[38;5;124m\"\u001b[39m\u001b[38;5;124mAnswer\u001b[39m\u001b[38;5;124m\"\u001b[39m] \u001b[38;5;241m=\u001b[39m \u001b[43moriginal\u001b[49m\u001b[43m[\u001b[49m\u001b[38;5;124;43m\"\u001b[39;49m\u001b[38;5;124;43mAnswer\u001b[39;49m\u001b[38;5;124;43m\"\u001b[39;49m\u001b[43m]\u001b[49m\u001b[38;5;241;43m.\u001b[39;49m\u001b[43mapply\u001b[49m\u001b[43m(\u001b[49m\u001b[38;5;28;43;01mlambda\u001b[39;49;00m\u001b[43m \u001b[49m\u001b[43mx\u001b[49m\u001b[43m:\u001b[49m\u001b[43m \u001b[49m\u001b[43mextract_answer\u001b[49m\u001b[43m(\u001b[49m\u001b[43mx\u001b[49m\u001b[43m)\u001b[49m\u001b[43m)\u001b[49m\n",
      "File \u001b[0;32m/opt/anaconda3/lib/python3.9/site-packages/pandas/core/series.py:4771\u001b[0m, in \u001b[0;36mSeries.apply\u001b[0;34m(self, func, convert_dtype, args, **kwargs)\u001b[0m\n\u001b[1;32m   4661\u001b[0m \u001b[38;5;28;01mdef\u001b[39;00m \u001b[38;5;21mapply\u001b[39m(\n\u001b[1;32m   4662\u001b[0m     \u001b[38;5;28mself\u001b[39m,\n\u001b[1;32m   4663\u001b[0m     func: AggFuncType,\n\u001b[0;32m   (...)\u001b[0m\n\u001b[1;32m   4666\u001b[0m     \u001b[38;5;241m*\u001b[39m\u001b[38;5;241m*\u001b[39mkwargs,\n\u001b[1;32m   4667\u001b[0m ) \u001b[38;5;241m-\u001b[39m\u001b[38;5;241m>\u001b[39m DataFrame \u001b[38;5;241m|\u001b[39m Series:\n\u001b[1;32m   4668\u001b[0m     \u001b[38;5;124;03m\"\"\"\u001b[39;00m\n\u001b[1;32m   4669\u001b[0m \u001b[38;5;124;03m    Invoke function on values of Series.\u001b[39;00m\n\u001b[1;32m   4670\u001b[0m \n\u001b[0;32m   (...)\u001b[0m\n\u001b[1;32m   4769\u001b[0m \u001b[38;5;124;03m    dtype: float64\u001b[39;00m\n\u001b[1;32m   4770\u001b[0m \u001b[38;5;124;03m    \"\"\"\u001b[39;00m\n\u001b[0;32m-> 4771\u001b[0m     \u001b[38;5;28;01mreturn\u001b[39;00m \u001b[43mSeriesApply\u001b[49m\u001b[43m(\u001b[49m\u001b[38;5;28;43mself\u001b[39;49m\u001b[43m,\u001b[49m\u001b[43m \u001b[49m\u001b[43mfunc\u001b[49m\u001b[43m,\u001b[49m\u001b[43m \u001b[49m\u001b[43mconvert_dtype\u001b[49m\u001b[43m,\u001b[49m\u001b[43m \u001b[49m\u001b[43margs\u001b[49m\u001b[43m,\u001b[49m\u001b[43m \u001b[49m\u001b[43mkwargs\u001b[49m\u001b[43m)\u001b[49m\u001b[38;5;241;43m.\u001b[39;49m\u001b[43mapply\u001b[49m\u001b[43m(\u001b[49m\u001b[43m)\u001b[49m\n",
      "File \u001b[0;32m/opt/anaconda3/lib/python3.9/site-packages/pandas/core/apply.py:1105\u001b[0m, in \u001b[0;36mSeriesApply.apply\u001b[0;34m(self)\u001b[0m\n\u001b[1;32m   1102\u001b[0m     \u001b[38;5;28;01mreturn\u001b[39;00m \u001b[38;5;28mself\u001b[39m\u001b[38;5;241m.\u001b[39mapply_str()\n\u001b[1;32m   1104\u001b[0m \u001b[38;5;66;03m# self.f is Callable\u001b[39;00m\n\u001b[0;32m-> 1105\u001b[0m \u001b[38;5;28;01mreturn\u001b[39;00m \u001b[38;5;28;43mself\u001b[39;49m\u001b[38;5;241;43m.\u001b[39;49m\u001b[43mapply_standard\u001b[49m\u001b[43m(\u001b[49m\u001b[43m)\u001b[49m\n",
      "File \u001b[0;32m/opt/anaconda3/lib/python3.9/site-packages/pandas/core/apply.py:1156\u001b[0m, in \u001b[0;36mSeriesApply.apply_standard\u001b[0;34m(self)\u001b[0m\n\u001b[1;32m   1154\u001b[0m     \u001b[38;5;28;01melse\u001b[39;00m:\n\u001b[1;32m   1155\u001b[0m         values \u001b[38;5;241m=\u001b[39m obj\u001b[38;5;241m.\u001b[39mastype(\u001b[38;5;28mobject\u001b[39m)\u001b[38;5;241m.\u001b[39m_values\n\u001b[0;32m-> 1156\u001b[0m         mapped \u001b[38;5;241m=\u001b[39m \u001b[43mlib\u001b[49m\u001b[38;5;241;43m.\u001b[39;49m\u001b[43mmap_infer\u001b[49m\u001b[43m(\u001b[49m\n\u001b[1;32m   1157\u001b[0m \u001b[43m            \u001b[49m\u001b[43mvalues\u001b[49m\u001b[43m,\u001b[49m\n\u001b[1;32m   1158\u001b[0m \u001b[43m            \u001b[49m\u001b[43mf\u001b[49m\u001b[43m,\u001b[49m\n\u001b[1;32m   1159\u001b[0m \u001b[43m            \u001b[49m\u001b[43mconvert\u001b[49m\u001b[38;5;241;43m=\u001b[39;49m\u001b[38;5;28;43mself\u001b[39;49m\u001b[38;5;241;43m.\u001b[39;49m\u001b[43mconvert_dtype\u001b[49m\u001b[43m,\u001b[49m\n\u001b[1;32m   1160\u001b[0m \u001b[43m        \u001b[49m\u001b[43m)\u001b[49m\n\u001b[1;32m   1162\u001b[0m \u001b[38;5;28;01mif\u001b[39;00m \u001b[38;5;28mlen\u001b[39m(mapped) \u001b[38;5;129;01mand\u001b[39;00m \u001b[38;5;28misinstance\u001b[39m(mapped[\u001b[38;5;241m0\u001b[39m], ABCSeries):\n\u001b[1;32m   1163\u001b[0m     \u001b[38;5;66;03m# GH#43986 Need to do list(mapped) in order to get treated as nested\u001b[39;00m\n\u001b[1;32m   1164\u001b[0m     \u001b[38;5;66;03m#  See also GH#25959 regarding EA support\u001b[39;00m\n\u001b[1;32m   1165\u001b[0m     \u001b[38;5;28;01mreturn\u001b[39;00m obj\u001b[38;5;241m.\u001b[39m_constructor_expanddim(\u001b[38;5;28mlist\u001b[39m(mapped), index\u001b[38;5;241m=\u001b[39mobj\u001b[38;5;241m.\u001b[39mindex)\n",
      "File \u001b[0;32m/opt/anaconda3/lib/python3.9/site-packages/pandas/_libs/lib.pyx:2918\u001b[0m, in \u001b[0;36mpandas._libs.lib.map_infer\u001b[0;34m()\u001b[0m\n",
      "Cell \u001b[0;32mIn[441], line 6\u001b[0m, in \u001b[0;36m<lambda>\u001b[0;34m(x)\u001b[0m\n\u001b[1;32m      3\u001b[0m     matches \u001b[38;5;241m=\u001b[39m re\u001b[38;5;241m.\u001b[39mfindall(pattern, text, re\u001b[38;5;241m.\u001b[39mDOTALL)\n\u001b[1;32m      5\u001b[0m     \u001b[38;5;28;01mreturn\u001b[39;00m matches[\u001b[38;5;241m1\u001b[39m]\n\u001b[0;32m----> 6\u001b[0m original[\u001b[38;5;124m\"\u001b[39m\u001b[38;5;124mAnswer\u001b[39m\u001b[38;5;124m\"\u001b[39m] \u001b[38;5;241m=\u001b[39m original[\u001b[38;5;124m\"\u001b[39m\u001b[38;5;124mAnswer\u001b[39m\u001b[38;5;124m\"\u001b[39m]\u001b[38;5;241m.\u001b[39mapply(\u001b[38;5;28;01mlambda\u001b[39;00m x: \u001b[43mextract_answer\u001b[49m\u001b[43m(\u001b[49m\u001b[43mx\u001b[49m\u001b[43m)\u001b[49m)\n",
      "Cell \u001b[0;32mIn[441], line 5\u001b[0m, in \u001b[0;36mextract_answer\u001b[0;34m(text)\u001b[0m\n\u001b[1;32m      2\u001b[0m pattern \u001b[38;5;241m=\u001b[39m \u001b[38;5;124mr\u001b[39m\u001b[38;5;124m\"\u001b[39m\u001b[38;5;124m<FreeText>(.*?)</FreeText>\u001b[39m\u001b[38;5;124m\"\u001b[39m\n\u001b[1;32m      3\u001b[0m matches \u001b[38;5;241m=\u001b[39m re\u001b[38;5;241m.\u001b[39mfindall(pattern, text, re\u001b[38;5;241m.\u001b[39mDOTALL)\n\u001b[0;32m----> 5\u001b[0m \u001b[38;5;28;01mreturn\u001b[39;00m \u001b[43mmatches\u001b[49m\u001b[43m[\u001b[49m\u001b[38;5;241;43m1\u001b[39;49m\u001b[43m]\u001b[49m\n",
      "\u001b[0;31mIndexError\u001b[0m: list index out of range"
     ]
    }
   ],
   "source": [
    "def extract_answer(text):\n",
    "    pattern = r\"<FreeText>(.*?)</FreeText>\"\n",
    "    matches = re.findall(pattern, text, re.DOTALL)\n",
    "\n",
    "    return matches[1]\n",
    "original[\"Answer\"] = original[\"Answer\"].apply(lambda x: extract_answer(x))"
   ]
  },
  {
   "cell_type": "code",
   "execution_count": null,
   "id": "3ffc630c",
   "metadata": {},
   "outputs": [],
   "source": []
  },
  {
   "cell_type": "code",
   "execution_count": 442,
   "id": "b0444cd9",
   "metadata": {},
   "outputs": [],
   "source": [
    "def measure_subseq_length(gen, k):\n",
    "#     lcsubsequence = LongestCommonSubstring()\n",
    "    lcsubsequence = LongestCommonSubsequence()\n",
    "    \n",
    "    tokenizer = Tokenizer(word_delimiter=' ')\n",
    "\n",
    "    gen_token = tokenizer.tokenize(gen)\n",
    "    k_token = tokenizer.tokenize(k)\n",
    "    \n",
    "    \n",
    "    length, candidates = lcsubsequence.compute(\n",
    "        str1=gen_token,\n",
    "        str2=k_token,\n",
    "        returnCandidates=False,\n",
    "    )\n",
    "    return length "
   ]
  },
  {
   "cell_type": "code",
   "execution_count": null,
   "id": "bca04ea0",
   "metadata": {},
   "outputs": [],
   "source": [
    "def measure_substr_length(gen, k):\n",
    "    lcsubsequence = LongestCommonSubstring()\n",
    "    \n",
    "    tokenizer = Tokenizer(word_delimiter=' ')\n",
    "\n",
    "    gen_token = tokenizer.tokenize(gen)\n",
    "    k_token = tokenizer.tokenize(k)\n",
    "    \n",
    "    \n",
    "    length, candidates = lcsubsequence.compute(\n",
    "        str1=gen_token,\n",
    "        str2=k_token,\n",
    "        returnCandidates=False,\n",
    "    )\n",
    "    return length "
   ]
  },
  {
   "cell_type": "code",
   "execution_count": 443,
   "id": "97275349",
   "metadata": {},
   "outputs": [],
   "source": [
    "def measure_jaccard_sim(gen, k):\n",
    "#     lcsubsequence = LongestCommonSubstring()\n",
    "    jaccard_distance = JaccardIndex()\n",
    "    \n",
    "    tokenizer = Tokenizer(word_delimiter=' ')\n",
    "\n",
    "    gen_token = tokenizer.tokenize(gen)\n",
    "    k_token = tokenizer.tokenize(k)\n",
    "    \n",
    "    \n",
    "    jaccard_dist_score = jaccard_distance.compute(gen_token, k_token)\n",
    "\n",
    "    return jaccard_dist_score"
   ]
  },
  {
   "cell_type": "code",
   "execution_count": 444,
   "id": "da451cca",
   "metadata": {},
   "outputs": [],
   "source": [
    "ids = new[\"HITId\"].unique()"
   ]
  },
  {
   "cell_type": "code",
   "execution_count": 445,
   "id": "37f451d6",
   "metadata": {},
   "outputs": [],
   "source": [
    "new_sim = []\n",
    "original_sim = []\n",
    "\n",
    "for idx in ids:\n",
    "    new_ = new[new[\"HITId\"] == idx]\n",
    "    original_ = original[original[\"Question\"] == idx]\n",
    "    generated_ = generated[generated[\"HITId\"] == idx]\n",
    "    \n",
    "    for i, row in generated_.iterrows():\n",
    "        gen_text = row[\"generated\"]\n",
    "        for j, row2 in new_.iterrows():\n",
    "            summary = row2[\"summary\"]\n",
    "            new_sim.append([idx, measure_subseq_length(gen_text, summary)])\n",
    "        for j, row2 in original_.iterrows():\n",
    "            summary = row2[\"Answer\"]\n",
    "            original_sim.append([idx, measure_subseq_length(gen_text, summary)])\n",
    "        "
   ]
  },
  {
   "cell_type": "code",
   "execution_count": 446,
   "id": "51110d53",
   "metadata": {},
   "outputs": [],
   "source": [
    "new_jaccard_sim = []\n",
    "original_jaccard_sim = []\n",
    "\n",
    "for idx in ids:\n",
    "    new_ = new[new[\"HITId\"] == idx]\n",
    "    original_ = original[original[\"Question\"] == idx]\n",
    "    generated_ = generated[generated[\"HITId\"] == idx]\n",
    "    \n",
    "    for i, row in generated_.iterrows():\n",
    "        gen_text = row[\"generated\"]\n",
    "        for j, row2 in new_.iterrows():\n",
    "            summary = row2[\"summary\"]\n",
    "            new_jaccard_sim.append([idx, measure_jaccard_sim(gen_text, summary)])\n",
    "        for j, row2 in original_.iterrows():\n",
    "            summary = row2[\"Answer\"]\n",
    "            original_jaccard_sim.append([idx, measure_jaccard_sim(gen_text, summary)])\n",
    "        "
   ]
  },
  {
   "cell_type": "code",
   "execution_count": 447,
   "id": "420dc126",
   "metadata": {},
   "outputs": [],
   "source": [
    "og_sim = pd.DataFrame(original_sim)\n",
    "new_sim = pd.DataFrame(new_sim)"
   ]
  },
  {
   "cell_type": "code",
   "execution_count": 448,
   "id": "ab2cb428",
   "metadata": {},
   "outputs": [],
   "source": [
    "og_j = pd.DataFrame(original_jaccard_sim)\n",
    "new_j = pd.DataFrame(new_jaccard_sim)"
   ]
  },
  {
   "cell_type": "code",
   "execution_count": 449,
   "id": "3c577ebc",
   "metadata": {},
   "outputs": [
    {
     "data": {
      "text/plain": [
       "33.5"
      ]
     },
     "execution_count": 449,
     "metadata": {},
     "output_type": "execute_result"
    }
   ],
   "source": [
    "new_sim[1].mean()"
   ]
  },
  {
   "cell_type": "code",
   "execution_count": 450,
   "id": "bad0b878",
   "metadata": {},
   "outputs": [
    {
     "data": {
      "text/plain": [
       "34.1875"
      ]
     },
     "execution_count": 450,
     "metadata": {},
     "output_type": "execute_result"
    }
   ],
   "source": [
    "og_sim[1].mean()"
   ]
  },
  {
   "cell_type": "code",
   "execution_count": null,
   "id": "9c7b48ee",
   "metadata": {
    "scrolled": true
   },
   "outputs": [],
   "source": []
  },
  {
   "cell_type": "code",
   "execution_count": 451,
   "id": "4f7eab9e",
   "metadata": {},
   "outputs": [
    {
     "data": {
      "text/plain": [
       "Text(0.5, 0, 'Longest matching subsequence')"
      ]
     },
     "execution_count": 451,
     "metadata": {},
     "output_type": "execute_result"
    },
    {
     "data": {
      "image/png": "[encoded data removed]",
      "text/plain": [
       "<Figure size 640x480 with 1 Axes>"
      ]
     },
     "metadata": {},
     "output_type": "display_data"
    }
   ],
   "source": [
    "og_sim[og_sim[1]>0.01].rename({1: \"original\"}, axis=1).hist()\n",
    "plt.xlabel(\"Longest matching subsequence\")"
   ]
  },
  {
   "cell_type": "code",
   "execution_count": 452,
   "id": "eb4eaa73",
   "metadata": {},
   "outputs": [
    {
     "data": {
      "text/plain": [
       "Text(0.5, 0, 'Longest matching subsequence')"
      ]
     },
     "execution_count": 452,
     "metadata": {},
     "output_type": "execute_result"
    },
    {
     "data": {
      "image/png": "[encoded data removed]",
      "text/plain": [
       "<Figure size 640x480 with 1 Axes>"
      ]
     },
     "metadata": {},
     "output_type": "display_data"
    }
   ],
   "source": [
    "new_sim[new_sim[1]>0.01].rename({1: \"new\"}, axis=1).hist()\n",
    "plt.xlabel(\"Longest matching subsequence\")"
   ]
  },
  {
   "cell_type": "code",
   "execution_count": null,
   "id": "67b810d7",
   "metadata": {},
   "outputs": [],
   "source": []
  },
  {
   "cell_type": "code",
   "execution_count": 453,
   "id": "d60b10a9",
   "metadata": {},
   "outputs": [
    {
     "data": {
      "text/plain": [
       "Text(0.5, 0, 'Jaccard')"
      ]
     },
     "execution_count": 453,
     "metadata": {},
     "output_type": "execute_result"
    },
    {
     "data": {
      "image/png": "[encoded data removed]",
      "text/plain": [
       "<Figure size 640x480 with 1 Axes>"
      ]
     },
     "metadata": {},
     "output_type": "display_data"
    }
   ],
   "source": [
    "og_j[og_j[1]>0.01].rename({1: \"original\"}, axis=1).hist()\n",
    "plt.xlabel(\"Jaccard\")"
   ]
  },
  {
   "cell_type": "code",
   "execution_count": 454,
   "id": "02c78fb4",
   "metadata": {},
   "outputs": [
    {
     "data": {
      "text/plain": [
       "Text(0.5, 0, 'Jaccard')"
      ]
     },
     "execution_count": 454,
     "metadata": {},
     "output_type": "execute_result"
    },
    {
     "data": {
      "image/png": "[encoded data removed]",
      "text/plain": [
       "<Figure size 640x480 with 1 Axes>"
      ]
     },
     "metadata": {},
     "output_type": "display_data"
    }
   ],
   "source": [
    "new_j[new_j[1]>0.01].rename({1: \"new\"}, axis=1).hist()\n",
    "plt.xlabel(\"Jaccard\")"
   ]
  },
  {
   "cell_type": "code",
   "execution_count": null,
   "id": "5a94ca4f",
   "metadata": {},
   "outputs": [],
   "source": []
  },
  {
   "cell_type": "code",
   "execution_count": null,
   "id": "97a502e4",
   "metadata": {},
   "outputs": [],
   "source": []
  }
 ],
 "metadata": {
  "kernelspec": {
   "display_name": "Python 3 (ipykernel)",
   "language": "python",
   "name": "python3"
  },
  "language_info": {
   "codemirror_mode": {
    "name": "ipython",
    "version": 3
   },
   "file_extension": ".py",
   "mimetype": "text/x-python",
   "name": "python",
   "nbconvert_exporter": "python",
   "pygments_lexer": "ipython3",
   "version": "3.9.16"
  }
 },
 "nbformat": 4,
 "nbformat_minor": 5
}
