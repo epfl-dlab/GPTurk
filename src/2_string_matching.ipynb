{
 "cells": [
  {
   "cell_type": "code",
   "execution_count": 483,
   "id": "8cfef5d2",
   "metadata": {},
   "outputs": [],
   "source": [
    "import pandas as pd\n",
    "import re\n",
    "import matplotlib.pyplot as plt\n",
    "\n",
    "from string2string.alignment import LongestCommonSubsequence\n",
    "from string2string.distance import JaccardIndex\n",
    "\n"
   ]
  },
  {
   "cell_type": "code",
   "execution_count": 586,
   "id": "fd335ca9",
   "metadata": {},
   "outputs": [],
   "source": [
    "generated = pd.read_csv(\"../data/generated_outputs.csv\")\n",
    "# generated = generated[temperatures].melt().rename({\"variable\": \"temperature\", \"value\": \"text\"}, axis=1)"
   ]
  },
  {
   "cell_type": "code",
   "execution_count": 587,
   "id": "1d97019c",
   "metadata": {},
   "outputs": [],
   "source": [
    "original = pd.read_csv(\"../summaries.csv\")"
   ]
  },
  {
   "cell_type": "code",
   "execution_count": 588,
   "id": "429f95ef",
   "metadata": {},
   "outputs": [],
   "source": [
    "new = pd.read_csv(\"../data/processed_responses.csv\").drop(\"HITId\", axis=1)"
   ]
  },
  {
   "cell_type": "code",
   "execution_count": null,
   "id": "ae995e27",
   "metadata": {},
   "outputs": [],
   "source": []
  },
  {
   "cell_type": "code",
   "execution_count": 589,
   "id": "1a51dc47",
   "metadata": {},
   "outputs": [],
   "source": [
    "qids = pd.read_csv(\"../data/qids.csv\")"
   ]
  },
  {
   "cell_type": "code",
   "execution_count": 590,
   "id": "b7e1c13e",
   "metadata": {},
   "outputs": [],
   "source": [
    "# temperatures = [str(k) for k in [0.3, 0.5, 0.7, 0.9, 1]]\n",
    "temperatures = [str(k) for k in [0.7, 0.9]]"
   ]
  },
  {
   "cell_type": "code",
   "execution_count": 591,
   "id": "10f7ddd0",
   "metadata": {},
   "outputs": [],
   "source": [
    "generated[\"texts\"] = generated[\"texts\"].apply(lambda x: x[4:20]).str.lower()\n",
    "qids[\"question\"] = qids[\"question\"].apply(lambda x: x[4:20]).str.lower()"
   ]
  },
  {
   "cell_type": "code",
   "execution_count": 592,
   "id": "788b12dd",
   "metadata": {},
   "outputs": [],
   "source": [
    "new[\"original_text\"] = new[\"original_text\"].apply(lambda x: x[4:20]).str.lower()"
   ]
  },
  {
   "cell_type": "code",
   "execution_count": 593,
   "id": "91b88fa4",
   "metadata": {},
   "outputs": [],
   "source": [
    "original = original[[\"Question\", \"Answer\"]]"
   ]
  },
  {
   "cell_type": "code",
   "execution_count": null,
   "id": "60e3b06f",
   "metadata": {},
   "outputs": [],
   "source": []
  },
  {
   "cell_type": "code",
   "execution_count": 594,
   "id": "b2cb77a1",
   "metadata": {},
   "outputs": [],
   "source": [
    "new = new.merge(qids, left_on=\"original_text\", right_on=\"question\")[[\"HITId\",\"summary\", \"copied\"]]"
   ]
  },
  {
   "cell_type": "code",
   "execution_count": null,
   "id": "717d5ac7",
   "metadata": {},
   "outputs": [],
   "source": []
  },
  {
   "cell_type": "code",
   "execution_count": 595,
   "id": "b7c788b7",
   "metadata": {},
   "outputs": [],
   "source": [
    "new = new[new[\"summary\"].map(len) > 150]"
   ]
  },
  {
   "cell_type": "code",
   "execution_count": 596,
   "id": "298c1a15",
   "metadata": {},
   "outputs": [],
   "source": [
    "generated = generated.merge(qids, left_on=\"texts\", right_on=\"question\")[[\"HITId\"] + temperatures].melt(id_vars = \"HITId\").rename({\"value\":\"generated\"}, axis=1)\n",
    "\n"
   ]
  },
  {
   "cell_type": "code",
   "execution_count": 597,
   "id": "0d989167",
   "metadata": {},
   "outputs": [],
   "source": [
    "generated = generated[generated[\"variable\"].str.contains(\"0.7|1\")]"
   ]
  },
  {
   "cell_type": "code",
   "execution_count": 598,
   "id": "e1dd4968",
   "metadata": {},
   "outputs": [
    {
     "data": {
      "text/plain": [
       "1381.3046875"
      ]
     },
     "execution_count": 598,
     "metadata": {},
     "output_type": "execute_result"
    }
   ],
   "source": [
    "original[\"Answer\"].map(len).mean()"
   ]
  },
  {
   "cell_type": "code",
   "execution_count": 599,
   "id": "a9633223",
   "metadata": {},
   "outputs": [],
   "source": [
    "drop = [20,22, 26, 47]"
   ]
  },
  {
   "cell_type": "code",
   "execution_count": 600,
   "id": "fc29b979",
   "metadata": {},
   "outputs": [],
   "source": [
    "new = new[~new.index.isin(drop)]"
   ]
  },
  {
   "cell_type": "code",
   "execution_count": null,
   "id": "70302759",
   "metadata": {},
   "outputs": [],
   "source": []
  },
  {
   "cell_type": "code",
   "execution_count": 601,
   "id": "85e57df1",
   "metadata": {},
   "outputs": [
    {
     "data": {
      "text/plain": [
       "0     Because carbs usually provide over half of cal...\n",
       "1     A study was conducted to compare the effective...\n",
       "2     This two-year study found that diets varying i...\n",
       "3     Effect of Screening Mammography on Breast-Canc...\n",
       "4     A study in Norway found that screening mammogr...\n",
       "5     The Norwegian breast-cancer screening program ...\n",
       "6     Exciting news from a study on a malaria vaccin...\n",
       "7     A phase 3 study of the malaria vaccine RTS, S/...\n",
       "8     A phase 3 trial of the RTS, S/AS01 malaria vac...\n",
       "9     Azithromycin is a broad-spectrum macrolide ant...\n",
       "10    During 5 days of therapy, patients taking azit...\n",
       "11    azithromycin is an antibiotic that doctors use...\n",
       "12    Sibutramine is a weight loss drug that has bee...\n",
       "13    In a study of 10,744 overweight or obese subje...\n",
       "15    A randomized, placebo-controlled, double-blind...\n",
       "16    Exemestane is an aromatase inhibitor that has ...\n",
       "17    here they discuss about the two members  Tamox...\n",
       "18    The introduction of screening mammography in t...\n",
       "19    To reduce mortality, cancer screening programs...\n",
       "21    Observational cohort studies and a secondary p...\n",
       "23    In this topic myself tell by friend. And this ...\n",
       "24    In the United States, children receive five do...\n",
       "25    The fifth dose of acellular pertussis vaccine ...\n",
       "27    Men and women love to work out to release pent...\n",
       "28    A study of 120,877 U.S. women and men found th...\n",
       "29    A study was conducted to investigate the relat...\n",
       "30    A study was conducted in Denmark to assess the...\n",
       "31    A study was conducted in Denmark to investigat...\n",
       "32    This study analyzed data from 537,303 children...\n",
       "33    Influenza A (H1N1) 2009 Monovalent Vaccine  is...\n",
       "34    A study was conducted to evaluate the immunoge...\n",
       "35    This study evaluated the safety and immunogeni...\n",
       "38    \\nA study of 229,119 men and 173,141 women in ...\n",
       "39    drugs are widely used to lower blood glucose l...\n",
       "40    it is a medical realated information most impo...\n",
       "41    Rosiglitazone has been found to produce an inc...\n",
       "42    \\nIn this study, adjuvant therapy with exemest...\n",
       "44    It remains unclear the effect of adjuvant ther...\n",
       "46    High sodium intake increases blood pressure, w...\n",
       "Name: summary, dtype: object"
      ]
     },
     "execution_count": 601,
     "metadata": {},
     "output_type": "execute_result"
    }
   ],
   "source": [
    "new[\"summary\"]"
   ]
  },
  {
   "cell_type": "code",
   "execution_count": 602,
   "id": "1b14d3e4",
   "metadata": {
    "scrolled": true
   },
   "outputs": [],
   "source": [
    "def extract_answer(text):\n",
    "    pattern = r\"<FreeText>(.*?)</FreeText>\"\n",
    "    matches = re.findall(pattern, text, re.DOTALL)\n",
    "\n",
    "    return matches[1]\n",
    "original[\"Answer\"] = original[\"Answer\"].apply(lambda x: extract_answer(x))"
   ]
  },
  {
   "cell_type": "code",
   "execution_count": null,
   "id": "f8b13255",
   "metadata": {},
   "outputs": [],
   "source": []
  },
  {
   "cell_type": "code",
   "execution_count": 603,
   "id": "f98626db",
   "metadata": {},
   "outputs": [],
   "source": [
    "def measure_subseq_length(gen, k):\n",
    "#     lcsubsequence = LongestCommonSubstring()\n",
    "    lcsubsequence = LongestCommonSubsequence()\n",
    "    \n",
    "    tokenizer = Tokenizer(word_delimiter=' ')\n",
    "\n",
    "    gen_token = tokenizer.tokenize(gen)\n",
    "    k_token = tokenizer.tokenize(k)\n",
    "    \n",
    "    \n",
    "    length, candidates = lcsubsequence.compute(\n",
    "        str1=gen_token,\n",
    "        str2=k_token,\n",
    "        returnCandidates=False,\n",
    "    )\n",
    "    return length "
   ]
  },
  {
   "cell_type": "code",
   "execution_count": 604,
   "id": "0dc0bc82",
   "metadata": {},
   "outputs": [],
   "source": [
    "def measure_substr_length(gen, k):\n",
    "    lcsubsequence = LongestCommonSubstring()\n",
    "    \n",
    "    tokenizer = Tokenizer(word_delimiter=' ')\n",
    "\n",
    "    gen_token = tokenizer.tokenize(gen)\n",
    "    k_token = tokenizer.tokenize(k)\n",
    "    \n",
    "    \n",
    "    length, candidates = lcsubsequence.compute(\n",
    "        str1=gen_token,\n",
    "        str2=k_token,\n",
    "        returnCandidates=False,\n",
    "    )\n",
    "    return length "
   ]
  },
  {
   "cell_type": "code",
   "execution_count": 605,
   "id": "5e9aa9ea",
   "metadata": {},
   "outputs": [],
   "source": [
    "def measure_jaccard_sim(gen, k):\n",
    "#     lcsubsequence = LongestCommonSubstring()\n",
    "    jaccard_distance = JaccardIndex()\n",
    "    \n",
    "    tokenizer = Tokenizer(word_delimiter=' ')\n",
    "\n",
    "    gen_token = tokenizer.tokenize(gen)\n",
    "    k_token = tokenizer.tokenize(k)\n",
    "    \n",
    "    \n",
    "    jaccard_dist_score = jaccard_distance.compute(gen_token, k_token)\n",
    "\n",
    "    return jaccard_dist_score"
   ]
  },
  {
   "cell_type": "code",
   "execution_count": 606,
   "id": "5749981a",
   "metadata": {},
   "outputs": [],
   "source": [
    "ids = new[\"HITId\"].unique()"
   ]
  },
  {
   "cell_type": "code",
   "execution_count": 607,
   "id": "e304ea03",
   "metadata": {},
   "outputs": [],
   "source": [
    "new_sim = []\n",
    "original_sim = []\n",
    "\n",
    "for idx in ids:\n",
    "    new_ = new[new[\"HITId\"] == idx]\n",
    "    original_ = original[original[\"Question\"] == idx]\n",
    "    generated_ = generated[generated[\"HITId\"] == idx]\n",
    "    \n",
    "    for i, row in generated_.iterrows():\n",
    "        gen_text = row[\"generated\"]\n",
    "        for j, row2 in new_.iterrows():\n",
    "            summary = row2[\"summary\"]\n",
    "            new_sim.append([idx, measure_subseq_length(gen_text, summary)])\n",
    "        for j, row2 in original_.iterrows():\n",
    "            summary = row2[\"Answer\"]\n",
    "            original_sim.append([idx, measure_subseq_length(gen_text, summary)])\n",
    "        "
   ]
  },
  {
   "cell_type": "code",
   "execution_count": 608,
   "id": "b7597a25",
   "metadata": {},
   "outputs": [],
   "source": [
    "new_sub_sim = []\n",
    "original_sub_sim = []\n",
    "\n",
    "for idx in ids:\n",
    "    new_ = new[new[\"HITId\"] == idx]\n",
    "    original_ = original[original[\"Question\"] == idx]\n",
    "    generated_ = generated[generated[\"HITId\"] == idx]\n",
    "    \n",
    "    for i, row in generated_.iterrows():\n",
    "        gen_text = row[\"generated\"]\n",
    "        for j, row2 in new_.iterrows():\n",
    "            summary = row2[\"summary\"]\n",
    "            new_sub_sim.append([idx, measure_substr_length(gen_text, summary)])\n",
    "        for j, row2 in original_.iterrows():\n",
    "            summary = row2[\"Answer\"]\n",
    "            original_sub_sim.append([idx, measure_substr_length(gen_text, summary)])\n",
    "        "
   ]
  },
  {
   "cell_type": "code",
   "execution_count": 609,
   "id": "3d77d126",
   "metadata": {},
   "outputs": [],
   "source": [
    "new_jaccard_sim = []\n",
    "original_jaccard_sim = []\n",
    "\n",
    "for idx in ids:\n",
    "    new_ = new[new[\"HITId\"] == idx]\n",
    "    original_ = original[original[\"Question\"] == idx]\n",
    "    generated_ = generated[generated[\"HITId\"] == idx]\n",
    "    \n",
    "    for i, row in generated_.iterrows():\n",
    "        gen_text = row[\"generated\"]\n",
    "        for j, row2 in new_.iterrows():\n",
    "            summary = row2[\"summary\"]\n",
    "            new_jaccard_sim.append([idx, measure_jaccard_sim(gen_text, summary)])\n",
    "        for j, row2 in original_.iterrows():\n",
    "            summary = row2[\"Answer\"]\n",
    "            original_jaccard_sim.append([idx, measure_jaccard_sim(gen_text, summary)])\n",
    "        "
   ]
  },
  {
   "cell_type": "code",
   "execution_count": null,
   "id": "378d9d16",
   "metadata": {},
   "outputs": [],
   "source": []
  },
  {
   "cell_type": "code",
   "execution_count": 612,
   "id": "d4715e3d",
   "metadata": {},
   "outputs": [],
   "source": [
    "og_sim = pd.DataFrame(original_sim)\n",
    "new_sim = pd.DataFrame(new_sim)"
   ]
  },
  {
   "cell_type": "code",
   "execution_count": 616,
   "id": "3906abbe",
   "metadata": {},
   "outputs": [],
   "source": [
    "new_sim[\"copied\"] = new[\"copied\"]"
   ]
  },
  {
   "cell_type": "code",
   "execution_count": 613,
   "id": "2bad2ee6",
   "metadata": {},
   "outputs": [],
   "source": [
    "og_j = pd.DataFrame(original_jaccard_sim)\n",
    "new_j = pd.DataFrame(new_jaccard_sim)"
   ]
  },
  {
   "cell_type": "code",
   "execution_count": 617,
   "id": "a537f68b",
   "metadata": {},
   "outputs": [],
   "source": [
    "new_j[\"copied\"] = new[\"copied\"]"
   ]
  },
  {
   "cell_type": "code",
   "execution_count": 614,
   "id": "e681c9dc",
   "metadata": {},
   "outputs": [],
   "source": [
    "og_s = pd.DataFrame(original_sub_sim)\n",
    "new_s = pd.DataFrame(new_sub_sim)"
   ]
  },
  {
   "cell_type": "code",
   "execution_count": 618,
   "id": "280d9397",
   "metadata": {},
   "outputs": [],
   "source": [
    "new_s[\"copied\"] = new[\"copied\"]"
   ]
  },
  {
   "cell_type": "code",
   "execution_count": 565,
   "id": "d9e3dde9",
   "metadata": {},
   "outputs": [
    {
     "data": {
      "text/plain": [
       "36.256410256410255"
      ]
     },
     "execution_count": 565,
     "metadata": {},
     "output_type": "execute_result"
    }
   ],
   "source": [
    "new_sim[1].mean()"
   ]
  },
  {
   "cell_type": "code",
   "execution_count": 566,
   "id": "ebc5f490",
   "metadata": {},
   "outputs": [
    {
     "data": {
      "text/plain": [
       "37.015625"
      ]
     },
     "execution_count": 566,
     "metadata": {},
     "output_type": "execute_result"
    }
   ],
   "source": [
    "og_sim[1].mean()"
   ]
  },
  {
   "cell_type": "code",
   "execution_count": null,
   "id": "00979abc",
   "metadata": {
    "scrolled": true
   },
   "outputs": [],
   "source": []
  },
  {
   "cell_type": "code",
   "execution_count": 567,
   "id": "f9acc094",
   "metadata": {},
   "outputs": [
    {
     "data": {
      "text/plain": [
       "Text(0.5, 0, 'Longest matching subsequence')"
      ]
     },
     "execution_count": 567,
     "metadata": {},
     "output_type": "execute_result"
    },
    {
     "data": {
      "image/png": "[encoded data removed]",
      "text/plain": [
       "<Figure size 640x480 with 1 Axes>"
      ]
     },
     "metadata": {},
     "output_type": "display_data"
    }
   ],
   "source": [
    "og_sim[og_sim[1]>0.01].rename({1: \"original\"}, axis=1).hist()\n",
    "plt.xlabel(\"Longest matching subsequence\")"
   ]
  },
  {
   "cell_type": "code",
   "execution_count": null,
   "id": "c1cbefa2",
   "metadata": {},
   "outputs": [],
   "source": []
  },
  {
   "cell_type": "code",
   "execution_count": 625,
   "id": "73d65ce1",
   "metadata": {},
   "outputs": [
    {
     "data": {
      "text/plain": [
       "Text(0.5, 0, 'Longest matching subsequence')"
      ]
     },
     "execution_count": 625,
     "metadata": {},
     "output_type": "execute_result"
    },
    {
     "data": {
      "image/png": "[encoded data removed]",
      "text/plain": [
       "<Figure size 640x480 with 2 Axes>"
      ]
     },
     "metadata": {},
     "output_type": "display_data"
    }
   ],
   "source": [
    "new_sim[new_sim[1]>0.01].rename({1: \"new\"}, axis=1).hist(by=\"copied\")\n",
    "plt.xlabel(\"Longest matching subsequence\")"
   ]
  },
  {
   "cell_type": "code",
   "execution_count": null,
   "id": "cbdf0472",
   "metadata": {},
   "outputs": [],
   "source": []
  },
  {
   "cell_type": "code",
   "execution_count": 569,
   "id": "031a98ce",
   "metadata": {},
   "outputs": [
    {
     "data": {
      "text/plain": [
       "Text(0.5, 0, 'Jaccard')"
      ]
     },
     "execution_count": 569,
     "metadata": {},
     "output_type": "execute_result"
    },
    {
     "data": {
      "image/png": "[encoded data removed]",
      "text/plain": [
       "<Figure size 640x480 with 1 Axes>"
      ]
     },
     "metadata": {},
     "output_type": "display_data"
    }
   ],
   "source": [
    "og_j[og_j[1]>0.01].rename({1: \"original\"}, axis=1).hist()\n",
    "plt.xlabel(\"Jaccard\")"
   ]
  },
  {
   "cell_type": "code",
   "execution_count": 626,
   "id": "baa95925",
   "metadata": {},
   "outputs": [
    {
     "data": {
      "text/plain": [
       "Text(0.5, 0, 'Jaccard')"
      ]
     },
     "execution_count": 626,
     "metadata": {},
     "output_type": "execute_result"
    },
    {
     "data": {
      "image/png": "[encoded data removed]",
      "text/plain": [
       "<Figure size 640x480 with 2 Axes>"
      ]
     },
     "metadata": {},
     "output_type": "display_data"
    }
   ],
   "source": [
    "new_j[new_j[1]>0.01].rename({1: \"new\"}, axis=1).hist(by=\"copied\")\n",
    "plt.xlabel(\"Jaccard\")"
   ]
  },
  {
   "cell_type": "code",
   "execution_count": null,
   "id": "5508500c",
   "metadata": {},
   "outputs": [],
   "source": []
  },
  {
   "cell_type": "code",
   "execution_count": 571,
   "id": "4658a042",
   "metadata": {},
   "outputs": [
    {
     "data": {
      "text/plain": [
       "Text(0.5, 0, 'Longest matching substring')"
      ]
     },
     "execution_count": 571,
     "metadata": {},
     "output_type": "execute_result"
    },
    {
     "data": {
      "image/png": "[encoded data removed]",
      "text/plain": [
       "<Figure size 640x480 with 1 Axes>"
      ]
     },
     "metadata": {},
     "output_type": "display_data"
    }
   ],
   "source": [
    "og_sim[og_sim[1]>0.01].rename({1: \"original\"}, axis=1).hist()\n",
    "plt.xlabel(\"Longest matching substring\")"
   ]
  },
  {
   "cell_type": "code",
   "execution_count": 627,
   "id": "e372f7d8",
   "metadata": {},
   "outputs": [
    {
     "data": {
      "text/plain": [
       "Text(0.5, 0, 'Longest matching substring')"
      ]
     },
     "execution_count": 627,
     "metadata": {},
     "output_type": "execute_result"
    },
    {
     "data": {
      "image/png": "[encoded data removed]",
      "text/plain": [
       "<Figure size 640x480 with 2 Axes>"
      ]
     },
     "metadata": {},
     "output_type": "display_data"
    }
   ],
   "source": [
    "new_sim[new_sim[1]>0.01].rename({1: \"new\"}, axis=1).hist(by=\"copied\")\n",
    "plt.xlabel(\"Longest matching substring\")"
   ]
  },
  {
   "cell_type": "code",
   "execution_count": null,
   "id": "45c94030",
   "metadata": {},
   "outputs": [],
   "source": []
  }
 ],
 "metadata": {
  "kernelspec": {
   "display_name": "Python 3 (ipykernel)",
   "language": "python",
   "name": "python3"
  },
  "language_info": {
   "codemirror_mode": {
    "name": "ipython",
    "version": 3
   },
   "file_extension": ".py",
   "mimetype": "text/x-python",
   "name": "python",
   "nbconvert_exporter": "python",
   "pygments_lexer": "ipython3",
   "version": "3.9.16"
  }
 },
 "nbformat": 4,
 "nbformat_minor": 5
}
