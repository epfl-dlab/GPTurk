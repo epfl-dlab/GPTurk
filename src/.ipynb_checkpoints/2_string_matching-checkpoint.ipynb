{
 "cells": [
  {
   "cell_type": "code",
   "execution_count": 47,
   "id": "763ae792",
   "metadata": {},
   "outputs": [],
   "source": [
    "import pandas as pd\n",
    "import re\n",
    "import matplotlib.pyplot as plt\n",
    "\n",
    "from string2string.alignment import LongestCommonSubsequence\n"
   ]
  },
  {
   "cell_type": "code",
   "execution_count": 348,
   "id": "ca2aeb11",
   "metadata": {},
   "outputs": [],
   "source": [
    "generated = pd.read_csv(\"../data/generated_outputs.csv\")\n",
    "# generated = generated[temperatures].melt().rename({\"variable\": \"temperature\", \"value\": \"text\"}, axis=1)"
   ]
  },
  {
   "cell_type": "code",
   "execution_count": 349,
   "id": "2e6619bd",
   "metadata": {},
   "outputs": [],
   "source": [
    "original = pd.read_csv(\"../summaries.csv\")"
   ]
  },
  {
   "cell_type": "code",
   "execution_count": 350,
   "id": "5495912c",
   "metadata": {},
   "outputs": [],
   "source": [
    "new = pd.read_csv(\"../data/processed_responses.csv\").drop(\"HITId\", axis=1)"
   ]
  },
  {
   "cell_type": "code",
   "execution_count": 351,
   "id": "388b8665",
   "metadata": {},
   "outputs": [],
   "source": [
    "qids = pd.read_csv(\"../data/qids.csv\")"
   ]
  },
  {
   "cell_type": "code",
   "execution_count": 352,
   "id": "73d8e016",
   "metadata": {},
   "outputs": [],
   "source": [
    "temperatures = [str(k) for k in [0.3, 0.5, 0.7, 0.9, 1]]"
   ]
  },
  {
   "cell_type": "code",
   "execution_count": 353,
   "id": "b5e85b07",
   "metadata": {},
   "outputs": [],
   "source": [
    "generated[\"texts\"] = generated[\"texts\"].apply(lambda x: x[4:20]).str.lower()\n",
    "qids[\"question\"] = qids[\"question\"].apply(lambda x: x[4:20]).str.lower()"
   ]
  },
  {
   "cell_type": "code",
   "execution_count": 354,
   "id": "3e565929",
   "metadata": {},
   "outputs": [],
   "source": [
    "new[\"original_text\"] = new[\"original_text\"].apply(lambda x: x[4:20]).str.lower()"
   ]
  },
  {
   "cell_type": "code",
   "execution_count": 355,
   "id": "00dc0ecc",
   "metadata": {},
   "outputs": [],
   "source": [
    "original = original[[\"Question\", \"Answer\"]]"
   ]
  },
  {
   "cell_type": "code",
   "execution_count": null,
   "id": "4be40fa4",
   "metadata": {},
   "outputs": [],
   "source": []
  },
  {
   "cell_type": "code",
   "execution_count": 356,
   "id": "777af62b",
   "metadata": {},
   "outputs": [],
   "source": [
    "new = new.merge(qids, left_on=\"original_text\", right_on=\"question\")[[\"HITId\",\"summary\"]]"
   ]
  },
  {
   "cell_type": "code",
   "execution_count": 357,
   "id": "c5db66dc",
   "metadata": {},
   "outputs": [],
   "source": [
    "generated = generated.merge(qids, left_on=\"texts\", right_on=\"question\")[[\"HITId\"] + temperatures].melt(id_vars = \"HITId\").rename({\"value\":\"generated\"}, axis=1)"
   ]
  },
  {
   "cell_type": "code",
   "execution_count": 368,
   "id": "f1ac4012",
   "metadata": {},
   "outputs": [],
   "source": [
    "generated = generated[generated[\"variable\"].str.contains(\"0.7|1\")]"
   ]
  },
  {
   "cell_type": "code",
   "execution_count": null,
   "id": "6d117ffa",
   "metadata": {},
   "outputs": [],
   "source": []
  },
  {
   "cell_type": "code",
   "execution_count": 370,
   "id": "6ace3487",
   "metadata": {
    "scrolled": true
   },
   "outputs": [
    {
     "ename": "IndexError",
     "evalue": "list index out of range",
     "output_type": "error",
     "traceback": [
      "\u001b[0;31m---------------------------------------------------------------------------\u001b[0m",
      "\u001b[0;31mIndexError\u001b[0m                                Traceback (most recent call last)",
      "Cell \u001b[0;32mIn[370], line 6\u001b[0m\n\u001b[1;32m      3\u001b[0m     matches \u001b[38;5;241m=\u001b[39m re\u001b[38;5;241m.\u001b[39mfindall(pattern, text, re\u001b[38;5;241m.\u001b[39mDOTALL)\n\u001b[1;32m      5\u001b[0m     \u001b[38;5;28;01mreturn\u001b[39;00m matches[\u001b[38;5;241m1\u001b[39m]\n\u001b[0;32m----> 6\u001b[0m original[\u001b[38;5;124m\"\u001b[39m\u001b[38;5;124mAnswer\u001b[39m\u001b[38;5;124m\"\u001b[39m] \u001b[38;5;241m=\u001b[39m \u001b[43moriginal\u001b[49m\u001b[43m[\u001b[49m\u001b[38;5;124;43m\"\u001b[39;49m\u001b[38;5;124;43mAnswer\u001b[39;49m\u001b[38;5;124;43m\"\u001b[39;49m\u001b[43m]\u001b[49m\u001b[38;5;241;43m.\u001b[39;49m\u001b[43mapply\u001b[49m\u001b[43m(\u001b[49m\u001b[38;5;28;43;01mlambda\u001b[39;49;00m\u001b[43m \u001b[49m\u001b[43mx\u001b[49m\u001b[43m:\u001b[49m\u001b[43m \u001b[49m\u001b[43mextract_answer\u001b[49m\u001b[43m(\u001b[49m\u001b[43mx\u001b[49m\u001b[43m)\u001b[49m\u001b[43m)\u001b[49m\n",
      "File \u001b[0;32m/opt/anaconda3/lib/python3.9/site-packages/pandas/core/series.py:4771\u001b[0m, in \u001b[0;36mSeries.apply\u001b[0;34m(self, func, convert_dtype, args, **kwargs)\u001b[0m\n\u001b[1;32m   4661\u001b[0m \u001b[38;5;28;01mdef\u001b[39;00m \u001b[38;5;21mapply\u001b[39m(\n\u001b[1;32m   4662\u001b[0m     \u001b[38;5;28mself\u001b[39m,\n\u001b[1;32m   4663\u001b[0m     func: AggFuncType,\n\u001b[0;32m   (...)\u001b[0m\n\u001b[1;32m   4666\u001b[0m     \u001b[38;5;241m*\u001b[39m\u001b[38;5;241m*\u001b[39mkwargs,\n\u001b[1;32m   4667\u001b[0m ) \u001b[38;5;241m-\u001b[39m\u001b[38;5;241m>\u001b[39m DataFrame \u001b[38;5;241m|\u001b[39m Series:\n\u001b[1;32m   4668\u001b[0m     \u001b[38;5;124;03m\"\"\"\u001b[39;00m\n\u001b[1;32m   4669\u001b[0m \u001b[38;5;124;03m    Invoke function on values of Series.\u001b[39;00m\n\u001b[1;32m   4670\u001b[0m \n\u001b[0;32m   (...)\u001b[0m\n\u001b[1;32m   4769\u001b[0m \u001b[38;5;124;03m    dtype: float64\u001b[39;00m\n\u001b[1;32m   4770\u001b[0m \u001b[38;5;124;03m    \"\"\"\u001b[39;00m\n\u001b[0;32m-> 4771\u001b[0m     \u001b[38;5;28;01mreturn\u001b[39;00m \u001b[43mSeriesApply\u001b[49m\u001b[43m(\u001b[49m\u001b[38;5;28;43mself\u001b[39;49m\u001b[43m,\u001b[49m\u001b[43m \u001b[49m\u001b[43mfunc\u001b[49m\u001b[43m,\u001b[49m\u001b[43m \u001b[49m\u001b[43mconvert_dtype\u001b[49m\u001b[43m,\u001b[49m\u001b[43m \u001b[49m\u001b[43margs\u001b[49m\u001b[43m,\u001b[49m\u001b[43m \u001b[49m\u001b[43mkwargs\u001b[49m\u001b[43m)\u001b[49m\u001b[38;5;241;43m.\u001b[39;49m\u001b[43mapply\u001b[49m\u001b[43m(\u001b[49m\u001b[43m)\u001b[49m\n",
      "File \u001b[0;32m/opt/anaconda3/lib/python3.9/site-packages/pandas/core/apply.py:1105\u001b[0m, in \u001b[0;36mSeriesApply.apply\u001b[0;34m(self)\u001b[0m\n\u001b[1;32m   1102\u001b[0m     \u001b[38;5;28;01mreturn\u001b[39;00m \u001b[38;5;28mself\u001b[39m\u001b[38;5;241m.\u001b[39mapply_str()\n\u001b[1;32m   1104\u001b[0m \u001b[38;5;66;03m# self.f is Callable\u001b[39;00m\n\u001b[0;32m-> 1105\u001b[0m \u001b[38;5;28;01mreturn\u001b[39;00m \u001b[38;5;28;43mself\u001b[39;49m\u001b[38;5;241;43m.\u001b[39;49m\u001b[43mapply_standard\u001b[49m\u001b[43m(\u001b[49m\u001b[43m)\u001b[49m\n",
      "File \u001b[0;32m/opt/anaconda3/lib/python3.9/site-packages/pandas/core/apply.py:1156\u001b[0m, in \u001b[0;36mSeriesApply.apply_standard\u001b[0;34m(self)\u001b[0m\n\u001b[1;32m   1154\u001b[0m     \u001b[38;5;28;01melse\u001b[39;00m:\n\u001b[1;32m   1155\u001b[0m         values \u001b[38;5;241m=\u001b[39m obj\u001b[38;5;241m.\u001b[39mastype(\u001b[38;5;28mobject\u001b[39m)\u001b[38;5;241m.\u001b[39m_values\n\u001b[0;32m-> 1156\u001b[0m         mapped \u001b[38;5;241m=\u001b[39m \u001b[43mlib\u001b[49m\u001b[38;5;241;43m.\u001b[39;49m\u001b[43mmap_infer\u001b[49m\u001b[43m(\u001b[49m\n\u001b[1;32m   1157\u001b[0m \u001b[43m            \u001b[49m\u001b[43mvalues\u001b[49m\u001b[43m,\u001b[49m\n\u001b[1;32m   1158\u001b[0m \u001b[43m            \u001b[49m\u001b[43mf\u001b[49m\u001b[43m,\u001b[49m\n\u001b[1;32m   1159\u001b[0m \u001b[43m            \u001b[49m\u001b[43mconvert\u001b[49m\u001b[38;5;241;43m=\u001b[39;49m\u001b[38;5;28;43mself\u001b[39;49m\u001b[38;5;241;43m.\u001b[39;49m\u001b[43mconvert_dtype\u001b[49m\u001b[43m,\u001b[49m\n\u001b[1;32m   1160\u001b[0m \u001b[43m        \u001b[49m\u001b[43m)\u001b[49m\n\u001b[1;32m   1162\u001b[0m \u001b[38;5;28;01mif\u001b[39;00m \u001b[38;5;28mlen\u001b[39m(mapped) \u001b[38;5;129;01mand\u001b[39;00m \u001b[38;5;28misinstance\u001b[39m(mapped[\u001b[38;5;241m0\u001b[39m], ABCSeries):\n\u001b[1;32m   1163\u001b[0m     \u001b[38;5;66;03m# GH#43986 Need to do list(mapped) in order to get treated as nested\u001b[39;00m\n\u001b[1;32m   1164\u001b[0m     \u001b[38;5;66;03m#  See also GH#25959 regarding EA support\u001b[39;00m\n\u001b[1;32m   1165\u001b[0m     \u001b[38;5;28;01mreturn\u001b[39;00m obj\u001b[38;5;241m.\u001b[39m_constructor_expanddim(\u001b[38;5;28mlist\u001b[39m(mapped), index\u001b[38;5;241m=\u001b[39mobj\u001b[38;5;241m.\u001b[39mindex)\n",
      "File \u001b[0;32m/opt/anaconda3/lib/python3.9/site-packages/pandas/_libs/lib.pyx:2918\u001b[0m, in \u001b[0;36mpandas._libs.lib.map_infer\u001b[0;34m()\u001b[0m\n",
      "Cell \u001b[0;32mIn[370], line 6\u001b[0m, in \u001b[0;36m<lambda>\u001b[0;34m(x)\u001b[0m\n\u001b[1;32m      3\u001b[0m     matches \u001b[38;5;241m=\u001b[39m re\u001b[38;5;241m.\u001b[39mfindall(pattern, text, re\u001b[38;5;241m.\u001b[39mDOTALL)\n\u001b[1;32m      5\u001b[0m     \u001b[38;5;28;01mreturn\u001b[39;00m matches[\u001b[38;5;241m1\u001b[39m]\n\u001b[0;32m----> 6\u001b[0m original[\u001b[38;5;124m\"\u001b[39m\u001b[38;5;124mAnswer\u001b[39m\u001b[38;5;124m\"\u001b[39m] \u001b[38;5;241m=\u001b[39m original[\u001b[38;5;124m\"\u001b[39m\u001b[38;5;124mAnswer\u001b[39m\u001b[38;5;124m\"\u001b[39m]\u001b[38;5;241m.\u001b[39mapply(\u001b[38;5;28;01mlambda\u001b[39;00m x: \u001b[43mextract_answer\u001b[49m\u001b[43m(\u001b[49m\u001b[43mx\u001b[49m\u001b[43m)\u001b[49m)\n",
      "Cell \u001b[0;32mIn[370], line 5\u001b[0m, in \u001b[0;36mextract_answer\u001b[0;34m(text)\u001b[0m\n\u001b[1;32m      2\u001b[0m pattern \u001b[38;5;241m=\u001b[39m \u001b[38;5;124mr\u001b[39m\u001b[38;5;124m\"\u001b[39m\u001b[38;5;124m<FreeText>(.*?)</FreeText>\u001b[39m\u001b[38;5;124m\"\u001b[39m\n\u001b[1;32m      3\u001b[0m matches \u001b[38;5;241m=\u001b[39m re\u001b[38;5;241m.\u001b[39mfindall(pattern, text, re\u001b[38;5;241m.\u001b[39mDOTALL)\n\u001b[0;32m----> 5\u001b[0m \u001b[38;5;28;01mreturn\u001b[39;00m \u001b[43mmatches\u001b[49m\u001b[43m[\u001b[49m\u001b[38;5;241;43m1\u001b[39;49m\u001b[43m]\u001b[49m\n",
      "\u001b[0;31mIndexError\u001b[0m: list index out of range"
     ]
    }
   ],
   "source": [
    "def extract_answer(text):\n",
    "    pattern = r\"<FreeText>(.*?)</FreeText>\"\n",
    "    matches = re.findall(pattern, text, re.DOTALL)\n",
    "\n",
    "    return matches[1]\n",
    "original[\"Answer\"] = original[\"Answer\"].apply(lambda x: extract_answer(x))"
   ]
  },
  {
   "cell_type": "code",
   "execution_count": null,
   "id": "5d3ff510",
   "metadata": {},
   "outputs": [],
   "source": []
  },
  {
   "cell_type": "code",
   "execution_count": 379,
   "id": "ba0f7b91",
   "metadata": {},
   "outputs": [],
   "source": [
    "def measure_subseq_length(gen, k):\n",
    "#     lcsubsequence = LongestCommonSubstring()\n",
    "    lcsubsequence = LongestCommonSubsequence()\n",
    "    \n",
    "    tokenizer = Tokenizer(word_delimiter=' ')\n",
    "\n",
    "    gen_token = tokenizer.tokenize(gen)\n",
    "    k_token = tokenizer.tokenize(k)\n",
    "    \n",
    "    \n",
    "    length, candidates = lcsubsequence.compute(\n",
    "        str1=gen_token,\n",
    "        str2=k_token,\n",
    "        returnCandidates=False,\n",
    "    )\n",
    "    return length "
   ]
  },
  {
   "cell_type": "code",
   "execution_count": null,
   "id": "9652214f",
   "metadata": {},
   "outputs": [],
   "source": []
  },
  {
   "cell_type": "code",
   "execution_count": 380,
   "id": "eef89a33",
   "metadata": {},
   "outputs": [],
   "source": [
    "ids = new[\"HITId\"].unique()"
   ]
  },
  {
   "cell_type": "code",
   "execution_count": 381,
   "id": "59db9dcc",
   "metadata": {},
   "outputs": [],
   "source": [
    "new_sim = []\n",
    "original_sim = []\n",
    "\n",
    "for idx in ids:\n",
    "    new_ = new[new[\"HITId\"] == idx]\n",
    "    original_ = original[original[\"Question\"] == idx]\n",
    "    generated_ = generated[generated[\"HITId\"] == idx]\n",
    "    \n",
    "    for i, row in generated_.iterrows():\n",
    "        gen_text = row[\"generated\"]\n",
    "        for j, row2 in new_.iterrows():\n",
    "            summary = row2[\"summary\"]\n",
    "            new_sim.append([idx, measure_subseq_length(gen_text, summary)])\n",
    "        for j, row2 in original_.iterrows():\n",
    "            summary = row2[\"Answer\"]\n",
    "            original_sim.append([idx, measure_subseq_length(gen_text, summary)])\n",
    "        "
   ]
  },
  {
   "cell_type": "code",
   "execution_count": 382,
   "id": "5c642ce3",
   "metadata": {},
   "outputs": [],
   "source": [
    "og_sim = pd.DataFrame(original_sim)\n",
    "new_sim = pd.DataFrame(new_sim)"
   ]
  },
  {
   "cell_type": "code",
   "execution_count": 383,
   "id": "a30a438d",
   "metadata": {},
   "outputs": [
    {
     "data": {
      "text/plain": [
       "30.135416666666668"
      ]
     },
     "execution_count": 383,
     "metadata": {},
     "output_type": "execute_result"
    }
   ],
   "source": [
    "new_sim[1].mean()"
   ]
  },
  {
   "cell_type": "code",
   "execution_count": 384,
   "id": "0bd92b3e",
   "metadata": {},
   "outputs": [
    {
     "data": {
      "text/plain": [
       "34.1875"
      ]
     },
     "execution_count": 384,
     "metadata": {},
     "output_type": "execute_result"
    }
   ],
   "source": [
    "og_sim[1].mean()"
   ]
  },
  {
   "cell_type": "code",
   "execution_count": null,
   "id": "057c27be",
   "metadata": {
    "scrolled": true
   },
   "outputs": [],
   "source": []
  },
  {
   "cell_type": "code",
   "execution_count": 388,
   "id": "a74ac4c1",
   "metadata": {},
   "outputs": [
    {
     "data": {
      "text/plain": [
       "Text(0.5, 0, 'Longest matching subsequence')"
      ]
     },
     "execution_count": 388,
     "metadata": {},
     "output_type": "execute_result"
    },
    {
     "data": {
      "image/png": "[encoded data removed]",
      "text/plain": [
       "<Figure size 640x480 with 1 Axes>"
      ]
     },
     "metadata": {},
     "output_type": "display_data"
    }
   ],
   "source": [
    "og_sim[og_sim[1]>0.01].rename({1: \"original\"}, axis=1).hist()\n",
    "plt.xlabel(\"Longest matching subsequence\")"
   ]
  },
  {
   "cell_type": "code",
   "execution_count": 387,
   "id": "65c33848",
   "metadata": {},
   "outputs": [
    {
     "data": {
      "text/plain": [
       "Text(0.5, 0, 'Longest matching subsequence')"
      ]
     },
     "execution_count": 387,
     "metadata": {},
     "output_type": "execute_result"
    },
    {
     "data": {
      "image/png": "[encoded data removed]",
      "text/plain": [
       "<Figure size 640x480 with 1 Axes>"
      ]
     },
     "metadata": {},
     "output_type": "display_data"
    }
   ],
   "source": [
    "new_sim[new_sim[1]>0.01].rename({1: \"new\"}, axis=1).hist()\n",
    "plt.xlabel(\"Longest matching subsequence\")"
   ]
  },
  {
   "cell_type": "code",
   "execution_count": null,
   "id": "d9538a20",
   "metadata": {},
   "outputs": [],
   "source": []
  },
  {
   "cell_type": "code",
   "execution_count": null,
   "id": "d7655dda",
   "metadata": {},
   "outputs": [],
   "source": []
  },
  {
   "cell_type": "code",
   "execution_count": null,
   "id": "83aa096d",
   "metadata": {},
   "outputs": [],
   "source": []
  }
 ],
 "metadata": {
  "kernelspec": {
   "display_name": "Python 3 (ipykernel)",
   "language": "python",
   "name": "python3"
  },
  "language_info": {
   "codemirror_mode": {
    "name": "ipython",
    "version": 3
   },
   "file_extension": ".py",
   "mimetype": "text/x-python",
   "name": "python",
   "nbconvert_exporter": "python",
   "pygments_lexer": "ipython3",
   "version": "3.9.16"
  }
 },
 "nbformat": 4,
 "nbformat_minor": 5
}
