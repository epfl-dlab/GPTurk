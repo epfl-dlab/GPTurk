{
 "cells": [
  {
   "cell_type": "code",
   "execution_count": 8,
   "id": "0b218d2a",
   "metadata": {},
   "outputs": [
    {
     "name": "stdout",
     "output_type": "stream",
     "text": [
      "The autoreload extension is already loaded. To reload it, use:\n",
      "  %reload_ext autoreload\n"
     ]
    }
   ],
   "source": [
    "%load_ext autoreload\n",
    "%autoreload 2\n"
   ]
  },
  {
   "cell_type": "code",
   "execution_count": 2,
   "id": "1a7a0799",
   "metadata": {},
   "outputs": [],
   "source": [
    "import pandas as pd\n",
    "from dotenv import load_dotenv\n",
    "\n",
    "load_dotenv()  \n",
    "\n",
    "# dan jurafsky's string2string library\n",
    "from string2string.similarity import JaroSimilarity\n",
    "\n",
    "\n",
    "from langchain.llms import OpenAI\n",
    "from langchain.prompts import PromptTemplate\n",
    "from langchain.chat_models import ChatOpenAI\n",
    "from langchain import PromptTemplate, LLMChain\n",
    "from langchain.prompts.chat import (\n",
    "    ChatPromptTemplate,\n",
    "    SystemMessagePromptTemplate,\n",
    "    AIMessagePromptTemplate,\n",
    "    HumanMessagePromptTemplate,\n",
    ")\n",
    "from langchain.schema import (\n",
    "    AIMessage,\n",
    "    HumanMessage,\n",
    "    SystemMessage\n",
    ")\n",
    "\n",
    "from prompting.prompts import DataTemplates"
   ]
  },
  {
   "cell_type": "code",
   "execution_count": 68,
   "id": "8e41529b",
   "metadata": {},
   "outputs": [],
   "source": [
    "df = pd.read_csv(\"../abstracts_final.csv\")"
   ]
  },
  {
   "cell_type": "code",
   "execution_count": 69,
   "id": "eafbdb5a",
   "metadata": {},
   "outputs": [],
   "source": [
    "template = ChatPromptTemplate.from_messages(DataTemplates().medicine_abstract_prompt())"
   ]
  },
  {
   "cell_type": "code",
   "execution_count": null,
   "id": "b236c571",
   "metadata": {},
   "outputs": [],
   "source": []
  },
  {
   "cell_type": "code",
   "execution_count": 72,
   "id": "b906323e",
   "metadata": {},
   "outputs": [],
   "source": [
    "def generate_row(text: str, temperature) -> str:\n",
    "    llm = ChatOpenAI(temperature=temperature)\n",
    "    chat = LLMChain(llm=llm, prompt=template)\n",
    "    output = chat.run({\"text\": text})\n",
    "    return output"
   ]
  },
  {
   "cell_type": "code",
   "execution_count": 108,
   "id": "12d68b15",
   "metadata": {},
   "outputs": [],
   "source": [
    "temperatures = [0.7, 0.9]"
   ]
  },
  {
   "cell_type": "code",
   "execution_count": 88,
   "id": "c3ca4add",
   "metadata": {},
   "outputs": [
    {
     "name": "stderr",
     "output_type": "stream",
     "text": [
      "Retrying langchain.chat_models.openai.ChatOpenAI.completion_with_retry.<locals>._completion_with_retry in 1.0 seconds as it raised RateLimitError: That model is currently overloaded with other requests. You can retry your request, or contact us through our help center at help.openai.com if the error persists. (Please include the request ID d675412aa67423dc58f2d9ee3638cad5 in your message.).\n",
      "Retrying langchain.chat_models.openai.ChatOpenAI.completion_with_retry.<locals>._completion_with_retry in 1.0 seconds as it raised RateLimitError: That model is currently overloaded with other requests. You can retry your request, or contact us through our help center at help.openai.com if the error persists. (Please include the request ID fe226e1ef25567f2e19d9578176f234f in your message.).\n",
      "Retrying langchain.chat_models.openai.ChatOpenAI.completion_with_retry.<locals>._completion_with_retry in 1.0 seconds as it raised RateLimitError: That model is currently overloaded with other requests. You can retry your request, or contact us through our help center at help.openai.com if the error persists. (Please include the request ID acbec8f754363f134d67b88b6bf99442 in your message.).\n",
      "Retrying langchain.chat_models.openai.ChatOpenAI.completion_with_retry.<locals>._completion_with_retry in 1.0 seconds as it raised RateLimitError: That model is currently overloaded with other requests. You can retry your request, or contact us through our help center at help.openai.com if the error persists. (Please include the request ID 97f39f74c77ffab2cc4a8cc13a714f43 in your message.).\n",
      "Retrying langchain.chat_models.openai.ChatOpenAI.completion_with_retry.<locals>._completion_with_retry in 1.0 seconds as it raised RateLimitError: That model is currently overloaded with other requests. You can retry your request, or contact us through our help center at help.openai.com if the error persists. (Please include the request ID 0e5615327fc3c8596b932494221504d2 in your message.).\n"
     ]
    }
   ],
   "source": [
    "import concurrent.futures\n",
    "\n",
    "def generate_wrapper(row, t):\n",
    "    text = row[\"texts\"]\n",
    "    return {\"temperature\": t, \"text\": generate_row(text, t)}\n",
    "\n",
    "generations = []\n",
    "with concurrent.futures.ThreadPoolExecutor(max_workers=10) as executor:\n",
    "    for j in range(10):\n",
    "        for t in temperatures:\n",
    "            # Prepare arguments for each row\n",
    "            args = [(row, t) for index, row in df.iterrows()]b\n",
    "\n",
    "            # Execute the generate_wrapper function with each row in a separate thread\n",
    "            results = list(executor.map(lambda params: generate_wrapper(*params), args))\n",
    "            \n",
    "            # Add results to generations list\n",
    "            generations.extend(results)"
   ]
  },
  {
   "cell_type": "code",
   "execution_count": null,
   "id": "6acaf6c1",
   "metadata": {},
   "outputs": [],
   "source": []
  },
  {
   "cell_type": "code",
   "execution_count": 76,
   "id": "d6b34654",
   "metadata": {
    "scrolled": true
   },
   "outputs": [],
   "source": [
    "# generations = []\n",
    "# while j < 10:\n",
    "#     for t in temperatures:\n",
    "#         for i, row in df.iterrows():\n",
    "#             text = row[\"texts\"]\n",
    "#             generations.append({\"temperature\": t, \"text\": generate_row(text, t)})\n",
    "#     j += 1"
   ]
  },
  {
   "cell_type": "code",
   "execution_count": 122,
   "id": "a33f8b78",
   "metadata": {},
   "outputs": [],
   "source": [
    "df2 = pd.DataFrame(generations).reset_index()\n",
    "df2[\"index\"] = df2[\"index\"].apply(lambda x: x % 16)"
   ]
  },
  {
   "cell_type": "code",
   "execution_count": 114,
   "id": "dd26b17c",
   "metadata": {},
   "outputs": [],
   "source": [
    "id_labels = pd.read_csv(\"../data/qids.csv\")"
   ]
  },
  {
   "cell_type": "code",
   "execution_count": 120,
   "id": "423311a6",
   "metadata": {},
   "outputs": [],
   "source": [
    "id_labels.reset_index(inplace=True)"
   ]
  },
  {
   "cell_type": "code",
   "execution_count": 125,
   "id": "680b940c",
   "metadata": {},
   "outputs": [],
   "source": [
    "df2 = df2.merge(id_labels[[\"index\", \"HITId\"]], on = \"index\")"
   ]
  },
  {
   "cell_type": "code",
   "execution_count": 111,
   "id": "05c63c86",
   "metadata": {},
   "outputs": [],
   "source": [
    "# df[temperatures] = df2.pivot(index=\"index\", columns=\"temperature\", values=\"text\")"
   ]
  },
  {
   "cell_type": "code",
   "execution_count": null,
   "id": "7208c9c7",
   "metadata": {},
   "outputs": [],
   "source": []
  },
  {
   "cell_type": "code",
   "execution_count": 128,
   "id": "e1a73392",
   "metadata": {},
   "outputs": [],
   "source": [
    "df2.to_csv(\"../data/generated_outputs.csv\", index=False)"
   ]
  },
  {
   "cell_type": "code",
   "execution_count": null,
   "id": "dfe57df4",
   "metadata": {},
   "outputs": [],
   "source": []
  },
  {
   "cell_type": "code",
   "execution_count": 3,
   "id": "34d0b5fb",
   "metadata": {},
   "outputs": [],
   "source": [
    "gen = pd.read_csv(\"../data/generated_outputs.csv\")"
   ]
  },
  {
   "cell_type": "code",
   "execution_count": null,
   "id": "05d8dc27",
   "metadata": {},
   "outputs": [],
   "source": [
    "results = [\"ai\", \"ai\", \"human\", \"human\", \"human\", \"AI\", \"AI\", \"AI\", \"AI\", \"human\"]\n",
    "\n",
    "\n"
   ]
  },
  {
   "cell_type": "code",
   "execution_count": 7,
   "id": "f36688dc",
   "metadata": {},
   "outputs": [
    {
     "name": "stdout",
     "output_type": "stream",
     "text": [
      "A study conducted in Denmark has provided evidence against the theory that the measles, mumps and rubella (MMR) vaccine causes autism. The study was a retrospective cohort study of all children born in Denmark between 1991 and 1998. The MMR vaccination status was obtained from the Danish National Board of Health, and the autism status was obtained from the Danish Psychiatric Central Register. After adjusting for potential confounders, the study found that there was no association between MMR vaccination and the development of autism. The study provides strong evidence against the hypothesis that the MMR vaccine causes autism.\n",
      "\n",
      "A new study has found that screening mammography is associated with a reduction in the rate of death from breast cancer, but the screening itself only accounts for about a third of the total reduction. The study looked at women between the ages of 50 and 69 years in Norway who were offered screening mammography every two years from 1996 until 2005. Researchers compared the incidence-based rates of death from breast cancer in the screening and non-screening groups, as well as two historical-comparison groups. In the screening group, the rate of death was reduced by 10%, while the reduction in mortality between the current and historical groups that could be attributed to screening alone was only a third of the total reduction.\n",
      "\n",
      "The phase 3 study of the malaria vaccine RTS,S/AS01 is being conducted across seven African countries, with 15,460 children enrolled. The study aimed to assess the vaccine's efficacy, safety and immunogenicity. Children were divided into two age categories, and both groups received either the vaccine or a non-malaria comparator vaccine. After 250 children had an episode of severe malaria, vaccine efficacy against severe malaria in both age categories was assessed. Results showed that the RTS,S/AS01 vaccine provided protection against clinical and severe malaria in African children, with a vaccine efficacy of 50.4% against clinical malaria and 45.1% against severe malaria. Serious adverse events occurred with similar frequency in both study groups.\n",
      "\n",
      "Aromatase inhibitors prevent more contralateral breast cancers and cause fewer side effects than tamoxifen in patients with early-stage breast cancer. Exemestane significantly reduced invasive breast cancers in postmenopausal women who are at moderately increased risk for breast cancer, according to a randomized, placebo-controlled, double-blind trial. During a median follow-up of 3 years, exemestane had no serious toxic effects and only minimal changes in health-related quality of life. The 4560 women had a median age of 62.5 years and the median Gail risk score was 2.3%. Adverse events occurred in 88% of the exemestane group and 85% of the placebo group, with no significant differences between the two groups in terms of skeletal fractures, cardiovascular events, other cancers, or treatment-related deaths.\n",
      "\n",
      "The duration of protection after five doses of the diphtheria, tetanus and acellular pertussis (DTaP) vaccine is unknown. A recent study assessed the risk of pertussis in children in California in relation to the time since the fifth dose of DTaP from 2006 to 2011. The results indicated that protection against pertussis waned during the 5 years after the fifth dose of DTaP, therefore suggesting that the duration of protection after five doses of DTaP is not sufficient. The study implies that a safer and more effective vaccine or schedule is needed to provide long-term protection against pertussis.\n",
      "\n",
      "Azithromycin, which is commonly prescribed for acute respiratory tract infections such as pneumonia, sinusitis, and bronchitis, can lead to an increased risk of cardiovascular death, according to new research. The study, which looked at a Tennessee Medicaid cohort that was designed to detect whether there was an increased risk of death related to the short-term cardiac effects of medication, found that patients taking azithromycin had an increased risk of cardiovascular death and death from any cause compared to those who took no antibiotics. The study noted that relative to amoxicillin, azithromycin could be associated with an increased risk of cardiovascular death, with an estimated 47 additional cardiovascular deaths per 1 million courses.\n",
      "\n",
      "Two phase 3 trials have found that premenopausal women with hormone receptor-positive early breast cancer who received adjuvant treatment with exemestane, an aromatase inhibitor, plus ovarian suppression saw improved disease-free survival over tamoxifen plus ovarian suppression. After five years, 91.1% of women in the exemestane-ovarian suppression group remained disease-free, compared to 87.3% of women in the tamoxifen-ovarian suppression group. The rate of freedom from breast cancer was also higher in the exemestane group, with 92.8% of women remaining free from breast cancer at five years, compared to 88.8% of women in the tamoxifen group. However, overall survival rates were not significantly different between the two groups.\n",
      "\n",
      "The success of the strategy of 'eat less and exercise more' for preventing long-term weight gain can be affected by specific dietary and lifestyle behaviors. A study was conducted involving 120,877 US women and men who were free of chronic diseases and not obese at baseline. The study evaluated the relationships between changes in lifestyle factors and weight change at 4-year intervals, with multivariable adjustments made for age, baseline body-mass index for each period, and all lifestyle factors simultaneously. The study found that specific foods such as potato chips, processed meats, and sugar-sweetened beverages and lifestyle factors including physical inactivity, alcohol consumption, and sleep are independently associated with long-term weight gain. Dietary and lifestyle changes have substantial implications for strategies to prevent obesity.\n",
      "\n",
      "The introduction of screening mammography in the United States has led to a doubling in the number of early-stage breast cancer cases detected each year, from 112 to 234 per 100,000 women, resulting in an absolute increase of 122 cases per 100,000 women. Meanwhile, the rate of patients presenting with late-stage cancer has decreased by 8% from 102 to 94 cases per 100,000 women, an absolute decrease of 8 cases per 100,000 women. However, the study suggests that only 8 of the 122 additional early-stage cancers diagnosed were expected to progress to advanced disease. Breast cancer was overdiagnosed and detected on screening in 1.3 million US women in the past 30 years, according to the study, and in 2008, breast cancer was overdiagnosed in more than 70,000 women, accounting for 31% of all breast cancers diagnosed.\n",
      "\n",
      "Aromatase inhibitors prevent more breast cancers and result in fewer side effects than tamoxifen in patients with early-stage breast cancer, but have limited patient acceptance for primary prevention of breast cancer. A randomized, placebo-controlled, double-blind trial of exemestane was conducted to detect a 65% relative reduction in invasive breast cancer risk. Eligible postmenopausal women aged 35 or older with a Gail 5-year risk score greater than 1.66%, prior atypical ductal or lobular hyperplasia or lobular carcinoma in situ, ductal carcinoma in situ with mastectomy, or aged 60 or older were included in the trial. The results showed that the annual incidence of invasive breast cancers was 0.19% for the exemestane group and 0.55% for the placebo group, with a relative reduction of 65%. Exemestane significantly reduced invasive breast cancers in postmenopausal women with moderately increased breast cancer risk, and was associated with no serious toxic effects and only minimal changes in health-related quality of life.\n",
      "\n"
     ]
    }
   ],
   "source": [
    "for g in gen[\"text\"].sample(10).values:\n",
    "    print(g)\n",
    "    print()"
   ]
  },
  {
   "cell_type": "markdown",
   "id": "e308237d",
   "metadata": {},
   "source": [
    "### We need to determine how likely the texts are to be generated by ChatGPT.\n",
    "We will generate 10 texts for each abstract. We will then compare the similarity between the real human answers and GPT-answers. \n",
    "\n",
    "1. Select 3 generations and measure the average similarity to the other ChatGPT answers\n",
    "2. Select the real texts and see how similar they are to the generations.\n",
    "3. Use the MTurk data and measure how similar the texts are. "
   ]
  }
 ],
 "metadata": {
  "kernelspec": {
   "display_name": "Python 3 (ipykernel)",
   "language": "python",
   "name": "python3"
  },
  "language_info": {
   "codemirror_mode": {
    "name": "ipython",
    "version": 3
   },
   "file_extension": ".py",
   "mimetype": "text/x-python",
   "name": "python",
   "nbconvert_exporter": "python",
   "pygments_lexer": "ipython3",
   "version": "3.9.16"
  }
 },
 "nbformat": 4,
 "nbformat_minor": 5
}
