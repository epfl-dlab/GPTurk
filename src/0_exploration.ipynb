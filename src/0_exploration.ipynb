{
 "cells": [
  {
   "cell_type": "code",
   "execution_count": 2,
   "id": "e8abcc53",
   "metadata": {},
   "outputs": [],
   "source": [
    "import pandas as pd "
   ]
  },
  {
   "cell_type": "code",
   "execution_count": 3,
   "id": "174cc829",
   "metadata": {},
   "outputs": [],
   "source": [
    "# df = pd.read_csv(\"../data/Batch_5082026_batch_results (1).csv\") # prev. versiona\n",
    "df = pd.read_csv(\"../data/Batch_5083843_batch_results.csv\")"
   ]
  },
  {
   "cell_type": "code",
   "execution_count": 4,
   "id": "14c95388",
   "metadata": {},
   "outputs": [
    {
     "data": {
      "text/plain": [
       "'Read a 400-word text with medicine-related information and write a 100-word summary.'"
      ]
     },
     "execution_count": 4,
     "metadata": {},
     "output_type": "execute_result"
    }
   ],
   "source": [
    "df[\"Description\"].iloc[0]"
   ]
  },
  {
   "cell_type": "code",
   "execution_count": 14,
   "id": "8e558a89",
   "metadata": {},
   "outputs": [],
   "source": [
    "def parse_response(x):\n",
    "    summary = x[\"summary\"]\n",
    "    actions = eval(x[\"log_of_what_they_did\"])\n",
    "    \n",
    "    data = {\"keys\": \"\", \"dates\": []}\n",
    "    \n",
    "    for val in actions:\n",
    "        if (val[0] == \"copy\") or (val[0] == \"paste\"):\n",
    "            data[\"keys\"] += \" \" + val[0]\n",
    "            data[\"dates\"].append(None)\n",
    "        else:\n",
    "            data[\"keys\"] += \" \" + val[1]\n",
    "            data[\"dates\"].append(val[2])\n",
    "    data[\"keys\"] = \" \".join(data[\"keys\"].split()).strip()\n",
    "    \n",
    "    return summary, data"
   ]
  },
  {
   "cell_type": "code",
   "execution_count": 15,
   "id": "bcd9b1aa",
   "metadata": {},
   "outputs": [],
   "source": [
    "# print(df[\"Answer.taskAnswers\"].iloc[5])"
   ]
  },
  {
   "cell_type": "code",
   "execution_count": 16,
   "id": "5aa99b62",
   "metadata": {},
   "outputs": [],
   "source": [
    "relevant_columns = [\"HITId\", \"original_text\",\"key_strokes\", \"datetime\", \"summary\"]\n",
    "\n",
    "responses = pd.DataFrame(columns = relevant_columns)\n",
    "\n",
    "for i, row in df.iterrows():\n",
    "    unparsed = eval(row[\"Answer.taskAnswers\"])[0]\n",
    "    summary, data = parse_response(unparsed)\n",
    "    \n",
    "    key_strokes = data[\"keys\"]\n",
    "    datetime = data[\"dates\"]\n",
    "    \n",
    "    temp = pd.DataFrame([[row[\"HITId\"], row[\"Input.texts\"], key_strokes, datetime, summary]], columns = relevant_columns)\n",
    "    \n",
    "    responses = pd.concat([responses, temp], axis = 0)\n",
    "    \n",
    "    "
   ]
  },
  {
   "cell_type": "code",
   "execution_count": 18,
   "id": "06f19129",
   "metadata": {},
   "outputs": [],
   "source": [
    "# responses"
   ]
  },
  {
   "cell_type": "code",
   "execution_count": 21,
   "id": "b0050546",
   "metadata": {},
   "outputs": [],
   "source": [
    "def locate_paste(x: str) -> bool:\n",
    "    \"\"\"\n",
    "    This function will attempt to use some heuristics to determine\n",
    "    if the key strokes signify that the text was copied.\n",
    "    \"\"\"\n",
    "    if (\"Control v\" in x) or (\"paste\" in x):\n",
    "        return True\n",
    "    else:\n",
    "        return False\n",
    "    \n",
    "responses[\"copied\"] = responses[\"key_strokes\"].apply(lambda x: locate_paste(x))"
   ]
  },
  {
   "cell_type": "code",
   "execution_count": 22,
   "id": "05d7d005",
   "metadata": {
    "scrolled": true
   },
   "outputs": [
    {
     "data": {
      "text/plain": [
       "copied\n",
       "False     5\n",
       "True     43\n",
       "Name: HITId, dtype: int64"
      ]
     },
     "execution_count": 22,
     "metadata": {},
     "output_type": "execute_result"
    }
   ],
   "source": [
    "responses.groupby(\"copied\")[\"HITId\"].count()"
   ]
  },
  {
   "cell_type": "code",
   "execution_count": 24,
   "id": "3f5d8149",
   "metadata": {},
   "outputs": [],
   "source": [
    "responses.to_csv(\"../data/processed_responses.csv\", index=False)"
   ]
  },
  {
   "cell_type": "code",
   "execution_count": 25,
   "id": "f9631ae2",
   "metadata": {},
   "outputs": [
    {
     "data": {
      "text/html": [
       "<div>\n",
       "<style scoped>\n",
       "    .dataframe tbody tr th:only-of-type {\n",
       "        vertical-align: middle;\n",
       "    }\n",
       "\n",
       "    .dataframe tbody tr th {\n",
       "        vertical-align: top;\n",
       "    }\n",
       "\n",
       "    .dataframe thead th {\n",
       "        text-align: right;\n",
       "    }\n",
       "</style>\n",
       "<table border=\"1\" class=\"dataframe\">\n",
       "  <thead>\n",
       "    <tr style=\"text-align: right;\">\n",
       "      <th></th>\n",
       "      <th>HITId</th>\n",
       "      <th>original_text</th>\n",
       "      <th>key_strokes</th>\n",
       "      <th>datetime</th>\n",
       "      <th>summary</th>\n",
       "      <th>copied</th>\n",
       "    </tr>\n",
       "  </thead>\n",
       "  <tbody>\n",
       "    <tr>\n",
       "      <th>0</th>\n",
       "      <td>3XABXM4AJ1Q8DQKOXVSS6QS7TGU8QF</td>\n",
       "      <td>Effect of Screening Mammography on Breast-Canc...</td>\n",
       "      <td>Shift Shift Shift Shift Shift Shift Shift Shif...</td>\n",
       "      <td>[2023-06-01T10:42:22.995Z, 2023-06-01T10:42:23...</td>\n",
       "      <td>The Norwegian breast-cancer screening program ...</td>\n",
       "      <td>False</td>\n",
       "    </tr>\n",
       "    <tr>\n",
       "      <th>0</th>\n",
       "      <td>3KTCJ4SCVGMZHB2B6HCWA7LU59R1M1</td>\n",
       "      <td>Primary Prevention of Cardiovascular Disease w...</td>\n",
       "      <td>I T W A S Backspace Backspace Backspace Backsp...</td>\n",
       "      <td>[2023-06-01T07:12:25.109Z, 2023-06-01T07:12:25...</td>\n",
       "      <td>it was a diet plan for a good health and a tri...</td>\n",
       "      <td>False</td>\n",
       "    </tr>\n",
       "    <tr>\n",
       "      <th>0</th>\n",
       "      <td>3UY4PIS8QR65ZTNBIIRWNMAUAZ11N1</td>\n",
       "      <td>Waning Protection after Fifth Dose of Acellula...</td>\n",
       "      <td>g o o d</td>\n",
       "      <td>[2023-06-01T06:37:26.337Z, 2023-06-01T06:37:27...</td>\n",
       "      <td>good</td>\n",
       "      <td>False</td>\n",
       "    </tr>\n",
       "    <tr>\n",
       "      <th>0</th>\n",
       "      <td>3UY4PIS8QR65ZTNBIIRWNMAUAZ11N1</td>\n",
       "      <td>Waning Protection after Fifth Dose of Acellula...</td>\n",
       "      <td>copy copy Shift T h i s i s Shift A n Backspac...</td>\n",
       "      <td>[None, None, 2023-06-01T08:20:30.835Z, 2023-06...</td>\n",
       "      <td>This is an emergency announcement of the child...</td>\n",
       "      <td>False</td>\n",
       "    </tr>\n",
       "    <tr>\n",
       "      <th>0</th>\n",
       "      <td>3B623HUYJ4BKQ6Z1PZHX1Q78B4F8S4</td>\n",
       "      <td>A Population-Based Study of Measles, Mumps, an...</td>\n",
       "      <td>h Backspace c d c r e c o m m e n d s t h Back...</td>\n",
       "      <td>[2023-06-01T11:58:43.789Z, 2023-06-01T11:58:44...</td>\n",
       "      <td>recommends that people get vaccine to protect...</td>\n",
       "      <td>False</td>\n",
       "    </tr>\n",
       "  </tbody>\n",
       "</table>\n",
       "</div>"
      ],
      "text/plain": [
       "                            HITId   \n",
       "0  3XABXM4AJ1Q8DQKOXVSS6QS7TGU8QF  \\\n",
       "0  3KTCJ4SCVGMZHB2B6HCWA7LU59R1M1   \n",
       "0  3UY4PIS8QR65ZTNBIIRWNMAUAZ11N1   \n",
       "0  3UY4PIS8QR65ZTNBIIRWNMAUAZ11N1   \n",
       "0  3B623HUYJ4BKQ6Z1PZHX1Q78B4F8S4   \n",
       "\n",
       "                                       original_text   \n",
       "0  Effect of Screening Mammography on Breast-Canc...  \\\n",
       "0  Primary Prevention of Cardiovascular Disease w...   \n",
       "0  Waning Protection after Fifth Dose of Acellula...   \n",
       "0  Waning Protection after Fifth Dose of Acellula...   \n",
       "0  A Population-Based Study of Measles, Mumps, an...   \n",
       "\n",
       "                                         key_strokes   \n",
       "0  Shift Shift Shift Shift Shift Shift Shift Shif...  \\\n",
       "0  I T W A S Backspace Backspace Backspace Backsp...   \n",
       "0                                            g o o d   \n",
       "0  copy copy Shift T h i s i s Shift A n Backspac...   \n",
       "0  h Backspace c d c r e c o m m e n d s t h Back...   \n",
       "\n",
       "                                            datetime   \n",
       "0  [2023-06-01T10:42:22.995Z, 2023-06-01T10:42:23...  \\\n",
       "0  [2023-06-01T07:12:25.109Z, 2023-06-01T07:12:25...   \n",
       "0  [2023-06-01T06:37:26.337Z, 2023-06-01T06:37:27...   \n",
       "0  [None, None, 2023-06-01T08:20:30.835Z, 2023-06...   \n",
       "0  [2023-06-01T11:58:43.789Z, 2023-06-01T11:58:44...   \n",
       "\n",
       "                                             summary  copied  \n",
       "0  The Norwegian breast-cancer screening program ...   False  \n",
       "0  it was a diet plan for a good health and a tri...   False  \n",
       "0                                               good   False  \n",
       "0  This is an emergency announcement of the child...   False  \n",
       "0   recommends that people get vaccine to protect...   False  "
      ]
     },
     "execution_count": 25,
     "metadata": {},
     "output_type": "execute_result"
    }
   ],
   "source": [
    "responses[responses[\"copied\"]==False]"
   ]
  },
  {
   "cell_type": "code",
   "execution_count": null,
   "id": "07b4ca12",
   "metadata": {},
   "outputs": [],
   "source": []
  },
  {
   "cell_type": "code",
   "execution_count": 83,
   "id": "7906f02d",
   "metadata": {
    "scrolled": true
   },
   "outputs": [
    {
     "data": {
      "text/html": [
       "<div>\n",
       "<style scoped>\n",
       "    .dataframe tbody tr th:only-of-type {\n",
       "        vertical-align: middle;\n",
       "    }\n",
       "\n",
       "    .dataframe tbody tr th {\n",
       "        vertical-align: top;\n",
       "    }\n",
       "\n",
       "    .dataframe thead th {\n",
       "        text-align: right;\n",
       "    }\n",
       "</style>\n",
       "<table border=\"1\" class=\"dataframe\">\n",
       "  <thead>\n",
       "    <tr style=\"text-align: right;\">\n",
       "      <th></th>\n",
       "      <th>HITId</th>\n",
       "      <th>original_text</th>\n",
       "      <th>key_strokes</th>\n",
       "      <th>datetime</th>\n",
       "      <th>summary</th>\n",
       "      <th>copied</th>\n",
       "    </tr>\n",
       "  </thead>\n",
       "  <tbody>\n",
       "    <tr>\n",
       "      <th>0</th>\n",
       "      <td>38Z7YZ2SB3N12WW16H4JJFMLWAMQIO</td>\n",
       "      <td>Comparison of Weight-Loss Diets with Different...</td>\n",
       "      <td>ArrowLeft Backspace ArrowLeft ArrowLeft ArrowL...</td>\n",
       "      <td>[2023-05-30T02:49:46.401Z, 2023-05-30T02:49:46...</td>\n",
       "      <td>This two-year study found that diets varying i...</td>\n",
       "      <td>True</td>\n",
       "    </tr>\n",
       "    <tr>\n",
       "      <th>0</th>\n",
       "      <td>3SBX2M1TKD87UPXMLS2FPEC2RSM4QO</td>\n",
       "      <td>Effect of Screening Mammography on Breast-Canc...</td>\n",
       "      <td>CapsLock A CapsLock s t u d y i n CapsLock N C...</td>\n",
       "      <td>[2023-05-29T18:40:24.249Z, 2023-05-29T18:40:24...</td>\n",
       "      <td>A study in Norway found that screening mammogr...</td>\n",
       "      <td>False</td>\n",
       "    </tr>\n",
       "    <tr>\n",
       "      <th>0</th>\n",
       "      <td>38DCH97KHHNXX7G7OZPJVG1L9PBQJ0</td>\n",
       "      <td>First Results of Phase 3 Trial of RTS,S/AS01 M...</td>\n",
       "      <td>Backspace Backspace Backspace Backspace Backsp...</td>\n",
       "      <td>[2023-05-29T18:24:22.677Z, 2023-05-29T18:24:22...</td>\n",
       "      <td>Exciting news from a study on a malaria vaccin...</td>\n",
       "      <td>False</td>\n",
       "    </tr>\n",
       "    <tr>\n",
       "      <th>0</th>\n",
       "      <td>38DCH97KHHNXX7G7OZPJVG1L9PBQJ0</td>\n",
       "      <td>First Results of Phase 3 Trial of RTS,S/AS01 M...</td>\n",
       "      <td>Delete Delete Control v t h e 1 c h i s u s e ...</td>\n",
       "      <td>[2023-05-29T18:19:27.221Z, 2023-05-29T18:19:27...</td>\n",
       "      <td>A phase 3 study of the malaria vaccine RTS, S/...</td>\n",
       "      <td>True</td>\n",
       "    </tr>\n",
       "    <tr>\n",
       "      <th>0</th>\n",
       "      <td>3M93N4X8HK89ANVKG3EOQGGMRDWSJR</td>\n",
       "      <td>Exemestane for Breast-Cancer Prevention in Pos...</td>\n",
       "      <td>Control Control Control Control Control Contro...</td>\n",
       "      <td>[2023-05-29T18:35:17.459Z, 2023-05-29T18:35:17...</td>\n",
       "      <td>here they discuss about the two members  Tamox...</td>\n",
       "      <td>True</td>\n",
       "    </tr>\n",
       "    <tr>\n",
       "      <th>0</th>\n",
       "      <td>3087LXLJ6M1T4CPCOB4J1CIB3EX0FA</td>\n",
       "      <td>Effect of Three Decades of Screening Mammograp...</td>\n",
       "      <td>Shift T o r e d u c e i m m o r t a l i t y , ...</td>\n",
       "      <td>[2023-05-29T20:22:57.964Z, 2023-05-29T20:22:58...</td>\n",
       "      <td>To reduce mortality, cancer screening programs...</td>\n",
       "      <td>False</td>\n",
       "    </tr>\n",
       "    <tr>\n",
       "      <th>0</th>\n",
       "      <td>3087LXLJ6M1T4CPCOB4J1CIB3EX0FA</td>\n",
       "      <td>Effect of Three Decades of Screening Mammograp...</td>\n",
       "      <td>b e n i f i t Backspace Backspace Backspace Ba...</td>\n",
       "      <td>[2023-05-30T04:00:56.353Z, 2023-05-30T04:00:57...</td>\n",
       "      <td>BENIFIT OF MEDICINE\\nMedicines are chemicals o...</td>\n",
       "      <td>False</td>\n",
       "    </tr>\n",
       "    <tr>\n",
       "      <th>0</th>\n",
       "      <td>3WRBLBQ2GRTZICL7ZVA1JXIN4TX0G9</td>\n",
       "      <td>Primary Prevention of Cardiovascular Disease w...</td>\n",
       "      <td>F11 CapsLock I N A M U L T I C E N T E R T R I...</td>\n",
       "      <td>[2023-05-30T02:23:03.968Z, 2023-05-30T02:23:17...</td>\n",
       "      <td>IN A MULTICENTER TRIAL IN SPIN WE RANDOMLY ASS...</td>\n",
       "      <td>False</td>\n",
       "    </tr>\n",
       "    <tr>\n",
       "      <th>0</th>\n",
       "      <td>3WRBLBQ2GRTZICL7ZVA1JXIN4TX0G9</td>\n",
       "      <td>Primary Prevention of Cardiovascular Disease w...</td>\n",
       "      <td>CapsLock D CapsLock e a r f r i e n d i n t h ...</td>\n",
       "      <td>[2023-05-30T05:17:38.077Z, 2023-05-30T05:17:38...</td>\n",
       "      <td>In this topic myself tell by friend. And this ...</td>\n",
       "      <td>False</td>\n",
       "    </tr>\n",
       "    <tr>\n",
       "      <th>0</th>\n",
       "      <td>3UUSLRKAULOAO3B0I4U2SRPDZFN7D6</td>\n",
       "      <td>Waning Protection after Fifth Dose of Acellula...</td>\n",
       "      <td>Control Control Control Control Control Contro...</td>\n",
       "      <td>[2023-05-29T20:03:48.474Z, 2023-05-29T20:03:48...</td>\n",
       "      <td>We assessed the risk of pertussis in children ...</td>\n",
       "      <td>True</td>\n",
       "    </tr>\n",
       "    <tr>\n",
       "      <th>0</th>\n",
       "      <td>30EMX9PEVK44L712YOE0RVGZ62WSKQ</td>\n",
       "      <td>Response to a Monovalent 2009 Influenza A (H1N...</td>\n",
       "      <td>Control c Shift I n f l u e n z a Shift A Shif...</td>\n",
       "      <td>[2023-05-29T19:54:00.991Z, 2023-05-29T19:54:01...</td>\n",
       "      <td>Influenza A (H1N1) 2009 Monovalent Vaccine  is...</td>\n",
       "      <td>True</td>\n",
       "    </tr>\n",
       "    <tr>\n",
       "      <th>0</th>\n",
       "      <td>3MIVREZQVHJS8RMP6KPVWV1YOEBQKZ</td>\n",
       "      <td>Effect of Rosiglitazone on the Risk of Myocard...</td>\n",
       "      <td>Control C R CapsLock o s i g l i t a z o n e i...</td>\n",
       "      <td>[2023-05-29T19:22:39.271Z, 2023-05-29T19:22:39...</td>\n",
       "      <td>drugs are widely used to lower blood glucose l...</td>\n",
       "      <td>True</td>\n",
       "    </tr>\n",
       "    <tr>\n",
       "      <th>0</th>\n",
       "      <td>3MIVREZQVHJS8RMP6KPVWV1YOEBQKZ</td>\n",
       "      <td>Effect of Rosiglitazone on the Risk of Myocard...</td>\n",
       "      <td>Control Control Control Control Control Contro...</td>\n",
       "      <td>[2023-05-30T01:04:58.326Z, 2023-05-30T01:04:58...</td>\n",
       "      <td>it is a medical realated information most impo...</td>\n",
       "      <td>True</td>\n",
       "    </tr>\n",
       "    <tr>\n",
       "      <th>0</th>\n",
       "      <td>3MIVREZQVHJS8RMP6KPVWV1YOEBQKZ</td>\n",
       "      <td>Effect of Rosiglitazone on the Risk of Myocard...</td>\n",
       "      <td>Enter Shift Backspace Backspace Backspace Shif...</td>\n",
       "      <td>[2023-05-29T18:19:45.898Z, 2023-05-29T18:19:45...</td>\n",
       "      <td>Rosiglitazone has been found to produce an inc...</td>\n",
       "      <td>True</td>\n",
       "    </tr>\n",
       "    <tr>\n",
       "      <th>0</th>\n",
       "      <td>3FCO4VKOZ4YFG9P0EZ5MY97YZRO7EZ</td>\n",
       "      <td>Adjuvant Exemestane with Ovarian Suppression i...</td>\n",
       "      <td>Meta c Meta c c Meta v Shift I t i s Backspace...</td>\n",
       "      <td>[2023-05-29T18:28:39.047Z, 2023-05-29T18:28:39...</td>\n",
       "      <td>It remains unclear the effect of adjuvant ther...</td>\n",
       "      <td>False</td>\n",
       "    </tr>\n",
       "  </tbody>\n",
       "</table>\n",
       "</div>"
      ],
      "text/plain": [
       "                            HITId  \\\n",
       "0  38Z7YZ2SB3N12WW16H4JJFMLWAMQIO   \n",
       "0  3SBX2M1TKD87UPXMLS2FPEC2RSM4QO   \n",
       "0  38DCH97KHHNXX7G7OZPJVG1L9PBQJ0   \n",
       "0  38DCH97KHHNXX7G7OZPJVG1L9PBQJ0   \n",
       "0  3M93N4X8HK89ANVKG3EOQGGMRDWSJR   \n",
       "0  3087LXLJ6M1T4CPCOB4J1CIB3EX0FA   \n",
       "0  3087LXLJ6M1T4CPCOB4J1CIB3EX0FA   \n",
       "0  3WRBLBQ2GRTZICL7ZVA1JXIN4TX0G9   \n",
       "0  3WRBLBQ2GRTZICL7ZVA1JXIN4TX0G9   \n",
       "0  3UUSLRKAULOAO3B0I4U2SRPDZFN7D6   \n",
       "0  30EMX9PEVK44L712YOE0RVGZ62WSKQ   \n",
       "0  3MIVREZQVHJS8RMP6KPVWV1YOEBQKZ   \n",
       "0  3MIVREZQVHJS8RMP6KPVWV1YOEBQKZ   \n",
       "0  3MIVREZQVHJS8RMP6KPVWV1YOEBQKZ   \n",
       "0  3FCO4VKOZ4YFG9P0EZ5MY97YZRO7EZ   \n",
       "\n",
       "                                       original_text  \\\n",
       "0  Comparison of Weight-Loss Diets with Different...   \n",
       "0  Effect of Screening Mammography on Breast-Canc...   \n",
       "0  First Results of Phase 3 Trial of RTS,S/AS01 M...   \n",
       "0  First Results of Phase 3 Trial of RTS,S/AS01 M...   \n",
       "0  Exemestane for Breast-Cancer Prevention in Pos...   \n",
       "0  Effect of Three Decades of Screening Mammograp...   \n",
       "0  Effect of Three Decades of Screening Mammograp...   \n",
       "0  Primary Prevention of Cardiovascular Disease w...   \n",
       "0  Primary Prevention of Cardiovascular Disease w...   \n",
       "0  Waning Protection after Fifth Dose of Acellula...   \n",
       "0  Response to a Monovalent 2009 Influenza A (H1N...   \n",
       "0  Effect of Rosiglitazone on the Risk of Myocard...   \n",
       "0  Effect of Rosiglitazone on the Risk of Myocard...   \n",
       "0  Effect of Rosiglitazone on the Risk of Myocard...   \n",
       "0  Adjuvant Exemestane with Ovarian Suppression i...   \n",
       "\n",
       "                                         key_strokes  \\\n",
       "0  ArrowLeft Backspace ArrowLeft ArrowLeft ArrowL...   \n",
       "0  CapsLock A CapsLock s t u d y i n CapsLock N C...   \n",
       "0  Backspace Backspace Backspace Backspace Backsp...   \n",
       "0  Delete Delete Control v t h e 1 c h i s u s e ...   \n",
       "0  Control Control Control Control Control Contro...   \n",
       "0  Shift T o r e d u c e i m m o r t a l i t y , ...   \n",
       "0  b e n i f i t Backspace Backspace Backspace Ba...   \n",
       "0  F11 CapsLock I N A M U L T I C E N T E R T R I...   \n",
       "0  CapsLock D CapsLock e a r f r i e n d i n t h ...   \n",
       "0  Control Control Control Control Control Contro...   \n",
       "0  Control c Shift I n f l u e n z a Shift A Shif...   \n",
       "0  Control C R CapsLock o s i g l i t a z o n e i...   \n",
       "0  Control Control Control Control Control Contro...   \n",
       "0  Enter Shift Backspace Backspace Backspace Shif...   \n",
       "0  Meta c Meta c c Meta v Shift I t i s Backspace...   \n",
       "\n",
       "                                            datetime  \\\n",
       "0  [2023-05-30T02:49:46.401Z, 2023-05-30T02:49:46...   \n",
       "0  [2023-05-29T18:40:24.249Z, 2023-05-29T18:40:24...   \n",
       "0  [2023-05-29T18:24:22.677Z, 2023-05-29T18:24:22...   \n",
       "0  [2023-05-29T18:19:27.221Z, 2023-05-29T18:19:27...   \n",
       "0  [2023-05-29T18:35:17.459Z, 2023-05-29T18:35:17...   \n",
       "0  [2023-05-29T20:22:57.964Z, 2023-05-29T20:22:58...   \n",
       "0  [2023-05-30T04:00:56.353Z, 2023-05-30T04:00:57...   \n",
       "0  [2023-05-30T02:23:03.968Z, 2023-05-30T02:23:17...   \n",
       "0  [2023-05-30T05:17:38.077Z, 2023-05-30T05:17:38...   \n",
       "0  [2023-05-29T20:03:48.474Z, 2023-05-29T20:03:48...   \n",
       "0  [2023-05-29T19:54:00.991Z, 2023-05-29T19:54:01...   \n",
       "0  [2023-05-29T19:22:39.271Z, 2023-05-29T19:22:39...   \n",
       "0  [2023-05-30T01:04:58.326Z, 2023-05-30T01:04:58...   \n",
       "0  [2023-05-29T18:19:45.898Z, 2023-05-29T18:19:45...   \n",
       "0  [2023-05-29T18:28:39.047Z, 2023-05-29T18:28:39...   \n",
       "\n",
       "                                             summary  copied  \n",
       "0  This two-year study found that diets varying i...    True  \n",
       "0  A study in Norway found that screening mammogr...   False  \n",
       "0  Exciting news from a study on a malaria vaccin...   False  \n",
       "0  A phase 3 study of the malaria vaccine RTS, S/...    True  \n",
       "0  here they discuss about the two members  Tamox...    True  \n",
       "0  To reduce mortality, cancer screening programs...   False  \n",
       "0  BENIFIT OF MEDICINE\\nMedicines are chemicals o...   False  \n",
       "0  IN A MULTICENTER TRIAL IN SPIN WE RANDOMLY ASS...   False  \n",
       "0  In this topic myself tell by friend. And this ...   False  \n",
       "0  We assessed the risk of pertussis in children ...    True  \n",
       "0  Influenza A (H1N1) 2009 Monovalent Vaccine  is...    True  \n",
       "0  drugs are widely used to lower blood glucose l...    True  \n",
       "0  it is a medical realated information most impo...    True  \n",
       "0  Rosiglitazone has been found to produce an inc...    True  \n",
       "0  It remains unclear the effect of adjuvant ther...   False  "
      ]
     },
     "execution_count": 83,
     "metadata": {},
     "output_type": "execute_result"
    }
   ],
   "source": [
    "responses[responses[\"key_strokes\"].map(len)> 300]"
   ]
  },
  {
   "cell_type": "code",
   "execution_count": 98,
   "id": "90337e95",
   "metadata": {},
   "outputs": [
    {
     "name": "stdout",
     "output_type": "stream",
     "text": [
      "Effect of Three Decades of Screening Mammography on Breast-Cancer Incidence\n",
      "\n",
      "To reduce mortality, screening must detect life-threatening disease at an earlier, more curable stage. Effective cancer-screening programs therefore both increase the incidence of cancer detected at an early stage and decrease the incidence of cancer presenting at a late stage.\n",
      "\n",
      "We used Surveillance, Epidemiology, and End Results data to examine trends from 1976 through 2008 in the incidence of early-stage breast cancer (ductal carcinoma in situ and localized disease) and late-stage breast cancer (regional and distant disease) among women 40 years of age or older.\n",
      "\n",
      "The introduction of screening mammography in the United States has been associated with a doubling in the number of cases of early-stage breast cancer that are detected each year, from 112 to 234 cases per 100,000 women - an absolute increase of 122 cases per 100,000 women. Concomitantly, the rate at which women present with late-stage cancer has decreased by 8%, from 102 to 94 cases per 100,000 women - an absolute decrease of 8 cases per 100,000 women. With the assumption of a constant underlying disease burden, only 8 of the 122 additional early-stage cancers diagnosed were expected to progress to advanced disease. After excluding the transient excess incidence associated with hormone-replacement therapy and adjusting for trends in the incidence of breast cancer among women younger than 40 years of age, we estimated that breast cancer was overdiagnosed (i.e., tumors were detected on screening that would never have led to clinical symptoms) in 1.3 million U.S. women in the past 30 years. We estimated that in 2008, breast cancer was overdiagnosed in more than 70,000 women; this accounted for 31% of all breast cancers diagnosed.\n",
      "\n",
      "Despite substantial increases in the number of cases of early-stage breast cancer detected, screening mammography has only marginally reduced the rate at which women present with advanced cancer. Although it is not certain which women have been affected, the imbalance suggests that there is substantial overdiagnosis, accounting for nearly a third of all newly diagnosed breast cancers, and that screening is having, at best, only a small effect on the rate of death from breast cancer.\n",
      "\n",
      "\n",
      "---\n",
      "\n",
      "The introduction of screening mammography in the United States has been associated with a doubling in the number of cases of early-stage breast cancer that are detected each year. However, only 8 of the 122 additional early-stage cancers diagnosed were expected to progress to advanced disease. This suggests that there is substantial overdiagnosis of breast cancer, accounting for nearly a third of all newly diagnosed breast cancers. Screening mammography is having, at best, only a small effect on the rate of death from breast cancer.\n",
      "\n",
      "In conclusion, while screening mammography has led to an increase in the number of early-stage breast cancer diagnoses, it is not clear that this has led to a corresponding decrease in the number of breast cancer deaths. Further research is needed to determine the true impact of screening mammography on breast cancer mortality.\n"
     ]
    }
   ],
   "source": [
    "val = 0\n",
    "\n",
    "print(responses[responses[\"HITId\"] == \"3087LXLJ6M1T4CPCOB4J1CIB3EX0FA\"].iloc[val][\"original_text\"])\n",
    "\n",
    "print()\n",
    "print(\"---\")\n",
    "print()\n",
    "print(responses[responses[\"HITId\"] == \"3087LXLJ6M1T4CPCOB4J1CIB3EX0FA\"].iloc[val][\"summary\"])\n",
    "\n"
   ]
  },
  {
   "cell_type": "code",
   "execution_count": 99,
   "id": "5d70245f",
   "metadata": {},
   "outputs": [
    {
     "data": {
      "text/plain": [
       "'Control v'"
      ]
     },
     "execution_count": 99,
     "metadata": {},
     "output_type": "execute_result"
    }
   ],
   "source": [
    "responses[\"key_strokes\"].iloc[8]"
   ]
  },
  {
   "cell_type": "code",
   "execution_count": null,
   "id": "06009b2b",
   "metadata": {},
   "outputs": [],
   "source": [
    "\n"
   ]
  },
  {
   "cell_type": "code",
   "execution_count": 79,
   "id": "72af1d6b",
   "metadata": {},
   "outputs": [
    {
     "data": {
      "text/plain": [
       "'Sibutramine is a weight loss drug that has been shown to be effective in reducing body weight in overweight and obese adults. However, the long-term effects of sibutramine on cardiovascular health have not been well studied.\\n\\nIn this study, researchers conducted a randomized controlled trial to assess the cardiovascular effects of sibutramine in overweight and obese adults with preexisting cardiovascular disease, type 2 diabetes mellitus, or both. The study included 10,744 participants who were randomly assigned to receive either sibutramine or placebo for 3.4 years.\\n\\nThe results of the study showed that sibutramine was associated with an increased risk of nonfatal myocardial infarction and nonfatal stroke. However, sibutramine was not associated with an increased risk of cardiovascular death or death from any cause.\\n\\nBased on the results of this study, the researchers concluded that sibutramine should not be used in overweight and obese adults with preexisting cardiovascular disease.'"
      ]
     },
     "execution_count": 79,
     "metadata": {},
     "output_type": "execute_result"
    }
   ],
   "source": []
  },
  {
   "cell_type": "code",
   "execution_count": null,
   "id": "84574ce9",
   "metadata": {},
   "outputs": [],
   "source": []
  }
 ],
 "metadata": {
  "kernelspec": {
   "display_name": "Python 3 (ipykernel)",
   "language": "python",
   "name": "python3"
  },
  "language_info": {
   "codemirror_mode": {
    "name": "ipython",
    "version": 3
   },
   "file_extension": ".py",
   "mimetype": "text/x-python",
   "name": "python",
   "nbconvert_exporter": "python",
   "pygments_lexer": "ipython3",
   "version": "3.9.16"
  }
 },
 "nbformat": 4,
 "nbformat_minor": 5
}
