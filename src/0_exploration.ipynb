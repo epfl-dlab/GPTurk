{
 "cells": [
  {
   "cell_type": "code",
   "execution_count": 1,
   "id": "34e61f3d",
   "metadata": {},
   "outputs": [],
   "source": [
    "import pandas as pd "
   ]
  },
  {
   "cell_type": "code",
   "execution_count": 2,
   "id": "12124420",
   "metadata": {},
   "outputs": [],
   "source": [
    "df = pd.read_csv(\"../data/Batch_5082026_batch_results (1).csv\")"
   ]
  },
  {
   "cell_type": "code",
   "execution_count": 38,
   "id": "0705700d",
   "metadata": {},
   "outputs": [],
   "source": [
    "def parse_response(x):\n",
    "    summary = x[\"summary\"]\n",
    "    actions = eval(x[\"log_of_what_they_did\"])\n",
    "    \n",
    "    data = {\"keys\": \"\", \"dates\": []}\n",
    "    \n",
    "    for val in actions:\n",
    "        data[\"keys\"] += \" \" + val[1]\n",
    "        data[\"dates\"].append(val[2])\n",
    "    data[\"keys\"] = \" \".join(data[\"keys\"].split()).strip()\n",
    "    \n",
    "    return summary, data"
   ]
  },
  {
   "cell_type": "code",
   "execution_count": null,
   "id": "220d1501",
   "metadata": {},
   "outputs": [],
   "source": []
  },
  {
   "cell_type": "code",
   "execution_count": null,
   "id": "eb1b950a",
   "metadata": {},
   "outputs": [],
   "source": []
  },
  {
   "cell_type": "code",
   "execution_count": 39,
   "id": "8bb06260",
   "metadata": {},
   "outputs": [],
   "source": [
    "relevant_columns = [\"HITId\", \"original_text\",\"key_strokes\", \"datetime\", \"summary\"]\n",
    "\n",
    "responses = pd.DataFrame(columns = relevant_columns)\n",
    "\n",
    "for i, row in df.iterrows():\n",
    "    unparsed = eval(row[\"Answer.taskAnswers\"])[0]\n",
    "    summary, data = parse_response(unparsed)\n",
    "    \n",
    "    key_strokes = data[\"keys\"]\n",
    "    datetime = data[\"dates\"]\n",
    "    \n",
    "    temp = pd.DataFrame([[row[\"HITId\"], row[\"Input.texts\"], key_strokes, datetime, summary]], columns = relevant_columns)\n",
    "    \n",
    "    responses = pd.concat([responses, temp], axis = 0)\n",
    "    \n",
    "    "
   ]
  },
  {
   "cell_type": "code",
   "execution_count": 43,
   "id": "729233b6",
   "metadata": {},
   "outputs": [],
   "source": [
    "def locate_paste(x: str) -> bool:\n",
    "    \"\"\"\n",
    "    This function will attempt to use some heuristics to determine\n",
    "    if the key strokes signify that the text was copied.\n",
    "    \"\"\"\n",
    "    if \"Control v\" in x:\n",
    "        return True\n",
    "    else:\n",
    "        return False\n",
    "    \n",
    "responses[\"copied\"] = responses[\"key_strokes\"].apply(lambda x: locate_paste(x))"
   ]
  },
  {
   "cell_type": "code",
   "execution_count": 45,
   "id": "c6945035",
   "metadata": {},
   "outputs": [
    {
     "data": {
      "text/plain": [
       "copied\n",
       "False    20\n",
       "True     28\n",
       "Name: HITId, dtype: int64"
      ]
     },
     "execution_count": 45,
     "metadata": {},
     "output_type": "execute_result"
    }
   ],
   "source": [
    "responses.groupby(\"copied\")[\"HITId\"].count()"
   ]
  },
  {
   "cell_type": "code",
   "execution_count": 6,
   "id": "2eed45f5",
   "metadata": {},
   "outputs": [],
   "source": [
    "example = '[{\"log_of_what_they_did\":\"[[\\\\\"key\\\\\",\\\\\" \\\\\",\\\\\"2023-05-29T22:30:57.844Z\\\\\"],[\\\\\"key\\\\\",\\\\\" \\\\\",\\\\\"2023-05-29T22:31:23.058Z\\\\\"],[\\\\\"key\\\\\",\\\\\" \\\\\",\\\\\"2023-05-29T22:31:30.693Z\\\\\"],[\\\\\"key\\\\\",\\\\\"Backspace\\\\\",\\\\\"2023-05-29T22:31:40.132Z\\\\\"],[\\\\\"key\\\\\",\\\\\" \\\\\",\\\\\"2023-05-29T22:31:46.134Z\\\\\"],[\\\\\"key\\\\\",\\\\\"Delete\\\\\",\\\\\"2023-05-29T22:31:48.042Z\\\\\"]]\",\"summary\":\"Because carbs usually provide over half of calories consumed, the main reason for weight loss on the Atkins Diet is lower overall calorie intake from eating less carbs. Some studies suggest that there are other reasons for weight loss with the Atkins Diet. You may shed pounds because your food choices are limited. And you eat less since the extra protein and fat keep you feeling full longer. Both of these effects also contribute to lower overall calorie intake. The Atkins Diet says that its eating plan can prevent or improve serious health conditions, such as metabolic syndrome, diabetes, high blood pressure and heart disease. In fact, almost any diet that helps you shed excess Some very low carb diets also restrict carbs so much that they cause you not to have enough nutrients or fiber. This can cause such health problems as constipation, diarrhea and nausea. Eating carbs that are high fiber, whole grain and high in nutrients can improve the health profile of programs like the Atkins Diet, though eight can reduce or even reverse risk factors for heart disease and diabetes. \\\\n\\\\n\"}]'"
   ]
  },
  {
   "cell_type": "code",
   "execution_count": null,
   "id": "c5610e96",
   "metadata": {},
   "outputs": [],
   "source": [
    "def "
   ]
  },
  {
   "cell_type": "code",
   "execution_count": 7,
   "id": "f2f0db49",
   "metadata": {},
   "outputs": [],
   "source": [
    "ex = eval(example)"
   ]
  },
  {
   "cell_type": "code",
   "execution_count": 13,
   "id": "9df7c768",
   "metadata": {},
   "outputs": [
    {
     "data": {
      "text/plain": [
       "[{'log_of_what_they_did': '[[\"key\",\" \",\"2023-05-29T22:30:57.844Z\"],[\"key\",\" \",\"2023-05-29T22:31:23.058Z\"],[\"key\",\" \",\"2023-05-29T22:31:30.693Z\"],[\"key\",\"Backspace\",\"2023-05-29T22:31:40.132Z\"],[\"key\",\" \",\"2023-05-29T22:31:46.134Z\"],[\"key\",\"Delete\",\"2023-05-29T22:31:48.042Z\"]]',\n",
       "  'summary': 'Because carbs usually provide over half of calories consumed, the main reason for weight loss on the Atkins Diet is lower overall calorie intake from eating less carbs. Some studies suggest that there are other reasons for weight loss with the Atkins Diet. You may shed pounds because your food choices are limited. And you eat less since the extra protein and fat keep you feeling full longer. Both of these effects also contribute to lower overall calorie intake. The Atkins Diet says that its eating plan can prevent or improve serious health conditions, such as metabolic syndrome, diabetes, high blood pressure and heart disease. In fact, almost any diet that helps you shed excess Some very low carb diets also restrict carbs so much that they cause you not to have enough nutrients or fiber. This can cause such health problems as constipation, diarrhea and nausea. Eating carbs that are high fiber, whole grain and high in nutrients can improve the health profile of programs like the Atkins Diet, though eight can reduce or even reverse risk factors for heart disease and diabetes. \\n\\n'}]"
      ]
     },
     "execution_count": 13,
     "metadata": {},
     "output_type": "execute_result"
    }
   ],
   "source": []
  },
  {
   "cell_type": "code",
   "execution_count": 27,
   "id": "c9cea9b7",
   "metadata": {},
   "outputs": [],
   "source": [
    "exx = ex[0][\"summary\"]"
   ]
  },
  {
   "cell_type": "code",
   "execution_count": null,
   "id": "0d524143",
   "metadata": {},
   "outputs": [],
   "source": []
  },
  {
   "cell_type": "code",
   "execution_count": 11,
   "id": "9b690b87",
   "metadata": {},
   "outputs": [],
   "source": [
    "ex2 = ex[0][\"log_of_what_they_did\"]\n",
    "ex2 = eval(ex2)"
   ]
  },
  {
   "cell_type": "code",
   "execution_count": 24,
   "id": "a7530f82",
   "metadata": {},
   "outputs": [],
   "source": [
    "data = {\"keys\": \"\", \"dates\": []}\n"
   ]
  },
  {
   "cell_type": "code",
   "execution_count": 25,
   "id": "3b15cb85",
   "metadata": {},
   "outputs": [
    {
     "data": {
      "text/plain": [
       "'Backspace Delete'"
      ]
     },
     "execution_count": 25,
     "metadata": {},
     "output_type": "execute_result"
    }
   ],
   "source": []
  },
  {
   "cell_type": "code",
   "execution_count": null,
   "id": "03ab1ff2",
   "metadata": {},
   "outputs": [],
   "source": []
  }
 ],
 "metadata": {
  "kernelspec": {
   "display_name": "Python 3 (ipykernel)",
   "language": "python",
   "name": "python3"
  },
  "language_info": {
   "codemirror_mode": {
    "name": "ipython",
    "version": 3
   },
   "file_extension": ".py",
   "mimetype": "text/x-python",
   "name": "python",
   "nbconvert_exporter": "python",
   "pygments_lexer": "ipython3",
   "version": "3.9.16"
  }
 },
 "nbformat": 4,
 "nbformat_minor": 5
}
