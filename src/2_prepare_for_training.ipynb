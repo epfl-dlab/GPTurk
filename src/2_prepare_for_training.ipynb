{
 "cells": [
  {
   "cell_type": "markdown",
   "id": "666a430e",
   "metadata": {},
   "source": [
    "# Prepare the base.json file\n",
    "After finishing this notebook run ```src/data_processing/prepare_train_test.py```."
   ]
  },
  {
   "cell_type": "code",
   "execution_count": 776,
   "id": "8cfef5d2",
   "metadata": {},
   "outputs": [],
   "source": [
    "import pandas as pd\n",
    "import re\n",
    "import matplotlib.pyplot as plt\n",
    "\n",
    "from string2string.alignment import LongestCommonSubsequence, LongestCommonSubstring\n",
    "from string2string.distance import JaccardIndex\n",
    "from string2string.misc.default_tokenizer import Tokenizer\n",
    "import numpy as np\n",
    "\n",
    "from sklearn.model_selection import train_test_split"
   ]
  },
  {
   "cell_type": "code",
   "execution_count": 777,
   "id": "fd335ca9",
   "metadata": {},
   "outputs": [],
   "source": [
    "generated = pd.read_csv(\"../data/generated_outputs.csv\")\n",
    "# generated = generated[temperatures].melt().rename({\"variable\": \"temperature\", \"value\": \"text\"}, axis=1)"
   ]
  },
  {
   "cell_type": "code",
   "execution_count": 778,
   "id": "1d97019c",
   "metadata": {},
   "outputs": [],
   "source": [
    "original = pd.read_csv(\"../summaries.csv\")"
   ]
  },
  {
   "cell_type": "code",
   "execution_count": 779,
   "id": "429f95ef",
   "metadata": {},
   "outputs": [],
   "source": [
    "new = pd.read_csv(\"../data/processed_responses.csv\").drop(\"HITId\", axis=1)"
   ]
  },
  {
   "cell_type": "code",
   "execution_count": 781,
   "id": "1a51dc47",
   "metadata": {},
   "outputs": [],
   "source": [
    "qids = pd.read_csv(\"../data/qids.csv\")"
   ]
  },
  {
   "cell_type": "code",
   "execution_count": 782,
   "id": "b7e1c13e",
   "metadata": {},
   "outputs": [],
   "source": [
    "# temperatures = [str(k) for k in [0.3, 0.5, 0.7, 0.9, 1]]\n",
    "temperatures = [str(k) for k in [0.7, 0.9]]"
   ]
  },
  {
   "cell_type": "code",
   "execution_count": 783,
   "id": "ae6bf919",
   "metadata": {},
   "outputs": [],
   "source": [
    "def extract_answer(text):\n",
    "    pattern = r\"<FreeText>(.*?)</FreeText>\"\n",
    "    matches = re.findall(pattern, text, re.DOTALL)\n",
    "\n",
    "    return matches[1]\n",
    "original[\"Answer\"] = original[\"Answer\"].apply(lambda x: extract_answer(x))"
   ]
  },
  {
   "cell_type": "code",
   "execution_count": 784,
   "id": "10f7ddd0",
   "metadata": {},
   "outputs": [],
   "source": [
    "# generated[\"texts\"] = generated[\"text\"].apply(lambda x: x[4:20]).str.lower()\n",
    "# qids[\"question\"] = qids[\"question\"].apply(lambda x: x[4:20]).str.lower()"
   ]
  },
  {
   "cell_type": "code",
   "execution_count": 785,
   "id": "788b12dd",
   "metadata": {},
   "outputs": [],
   "source": [
    "# new[\"original_text\"] = new[\"original_text\"].apply(lambda x: x[4:20]).str.lower()"
   ]
  },
  {
   "cell_type": "code",
   "execution_count": 786,
   "id": "91b88fa4",
   "metadata": {},
   "outputs": [],
   "source": [
    "original = original[[\"Question\", \"Answer\"]]"
   ]
  },
  {
   "cell_type": "code",
   "execution_count": 787,
   "id": "2c7c81e1",
   "metadata": {},
   "outputs": [
    {
     "data": {
      "text/plain": [
       "16"
      ]
     },
     "execution_count": 787,
     "metadata": {},
     "output_type": "execute_result"
    }
   ],
   "source": [
    "len(qids[\"HITId\"].unique())"
   ]
  },
  {
   "cell_type": "code",
   "execution_count": null,
   "id": "60e3b06f",
   "metadata": {},
   "outputs": [],
   "source": []
  },
  {
   "cell_type": "code",
   "execution_count": 788,
   "id": "00f8bc29",
   "metadata": {},
   "outputs": [],
   "source": [
    "new[\"match_on\"] = new[\"original_text\"].apply(lambda x: \" \".join(x.split()[0:3]))\n",
    "qids[\"match_on\"] = qids[\"question\"].apply(lambda x: \" \".join(x.split()[0:3]))"
   ]
  },
  {
   "cell_type": "code",
   "execution_count": 789,
   "id": "4b1167c5",
   "metadata": {},
   "outputs": [],
   "source": [
    "new = new.merge(qids, on=\"match_on\")"
   ]
  },
  {
   "cell_type": "code",
   "execution_count": 790,
   "id": "40c3d9f2",
   "metadata": {},
   "outputs": [],
   "source": [
    "abstracts = new[[\"original_text\", \"HITId\"]]"
   ]
  },
  {
   "cell_type": "code",
   "execution_count": null,
   "id": "9704dfed",
   "metadata": {},
   "outputs": [],
   "source": []
  },
  {
   "cell_type": "code",
   "execution_count": 794,
   "id": "b2cb77a1",
   "metadata": {},
   "outputs": [],
   "source": [
    "new = new[[\"HITId\",\"summary\"]]"
   ]
  },
  {
   "cell_type": "code",
   "execution_count": 795,
   "id": "021578cd",
   "metadata": {},
   "outputs": [],
   "source": [
    "abstracts = abstracts.drop_duplicates().reset_index(drop=True)"
   ]
  },
  {
   "cell_type": "code",
   "execution_count": 796,
   "id": "5bc3ee14",
   "metadata": {},
   "outputs": [
    {
     "data": {
      "text/html": [
       "<div>\n",
       "<style scoped>\n",
       "    .dataframe tbody tr th:only-of-type {\n",
       "        vertical-align: middle;\n",
       "    }\n",
       "\n",
       "    .dataframe tbody tr th {\n",
       "        vertical-align: top;\n",
       "    }\n",
       "\n",
       "    .dataframe thead th {\n",
       "        text-align: right;\n",
       "    }\n",
       "</style>\n",
       "<table border=\"1\" class=\"dataframe\">\n",
       "  <thead>\n",
       "    <tr style=\"text-align: right;\">\n",
       "      <th></th>\n",
       "      <th>original_text</th>\n",
       "      <th>HITId</th>\n",
       "    </tr>\n",
       "  </thead>\n",
       "  <tbody>\n",
       "    <tr>\n",
       "      <th>0</th>\n",
       "      <td>Comparison of Weight-Loss Diets with Different...</td>\n",
       "      <td>NEJMoa0804748</td>\n",
       "    </tr>\n",
       "    <tr>\n",
       "      <th>1</th>\n",
       "      <td>Effect of Screening Mammography on Breast-Canc...</td>\n",
       "      <td>NEJMoa1000727</td>\n",
       "    </tr>\n",
       "    <tr>\n",
       "      <th>2</th>\n",
       "      <td>First Results of Phase 3 Trial of RTS,S/AS01 M...</td>\n",
       "      <td>NEJMoa1102287</td>\n",
       "    </tr>\n",
       "    <tr>\n",
       "      <th>3</th>\n",
       "      <td>Azithromycin and the Risk of Cardiovascular De...</td>\n",
       "      <td>NEJMoa1003833</td>\n",
       "    </tr>\n",
       "    <tr>\n",
       "      <th>4</th>\n",
       "      <td>Effect of Sibutramine on Cardiovascular Outcom...</td>\n",
       "      <td>NEJMoa1003114</td>\n",
       "    </tr>\n",
       "    <tr>\n",
       "      <th>5</th>\n",
       "      <td>Exemestane for Breast-Cancer Prevention in Pos...</td>\n",
       "      <td>NEJMoa1103507</td>\n",
       "    </tr>\n",
       "    <tr>\n",
       "      <th>6</th>\n",
       "      <td>Effect of Three Decades of Screening Mammograp...</td>\n",
       "      <td>NEJMoa1206809</td>\n",
       "    </tr>\n",
       "    <tr>\n",
       "      <th>7</th>\n",
       "      <td>Primary Prevention of Cardiovascular Disease w...</td>\n",
       "      <td>NEJMoa1200303</td>\n",
       "    </tr>\n",
       "    <tr>\n",
       "      <th>8</th>\n",
       "      <td>Waning Protection after Fifth Dose of Acellula...</td>\n",
       "      <td>NEJMoa1200850</td>\n",
       "    </tr>\n",
       "    <tr>\n",
       "      <th>9</th>\n",
       "      <td>Changes in Diet and Lifestyle and Long-Term We...</td>\n",
       "      <td>NEJMoa1014296</td>\n",
       "    </tr>\n",
       "    <tr>\n",
       "      <th>10</th>\n",
       "      <td>A Population-Based Study of Measles, Mumps, an...</td>\n",
       "      <td>NEJMoa021134</td>\n",
       "    </tr>\n",
       "    <tr>\n",
       "      <th>11</th>\n",
       "      <td>Response to a Monovalent 2009 Influenza A (H1N...</td>\n",
       "      <td>NEJMoa0907413</td>\n",
       "    </tr>\n",
       "    <tr>\n",
       "      <th>12</th>\n",
       "      <td>Association of Coffee Drinking with Total and ...</td>\n",
       "      <td>NEJMoa1112010</td>\n",
       "    </tr>\n",
       "    <tr>\n",
       "      <th>13</th>\n",
       "      <td>Effect of Rosiglitazone on the Risk of Myocard...</td>\n",
       "      <td>NEJMoa072761</td>\n",
       "    </tr>\n",
       "    <tr>\n",
       "      <th>14</th>\n",
       "      <td>Adjuvant Exemestane with Ovarian Suppression i...</td>\n",
       "      <td>NEJMoa1404037</td>\n",
       "    </tr>\n",
       "    <tr>\n",
       "      <th>15</th>\n",
       "      <td>Global Sodium Consumption and Death from Cardi...</td>\n",
       "      <td>NEJMoa1304127</td>\n",
       "    </tr>\n",
       "  </tbody>\n",
       "</table>\n",
       "</div>"
      ],
      "text/plain": [
       "                                        original_text          HITId\n",
       "0   Comparison of Weight-Loss Diets with Different...  NEJMoa0804748\n",
       "1   Effect of Screening Mammography on Breast-Canc...  NEJMoa1000727\n",
       "2   First Results of Phase 3 Trial of RTS,S/AS01 M...  NEJMoa1102287\n",
       "3   Azithromycin and the Risk of Cardiovascular De...  NEJMoa1003833\n",
       "4   Effect of Sibutramine on Cardiovascular Outcom...  NEJMoa1003114\n",
       "5   Exemestane for Breast-Cancer Prevention in Pos...  NEJMoa1103507\n",
       "6   Effect of Three Decades of Screening Mammograp...  NEJMoa1206809\n",
       "7   Primary Prevention of Cardiovascular Disease w...  NEJMoa1200303\n",
       "8   Waning Protection after Fifth Dose of Acellula...  NEJMoa1200850\n",
       "9   Changes in Diet and Lifestyle and Long-Term We...  NEJMoa1014296\n",
       "10  A Population-Based Study of Measles, Mumps, an...   NEJMoa021134\n",
       "11  Response to a Monovalent 2009 Influenza A (H1N...  NEJMoa0907413\n",
       "12  Association of Coffee Drinking with Total and ...  NEJMoa1112010\n",
       "13  Effect of Rosiglitazone on the Risk of Myocard...   NEJMoa072761\n",
       "14  Adjuvant Exemestane with Ovarian Suppression i...  NEJMoa1404037\n",
       "15  Global Sodium Consumption and Death from Cardi...  NEJMoa1304127"
      ]
     },
     "execution_count": 796,
     "metadata": {},
     "output_type": "execute_result"
    }
   ],
   "source": [
    "abstracts"
   ]
  },
  {
   "cell_type": "code",
   "execution_count": 424,
   "id": "717d5ac7",
   "metadata": {},
   "outputs": [],
   "source": [
    "# new = new[new[\"text\"].map(len) > 150]"
   ]
  },
  {
   "cell_type": "code",
   "execution_count": null,
   "id": "bffbf1ef",
   "metadata": {},
   "outputs": [],
   "source": []
  },
  {
   "cell_type": "code",
   "execution_count": 797,
   "id": "b7c788b7",
   "metadata": {},
   "outputs": [
    {
     "data": {
      "text/html": [
       "<div>\n",
       "<style scoped>\n",
       "    .dataframe tbody tr th:only-of-type {\n",
       "        vertical-align: middle;\n",
       "    }\n",
       "\n",
       "    .dataframe tbody tr th {\n",
       "        vertical-align: top;\n",
       "    }\n",
       "\n",
       "    .dataframe thead th {\n",
       "        text-align: right;\n",
       "    }\n",
       "</style>\n",
       "<table border=\"1\" class=\"dataframe\">\n",
       "  <thead>\n",
       "    <tr style=\"text-align: right;\">\n",
       "      <th></th>\n",
       "      <th>original_text</th>\n",
       "      <th>HITId</th>\n",
       "      <th>Answer</th>\n",
       "    </tr>\n",
       "  </thead>\n",
       "  <tbody>\n",
       "    <tr>\n",
       "      <th>0</th>\n",
       "      <td>Comparison of Weight-Loss Diets with Different...</td>\n",
       "      <td>NEJMoa0804748</td>\n",
       "      <td>The possible advantage for weight loss of a di...</td>\n",
       "    </tr>\n",
       "    <tr>\n",
       "      <th>1</th>\n",
       "      <td>Comparison of Weight-Loss Diets with Different...</td>\n",
       "      <td>NEJMoa0804748</td>\n",
       "      <td>The advantage for weight loss on a diet that e...</td>\n",
       "    </tr>\n",
       "    <tr>\n",
       "      <th>2</th>\n",
       "      <td>Comparison of Weight-Loss Diets with Different...</td>\n",
       "      <td>NEJMoa0804748</td>\n",
       "      <td>We compared the result of weight loss with fou...</td>\n",
       "    </tr>\n",
       "    <tr>\n",
       "      <th>3</th>\n",
       "      <td>Comparison of Weight-Loss Diets with Different...</td>\n",
       "      <td>NEJMoa0804748</td>\n",
       "      <td>A trial was conducted to see whether weight lo...</td>\n",
       "    </tr>\n",
       "    <tr>\n",
       "      <th>4</th>\n",
       "      <td>Comparison of Weight-Loss Diets with Different...</td>\n",
       "      <td>NEJMoa0804748</td>\n",
       "      <td>A research study examined the effect of weight...</td>\n",
       "    </tr>\n",
       "    <tr>\n",
       "      <th>...</th>\n",
       "      <td>...</td>\n",
       "      <td>...</td>\n",
       "      <td>...</td>\n",
       "    </tr>\n",
       "    <tr>\n",
       "      <th>123</th>\n",
       "      <td>Global Sodium Consumption and Death from Cardi...</td>\n",
       "      <td>NEJMoa1304127</td>\n",
       "      <td>The risk of death from high sodium consumption...</td>\n",
       "    </tr>\n",
       "    <tr>\n",
       "      <th>124</th>\n",
       "      <td>Global Sodium Consumption and Death from Cardi...</td>\n",
       "      <td>NEJMoa1304127</td>\n",
       "      <td>While high sodium increases blood pressure and...</td>\n",
       "    </tr>\n",
       "    <tr>\n",
       "      <th>125</th>\n",
       "      <td>Global Sodium Consumption and Death from Cardi...</td>\n",
       "      <td>NEJMoa1304127</td>\n",
       "      <td>High blood pressure is a risk factor for cardi...</td>\n",
       "    </tr>\n",
       "    <tr>\n",
       "      <th>126</th>\n",
       "      <td>Global Sodium Consumption and Death from Cardi...</td>\n",
       "      <td>NEJMoa1304127</td>\n",
       "      <td>A global study was done on whether high sodium...</td>\n",
       "    </tr>\n",
       "    <tr>\n",
       "      <th>127</th>\n",
       "      <td>Global Sodium Consumption and Death from Cardi...</td>\n",
       "      <td>NEJMoa1304127</td>\n",
       "      <td>High sodium intake increases blood pressure bu...</td>\n",
       "    </tr>\n",
       "  </tbody>\n",
       "</table>\n",
       "<p>128 rows × 3 columns</p>\n",
       "</div>"
      ],
      "text/plain": [
       "                                         original_text          HITId   \n",
       "0    Comparison of Weight-Loss Diets with Different...  NEJMoa0804748  \\\n",
       "1    Comparison of Weight-Loss Diets with Different...  NEJMoa0804748   \n",
       "2    Comparison of Weight-Loss Diets with Different...  NEJMoa0804748   \n",
       "3    Comparison of Weight-Loss Diets with Different...  NEJMoa0804748   \n",
       "4    Comparison of Weight-Loss Diets with Different...  NEJMoa0804748   \n",
       "..                                                 ...            ...   \n",
       "123  Global Sodium Consumption and Death from Cardi...  NEJMoa1304127   \n",
       "124  Global Sodium Consumption and Death from Cardi...  NEJMoa1304127   \n",
       "125  Global Sodium Consumption and Death from Cardi...  NEJMoa1304127   \n",
       "126  Global Sodium Consumption and Death from Cardi...  NEJMoa1304127   \n",
       "127  Global Sodium Consumption and Death from Cardi...  NEJMoa1304127   \n",
       "\n",
       "                                                Answer  \n",
       "0    The possible advantage for weight loss of a di...  \n",
       "1    The advantage for weight loss on a diet that e...  \n",
       "2    We compared the result of weight loss with fou...  \n",
       "3    A trial was conducted to see whether weight lo...  \n",
       "4    A research study examined the effect of weight...  \n",
       "..                                                 ...  \n",
       "123  The risk of death from high sodium consumption...  \n",
       "124  While high sodium increases blood pressure and...  \n",
       "125  High blood pressure is a risk factor for cardi...  \n",
       "126  A global study was done on whether high sodium...  \n",
       "127  High sodium intake increases blood pressure bu...  \n",
       "\n",
       "[128 rows x 3 columns]"
      ]
     },
     "execution_count": 797,
     "metadata": {},
     "output_type": "execute_result"
    }
   ],
   "source": [
    "abstracts.merge(original.rename({\"Question\": \"HITId\"}, axis=1), on=\"HITId\")"
   ]
  },
  {
   "cell_type": "code",
   "execution_count": 798,
   "id": "298c1a15",
   "metadata": {},
   "outputs": [
    {
     "name": "stderr",
     "output_type": "stream",
     "text": [
      "/tmp/ipykernel_2799387/3115519750.py:8: SettingWithCopyWarning: \n",
      "A value is trying to be set on a copy of a slice from a DataFrame.\n",
      "Try using .loc[row_indexer,col_indexer] = value instead\n",
      "\n",
      "See the caveats in the documentation: https://pandas.pydata.org/pandas-docs/stable/user_guide/indexing.html#returning-a-view-versus-a-copy\n",
      "  gen[\"labels\"] = \"synthetic\"\n"
     ]
    }
   ],
   "source": [
    "def prepare_for_finetuning(gen, real, abstracts):\n",
    "    real = real.rename({\"Question\":\"HITId\", \"Answer\":\"text\"}, axis=1)\n",
    "    gen = gen[[\"HITId\", \"text\"]]\n",
    "    \n",
    "    # add labels\n",
    "    real[\"labels\"] = \"real\"\n",
    "    real[\"class\"] = \"old-summaries\"\n",
    "    gen[\"labels\"] = \"synthetic\"\n",
    "    gen[\"class\"] = \"gen-summaries\"\n",
    "\n",
    "    abstracts[\"labels\"] = \"real\"\n",
    "    abstracts[\"class\"] = \"abstract\"\n",
    "    abstracts = abstracts.rename({\"original_text\":\"text\"}, axis=1)\n",
    "\n",
    "    return pd.concat([real, gen, abstracts], axis=0).sample(frac=1)\n",
    "\n",
    "\n",
    "for_training = prepare_for_finetuning(generated, original, abstracts)\n",
    "\n",
    "for_training.to_json(\"../data/base.json\", orient=\"records\", indent=2)"
   ]
  },
  {
   "cell_type": "code",
   "execution_count": null,
   "id": "f8b13255",
   "metadata": {},
   "outputs": [],
   "source": []
  }
 ],
 "metadata": {
  "kernelspec": {
   "display_name": "Python 3 (ipykernel)",
   "language": "python",
   "name": "python3"
  },
  "language_info": {
   "codemirror_mode": {
    "name": "ipython",
    "version": 3
   },
   "file_extension": ".py",
   "mimetype": "text/x-python",
   "name": "python",
   "nbconvert_exporter": "python",
   "pygments_lexer": "ipython3",
   "version": "3.9.16"
  }
 },
 "nbformat": 4,
 "nbformat_minor": 5
}
